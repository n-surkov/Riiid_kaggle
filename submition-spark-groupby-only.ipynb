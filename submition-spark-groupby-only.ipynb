{
 "cells": [
  {
   "cell_type": "code",
   "execution_count": 1,
   "metadata": {},
   "outputs": [
    {
     "name": "stderr",
     "output_type": "stream",
     "text": [
      "/Users/n-surkov/opt/anaconda3/lib/python3.7/site-packages/lightgbm/__init__.py:48: UserWarning: Starting from version 2.2.1, the library file in distribution wheels for macOS is built by the Apple Clang (Xcode_8.3.3) compiler.\n",
      "This means that in case of installing LightGBM from PyPI via the ``pip install lightgbm`` command, you don't need to install the gcc compiler anymore.\n",
      "Instead of that, you need to install the OpenMP library, which is required for running LightGBM on the system with the Apple Clang compiler.\n",
      "You can install the OpenMP library by the following command: ``brew install libomp``.\n",
      "  \"You can install the OpenMP library by the following command: ``brew install libomp``.\", UserWarning)\n"
     ]
    }
   ],
   "source": [
    "import matplotlib.pyplot as plt\n",
    "import seaborn as sns\n",
    "import pandas as pd\n",
    "import os\n",
    "import gc\n",
    "import numpy as np\n",
    "from sklearn.model_selection import StratifiedKFold, train_test_split, GridSearchCV\n",
    "from sklearn import metrics\n",
    "import lightgbm as lgbm\n",
    "from sklearn import metrics\n",
    "import re\n",
    "import pickle"
   ]
  },
  {
   "cell_type": "markdown",
   "metadata": {},
   "source": [
    "# Все основные агрегаты считались в спарке"
   ]
  },
  {
   "cell_type": "code",
   "execution_count": 2,
   "metadata": {},
   "outputs": [],
   "source": [
    "def memory_usage(df, name):\n",
    "    mb = df.memory_usage().sum() / 1024 / 1024\n",
    "    print(name + ' use {:.2f} mb in memory'.format(mb))"
   ]
  },
  {
   "cell_type": "markdown",
   "metadata": {},
   "source": [
    "# TODO\n",
    "* Нужно возвращаться к пачкам вопросов в смысле попыток. В разрезе контента по времени не влезаем."
   ]
  },
  {
   "cell_type": "markdown",
   "metadata": {},
   "source": [
    "# Загрузка данных"
   ]
  },
  {
   "cell_type": "code",
   "execution_count": 3,
   "metadata": {},
   "outputs": [],
   "source": [
    "kaggle_data_path = './data'\n",
    "#kaggle_data_path = '/kaggle/input'\n",
    "# user_data_path = './data/spark_data_src'\n",
    "user_data_path = './data/spark_data'\n",
    "for dirname, _, filenames in os.walk(kaggle_data_path):\n",
    "    for filename in filenames:\n",
    "        current_file_path = os.path.join(dirname, filename)\n",
    "        if 'lectures.csv' in current_file_path:\n",
    "            lectures_path = current_file_path\n",
    "        if 'questions.csv' in current_file_path:\n",
    "            questions_path = current_file_path\n",
    "        if 'train.csv' in current_file_path:\n",
    "            data_path = current_file_path\n",
    "#         print(current_file_path)"
   ]
  },
  {
   "cell_type": "code",
   "execution_count": 4,
   "metadata": {},
   "outputs": [
    {
     "name": "stdout",
     "output_type": "stream",
     "text": [
      "train_data use 2917.75 mb in memory\n",
      "question_characteristics use 0.77 mb in memory\n",
      "users_characteristics use 31.54 mb in memory\n",
      "users_characteristics_first_user_answers use 31.53 mb in memory\n",
      "valid_data use 6.13 mb in memory\n",
      "users_characteristics_last_user_answers use 31.53 mb in memory\n",
      "valid_data use 10.15 mb in memory\n"
     ]
    }
   ],
   "source": [
    "with open(os.path.join(user_data_path, 'train_data.pickle'), 'rb') as fo:\n",
    "    train_data = pickle.load(fo)\n",
    "memory_usage(train_data, 'train_data')\n",
    "with open(os.path.join(user_data_path, 'questions_chars.pickle'), 'rb') as fo:\n",
    "    question_characteristics = pickle.load(fo)\n",
    "memory_usage(question_characteristics, 'question_characteristics')\n",
    "with open(os.path.join(user_data_path, 'users_characteristics.pickle'), 'rb') as fo:\n",
    "    users_chars = pickle.load(fo)\n",
    "memory_usage(users_chars, 'users_characteristics')\n",
    "tags = ['first_user_answers', 'last_user_answers']\n",
    "users_chars_valid = {}\n",
    "valid_data = {}\n",
    "for tag in tags:\n",
    "    with open(os.path.join(user_data_path, 'users_characteristics_' + tag + '.pickle'), 'rb') as fo:\n",
    "        users_chars_valid[tag] = pickle.load(fo).drop(columns='attempts_count')\n",
    "        users_chars_valid[tag].loc[:, 'user_accuracy'] = users_chars_valid[tag].loc[:, 'user_correct_answers_count'] / users_chars_valid[tag].loc[:, 'user_answers_count']\n",
    "    memory_usage(users_chars_valid[tag], 'users_characteristics_' + tag)\n",
    "    with open(os.path.join(user_data_path, 'valid_data_' + tag + '.pickle'), 'rb') as fo:\n",
    "        valid_data[tag] = pickle.load(fo)\n",
    "    memory_usage(valid_data[tag], 'valid_data')"
   ]
  },
  {
   "cell_type": "code",
   "execution_count": 5,
   "metadata": {},
   "outputs": [],
   "source": [
    "# # Расчитываем средние характеристики\n",
    "# part_time_characteristics = (\n",
    "#     question_characteristics\n",
    "#     .groupby('part')['question_elapsed_time_mean']\n",
    "#     .mean().reset_index()\n",
    "# )\n",
    "# part_time_characteristics.columns = ['part', 'question_elapsed_time_part_mean']\n",
    "# df = users_chars[['user_elapsed_time', 'user_bundle_count']].sum()\n",
    "# user_time_mean = df['user_elapsed_time'] / df['user_bundle_count']"
   ]
  },
  {
   "cell_type": "code",
   "execution_count": 6,
   "metadata": {},
   "outputs": [],
   "source": [
    "# with open(os.path.join(user_data_path, 'train_data_part1.pickle'), 'rb') as fo:\n",
    "#     train_data_1 = pickle.load(fo)\n",
    "# with open(os.path.join(user_data_path, 'train_data_part2.pickle'), 'rb') as fo:\n",
    "#     train_data_2 = pickle.load(fo)\n",
    "# train_data = pd.concat([train_data_1, train_data_2])\n",
    "# with open(os.path.join(user_data_path, 'train_data.pickle'), 'wb') as fo:\n",
    "#     pickle.dump(train_data, fo)"
   ]
  },
  {
   "cell_type": "code",
   "execution_count": 7,
   "metadata": {},
   "outputs": [],
   "source": [
    "# with open(os.path.join(user_data_path, 'train_data_newbie.pickle'), 'wb') as fo:\n",
    "#     train_data_newbie['attempts'] = train_data_newbie['attempts'].astype(int)\n",
    "#     pickle.dump(train_data_newbie, fo)"
   ]
  },
  {
   "cell_type": "code",
   "execution_count": 8,
   "metadata": {},
   "outputs": [],
   "source": [
    "# with open(os.path.join(user_data_path, 'users_characteristics.pickle'), 'wb') as fo:\n",
    "#     df = users_chars.copy()\n",
    "#     df['user_delay_mean'] = df['user_total_bundle_delay'] / df['user_bundle_count']\n",
    "#     df.drop(columns=['user_total_bundle_delay'], inplace=True)\n",
    "#     df['user_explanation_rate'] = df['user_explanation_count'] / df['user_bundle_count']\n",
    "#     df['user_elapsed_time_mean'] = df['user_elapsed_time'] / df['user_bundle_count']\n",
    "#     pickle.dump(df, fo)"
   ]
  },
  {
   "cell_type": "code",
   "execution_count": 9,
   "metadata": {},
   "outputs": [],
   "source": [
    "# tags = ['first_user_answers', 'last_user_answers', 'random']\n",
    "# for tag in tags:\n",
    "#     with open(os.path.join(user_data_path, 'users_characteristics_' + tag + '.pickle'), 'wb') as fo:\n",
    "#         df = users_chars_valid[tag].copy()\n",
    "#         df['user_delay_mean'] = df['user_total_bundle_delay'] / df['user_bundle_count']\n",
    "#         df.drop(columns=['user_total_bundle_delay'], inplace=True)\n",
    "#         df['user_explanation_rate'] = df['user_explanation_count'] / df['user_bundle_count']\n",
    "#         df['user_elapsed_time_mean'] = df['user_elapsed_time'] / df['user_bundle_count']\n",
    "#         pickle.dump(df, fo)"
   ]
  },
  {
   "cell_type": "code",
   "execution_count": 10,
   "metadata": {},
   "outputs": [],
   "source": [
    "# tags = ['first_user_answers', 'last_user_answers']\n",
    "# for tag in tags:\n",
    "#     with open(os.path.join(user_data_path, 'valid_data_' + tag + '.pickle'), 'wb') as fo:\n",
    "#         df = valid_data[tag][['row_id', 'timestamp', 'user_id', 'content_id',\n",
    "#                         'task_container_id', 'answered_correctly',\n",
    "#                         'prior_question_elapsed_time', 'prior_question_had_explanation']]\n",
    "#         # Собираем общий массив\n",
    "#         df['content_type_id'] = 0\n",
    "#         df = df.loc[df.answered_correctly != -1, :]\n",
    "#         pickle.dump(df, fo)"
   ]
  },
  {
   "cell_type": "markdown",
   "metadata": {},
   "source": [
    "# Обновление характеристик"
   ]
  },
  {
   "cell_type": "code",
   "execution_count": 5,
   "metadata": {},
   "outputs": [],
   "source": [
    "def split_characteristics(test_df, user_chars, q_chars):\n",
    "    users = list(test_df.user_id.unique())\n",
    "    index = user_chars.user_id.isin(users)\n",
    "    static_user_chars = user_chars.loc[~index, :]\n",
    "    update_user_chars = user_chars.loc[index, :]\n",
    "    \n",
    "    contents = list(test_df.content_id.unique())\n",
    "    index = q_chars.content_id.isin(contents)\n",
    "    static_q_chars = q_chars.loc[~index, :]\n",
    "    update_q_chars = q_chars.loc[index, :]\n",
    "    \n",
    "    return static_user_chars, update_user_chars, static_q_chars, update_q_chars"
   ]
  },
  {
   "cell_type": "code",
   "execution_count": 6,
   "metadata": {},
   "outputs": [],
   "source": [
    "def merge_data(data, q_chars):\n",
    "    # Выбираем нужные колонки из теста\n",
    "    data_columns = ['row_id', 'timestamp', 'user_id', 'content_id', 'content_type_id',\n",
    "                    'prior_question_elapsed_time', 'prior_question_had_explanation']\n",
    "    data = data.loc[:, data_columns]\n",
    "    \n",
    "    # Собираем общий массив\n",
    "    full_df = (\n",
    "        data\n",
    "        .merge(q_chars, on='content_id', how='left')\n",
    "    )\n",
    "    \n",
    "    # Заполнение наллов в просмотре ответов\n",
    "    index = full_df['prior_question_had_explanation'].isnull()\n",
    "    full_df.loc[index, 'prior_question_had_explanation'] = False\n",
    "    full_df.loc[index, 'prior_question_elapsed_time'] = 0.\n",
    "    \n",
    "    # Приводим типы\n",
    "    full_df['part'] = full_df['part'].astype('int8')\n",
    "    full_df['prior_question_had_explanation'] = full_df['prior_question_had_explanation'].astype('int8')\n",
    "    full_df['prior_question_elapsed_time'] = full_df['prior_question_elapsed_time'].astype('float64')\n",
    "    \n",
    "    return full_df.sort_values(['user_id', 'timestamp'])"
   ]
  },
  {
   "cell_type": "code",
   "execution_count": 11,
   "metadata": {},
   "outputs": [],
   "source": [
    "def get_users_bundles_characteristics(full_df, u_chars):\n",
    "    # Характеристики пачек\n",
    "    group_cols = ['user_id', 'timestamp', 'bundle_id', \n",
    "                  'prior_question_elapsed_time', \n",
    "                  'prior_question_had_explanation']\n",
    "    aggregates = {\n",
    "        'question_elapsed_time_mean': ['count', 'sum']\n",
    "    }\n",
    "    bundles = full_df.groupby(group_cols).agg(aggregates).reset_index()\n",
    "    new_cols = group_cols + ['bundle_content_count', 'bundle_elapsed_time_avg']\n",
    "    bundles.columns = new_cols\n",
    "    \n",
    "    # Характеристики времени ответов и подсказок\n",
    "    u_chars.loc[:, 'prior_question_had_explanation'] = 0\n",
    "    u_chars.loc[:, 'prior_question_elapsed_time'] = 0\n",
    "    bundles = pd.concat([u_chars.loc[:, bundles.columns], bundles]).sort_values(['user_id', 'timestamp'])\n",
    "    u_chars.drop(columns=['prior_question_had_explanation', 'prior_question_elapsed_time'], inplace=True)\n",
    "    bundles[['user_bundle_elapsed_time', 'user_bundle_explanation']] = (\n",
    "        bundles\n",
    "        .groupby('user_id')[['prior_question_elapsed_time', 'prior_question_had_explanation']].shift(-1)\n",
    "        .fillna(0)\n",
    "    )\n",
    "    bundles.loc[:, 'user_bundle_elapsed_time'] *= bundles.loc[:, 'bundle_content_count']\n",
    "    bundles.loc[:, 'user_bundle_explanation'] *= bundles.loc[:, 'bundle_content_count']\n",
    "    bundles.loc[:, 'user_bundle_delay'] = bundles.loc[:, 'user_bundle_elapsed_time'] - bundles.loc[:, 'bundle_elapsed_time_avg']\n",
    "    \n",
    "    # Характеристики последних ответов\n",
    "    index = bundles['user_bundle_elapsed_time'] == 0.\n",
    "    bundles.loc[index, 'user_bundle_bundle_delay'] = 0\n",
    "    u_chars_update = bundles.loc[index, ['user_id', 'bundle_id', 'bundle_content_count', 'bundle_elapsed_time_avg']]\n",
    "    \n",
    "    # Характеристики пользователей\n",
    "    bundles.loc[:, 'bundle_id_str'] = ''\n",
    "    bundles.loc[bundles['timestamp'] != -1, 'bundle_id_str'] = ' ' + bundles.loc[bundles['timestamp'] != -1, 'bundle_id'].astype(str) + ','\n",
    "    aggregates = {\n",
    "        'bundle_content_count': ['sum'],\n",
    "        'user_bundle_elapsed_time': ['sum'],\n",
    "        'user_bundle_explanation': ['sum'],\n",
    "        'user_bundle_delay': ['sum'],\n",
    "        'bundle_id_str': ['sum'],\n",
    "    }\n",
    "    cumsum_res_columns = ['user_answers_count', 'user_elapsed_time', 'user_explanation_count', 'user_delay_total', 'user_bundle_list']\n",
    "    u_chars_update_1 = bundles.groupby('user_id').agg(aggregates).reset_index()\n",
    "    u_chars_update_1.columns = ['user_id'] + cumsum_res_columns\n",
    "    \n",
    "#     # Характеристики списка вопросов\n",
    "#     bundles['bundle_id_str'] = ' ' + bundles['bundle_id'].astype(str) + ','\n",
    "#     u_chars_update_2 = bundles.loc[bundles['timestamp'] != -1, ['user_id', 'bundle_id_str']].groupby('user_id')['bundle_id_str'].sum().reset_index()\n",
    "#     u_chars_update_2.columns = ['user_id', 'user_bundle_list']\n",
    "    \n",
    "    # Мержим все характеристики\n",
    "    u_chars_update = (\n",
    "        u_chars_update\n",
    "        .merge(u_chars_update_1, on='user_id', how='left')\n",
    "#         .merge(u_chars_update_2, on='user_id', how='left')\n",
    "    )\n",
    "    u_chars_update.loc[:, 'timestamp'] = -1\n",
    "    \n",
    "    \n",
    "    return u_chars_update"
   ]
  },
  {
   "cell_type": "code",
   "execution_count": 12,
   "metadata": {},
   "outputs": [
    {
     "name": "stderr",
     "output_type": "stream",
     "text": [
      "/Users/n-surkov/opt/anaconda3/lib/python3.7/site-packages/pandas/core/indexing.py:1596: SettingWithCopyWarning: \n",
      "A value is trying to be set on a copy of a slice from a DataFrame.\n",
      "Try using .loc[row_indexer,col_indexer] = value instead\n",
      "\n",
      "See the caveats in the documentation: https://pandas.pydata.org/pandas-docs/stable/user_guide/indexing.html#returning-a-view-versus-a-copy\n",
      "  self.obj[key] = _infer_fill_value(value)\n",
      "/Users/n-surkov/opt/anaconda3/lib/python3.7/site-packages/pandas/core/indexing.py:1765: SettingWithCopyWarning: \n",
      "A value is trying to be set on a copy of a slice from a DataFrame.\n",
      "Try using .loc[row_indexer,col_indexer] = value instead\n",
      "\n",
      "See the caveats in the documentation: https://pandas.pydata.org/pandas-docs/stable/user_guide/indexing.html#returning-a-view-versus-a-copy\n",
      "  isetter(loc, value)\n",
      "/Users/n-surkov/opt/anaconda3/lib/python3.7/site-packages/pandas/core/frame.py:4170: SettingWithCopyWarning: \n",
      "A value is trying to be set on a copy of a slice from a DataFrame\n",
      "\n",
      "See the caveats in the documentation: https://pandas.pydata.org/pandas-docs/stable/user_guide/indexing.html#returning-a-view-versus-a-copy\n",
      "  errors=errors,\n"
     ]
    },
    {
     "name": "stdout",
     "output_type": "stream",
     "text": [
      "CPU times: user 8.84 s, sys: 234 ms, total: 9.07 s\n",
      "Wall time: 8.98 s\n"
     ]
    }
   ],
   "source": [
    "%%time\n",
    "tag = 'last_user_answers'\n",
    "static_user_chars, update_user_chars, static_q_chars, update_q_chars = split_characteristics(valid_data[tag], users_chars_valid[tag], question_characteristics)\n",
    "merged_df = merge_data(valid_data[tag], question_characteristics)\n",
    "u_chars_update_new = get_users_bundles_characteristics(merged_df, update_user_chars)"
   ]
  },
  {
   "cell_type": "code",
   "execution_count": 89,
   "metadata": {},
   "outputs": [
    {
     "data": {
      "text/html": [
       "<div>\n",
       "<style scoped>\n",
       "    .dataframe tbody tr th:only-of-type {\n",
       "        vertical-align: middle;\n",
       "    }\n",
       "\n",
       "    .dataframe tbody tr th {\n",
       "        vertical-align: top;\n",
       "    }\n",
       "\n",
       "    .dataframe thead th {\n",
       "        text-align: right;\n",
       "    }\n",
       "</style>\n",
       "<table border=\"1\" class=\"dataframe\">\n",
       "  <thead>\n",
       "    <tr style=\"text-align: right;\">\n",
       "      <th></th>\n",
       "      <th>user_id</th>\n",
       "      <th>bundle_id</th>\n",
       "      <th>bundle_content_count</th>\n",
       "      <th>bundle_elapsed_time_avg</th>\n",
       "      <th>user_bundle_list</th>\n",
       "      <th>user_answers_count</th>\n",
       "      <th>user_elapsed_time</th>\n",
       "      <th>user_explanation_count</th>\n",
       "      <th>user_delay_total</th>\n",
       "      <th>timestamp</th>\n",
       "    </tr>\n",
       "  </thead>\n",
       "  <tbody>\n",
       "    <tr>\n",
       "      <th>0</th>\n",
       "      <td>8623</td>\n",
       "      <td>969</td>\n",
       "      <td>1</td>\n",
       "      <td>17766.257338</td>\n",
       "      <td>855, 969,</td>\n",
       "      <td>2</td>\n",
       "      <td>18000.0</td>\n",
       "      <td>1.0</td>\n",
       "      <td>-15511.426773</td>\n",
       "      <td>-1</td>\n",
       "    </tr>\n",
       "    <tr>\n",
       "      <th>1</th>\n",
       "      <td>8701</td>\n",
       "      <td>498</td>\n",
       "      <td>1</td>\n",
       "      <td>16893.492581</td>\n",
       "      <td>1185, 498,</td>\n",
       "      <td>2</td>\n",
       "      <td>21000.0</td>\n",
       "      <td>1.0</td>\n",
       "      <td>-12499.048832</td>\n",
       "      <td>-1</td>\n",
       "    </tr>\n",
       "    <tr>\n",
       "      <th>2</th>\n",
       "      <td>24418</td>\n",
       "      <td>4163</td>\n",
       "      <td>1</td>\n",
       "      <td>19694.840834</td>\n",
       "      <td>4612, 4163,</td>\n",
       "      <td>2</td>\n",
       "      <td>5000.0</td>\n",
       "      <td>1.0</td>\n",
       "      <td>-38010.862934</td>\n",
       "      <td>-1</td>\n",
       "    </tr>\n",
       "    <tr>\n",
       "      <th>3</th>\n",
       "      <td>24600</td>\n",
       "      <td>801</td>\n",
       "      <td>1</td>\n",
       "      <td>14424.663885</td>\n",
       "      <td>754, 801,</td>\n",
       "      <td>2</td>\n",
       "      <td>14000.0</td>\n",
       "      <td>1.0</td>\n",
       "      <td>-15258.355244</td>\n",
       "      <td>-1</td>\n",
       "    </tr>\n",
       "    <tr>\n",
       "      <th>4</th>\n",
       "      <td>46886</td>\n",
       "      <td>9517</td>\n",
       "      <td>1</td>\n",
       "      <td>22857.464246</td>\n",
       "      <td>5326, 9517,</td>\n",
       "      <td>2</td>\n",
       "      <td>17000.0</td>\n",
       "      <td>1.0</td>\n",
       "      <td>-32368.582531</td>\n",
       "      <td>-1</td>\n",
       "    </tr>\n",
       "  </tbody>\n",
       "</table>\n",
       "</div>"
      ],
      "text/plain": [
       "   user_id  bundle_id  bundle_content_count  bundle_elapsed_time_avg  \\\n",
       "0     8623        969                     1             17766.257338   \n",
       "1     8701        498                     1             16893.492581   \n",
       "2    24418       4163                     1             19694.840834   \n",
       "3    24600        801                     1             14424.663885   \n",
       "4    46886       9517                     1             22857.464246   \n",
       "\n",
       "  user_bundle_list  user_answers_count  user_elapsed_time  \\\n",
       "0        855, 969,                   2            18000.0   \n",
       "1       1185, 498,                   2            21000.0   \n",
       "2      4612, 4163,                   2             5000.0   \n",
       "3        754, 801,                   2            14000.0   \n",
       "4      5326, 9517,                   2            17000.0   \n",
       "\n",
       "   user_explanation_count  user_delay_total  timestamp  \n",
       "0                     1.0     -15511.426773         -1  \n",
       "1                     1.0     -12499.048832         -1  \n",
       "2                     1.0     -38010.862934         -1  \n",
       "3                     1.0     -15258.355244         -1  \n",
       "4                     1.0     -32368.582531         -1  "
      ]
     },
     "execution_count": 89,
     "metadata": {},
     "output_type": "execute_result"
    }
   ],
   "source": [
    "u_chars_update_new.head()"
   ]
  },
  {
   "cell_type": "code",
   "execution_count": 90,
   "metadata": {},
   "outputs": [
    {
     "data": {
      "text/html": [
       "<div>\n",
       "<style scoped>\n",
       "    .dataframe tbody tr th:only-of-type {\n",
       "        vertical-align: middle;\n",
       "    }\n",
       "\n",
       "    .dataframe tbody tr th {\n",
       "        vertical-align: top;\n",
       "    }\n",
       "\n",
       "    .dataframe thead th {\n",
       "        text-align: right;\n",
       "    }\n",
       "</style>\n",
       "<table border=\"1\" class=\"dataframe\">\n",
       "  <thead>\n",
       "    <tr style=\"text-align: right;\">\n",
       "      <th></th>\n",
       "      <th>user_id</th>\n",
       "      <th>user_answers_count</th>\n",
       "      <th>timestamp</th>\n",
       "      <th>bundle_id</th>\n",
       "      <th>user_correct_answers_count</th>\n",
       "      <th>bundle_content_count</th>\n",
       "      <th>bundle_elapsed_time_avg</th>\n",
       "      <th>user_elapsed_time</th>\n",
       "      <th>user_explanation_count</th>\n",
       "      <th>user_delay_total</th>\n",
       "      <th>user_bundle_list</th>\n",
       "      <th>user_accuracy</th>\n",
       "    </tr>\n",
       "  </thead>\n",
       "  <tbody>\n",
       "    <tr>\n",
       "      <th>0</th>\n",
       "      <td>217920413</td>\n",
       "      <td>51</td>\n",
       "      <td>-1</td>\n",
       "      <td>5085</td>\n",
       "      <td>22</td>\n",
       "      <td>1</td>\n",
       "      <td>27646.190957</td>\n",
       "      <td>925998.0</td>\n",
       "      <td>20</td>\n",
       "      <td>-3.956088e+05</td>\n",
       "      <td>7900, 7876, 175, 1278, 2063, 3363, 2946, 2593...</td>\n",
       "      <td>0.431373</td>\n",
       "    </tr>\n",
       "    <tr>\n",
       "      <th>8</th>\n",
       "      <td>933351434</td>\n",
       "      <td>10</td>\n",
       "      <td>-1</td>\n",
       "      <td>6411</td>\n",
       "      <td>6</td>\n",
       "      <td>1</td>\n",
       "      <td>30203.395529</td>\n",
       "      <td>177000.0</td>\n",
       "      <td>0</td>\n",
       "      <td>-2.946387e+04</td>\n",
       "      <td>5688, 6303, 5355, 742, 488, 371, 3569, 9712, ...</td>\n",
       "      <td>0.600000</td>\n",
       "    </tr>\n",
       "    <tr>\n",
       "      <th>10</th>\n",
       "      <td>856911801</td>\n",
       "      <td>412</td>\n",
       "      <td>-1</td>\n",
       "      <td>5316</td>\n",
       "      <td>281</td>\n",
       "      <td>1</td>\n",
       "      <td>14628.214548</td>\n",
       "      <td>11987000.0</td>\n",
       "      <td>404</td>\n",
       "      <td>2.346099e+06</td>\n",
       "      <td>5064, 4421, 217, 4585, 4544, 6186, 4764, 1262...</td>\n",
       "      <td>0.682039</td>\n",
       "    </tr>\n",
       "    <tr>\n",
       "      <th>23</th>\n",
       "      <td>114873425</td>\n",
       "      <td>11</td>\n",
       "      <td>-1</td>\n",
       "      <td>7978</td>\n",
       "      <td>8</td>\n",
       "      <td>1</td>\n",
       "      <td>22304.117807</td>\n",
       "      <td>288000.0</td>\n",
       "      <td>0</td>\n",
       "      <td>-5.721603e+03</td>\n",
       "      <td>6008, 4268, 5723, 5652, 6079, 5689, 9700, 470...</td>\n",
       "      <td>0.727273</td>\n",
       "    </tr>\n",
       "    <tr>\n",
       "      <th>27</th>\n",
       "      <td>878781828</td>\n",
       "      <td>271</td>\n",
       "      <td>-1</td>\n",
       "      <td>381</td>\n",
       "      <td>157</td>\n",
       "      <td>1</td>\n",
       "      <td>18958.720891</td>\n",
       "      <td>7135000.0</td>\n",
       "      <td>263</td>\n",
       "      <td>7.520549e+05</td>\n",
       "      <td>3900, 5973, 296, 5880, 387, 225, 7870, 1196, ...</td>\n",
       "      <td>0.579336</td>\n",
       "    </tr>\n",
       "  </tbody>\n",
       "</table>\n",
       "</div>"
      ],
      "text/plain": [
       "      user_id  user_answers_count  timestamp  bundle_id  \\\n",
       "0   217920413                  51         -1       5085   \n",
       "8   933351434                  10         -1       6411   \n",
       "10  856911801                 412         -1       5316   \n",
       "23  114873425                  11         -1       7978   \n",
       "27  878781828                 271         -1        381   \n",
       "\n",
       "    user_correct_answers_count  bundle_content_count  bundle_elapsed_time_avg  \\\n",
       "0                           22                     1             27646.190957   \n",
       "8                            6                     1             30203.395529   \n",
       "10                         281                     1             14628.214548   \n",
       "23                           8                     1             22304.117807   \n",
       "27                         157                     1             18958.720891   \n",
       "\n",
       "    user_elapsed_time  user_explanation_count  user_delay_total  \\\n",
       "0            925998.0                      20     -3.956088e+05   \n",
       "8            177000.0                       0     -2.946387e+04   \n",
       "10         11987000.0                     404      2.346099e+06   \n",
       "23           288000.0                       0     -5.721603e+03   \n",
       "27          7135000.0                     263      7.520549e+05   \n",
       "\n",
       "                                     user_bundle_list  user_accuracy  \n",
       "0    7900, 7876, 175, 1278, 2063, 3363, 2946, 2593...       0.431373  \n",
       "8    5688, 6303, 5355, 742, 488, 371, 3569, 9712, ...       0.600000  \n",
       "10   5064, 4421, 217, 4585, 4544, 6186, 4764, 1262...       0.682039  \n",
       "23   6008, 4268, 5723, 5652, 6079, 5689, 9700, 470...       0.727273  \n",
       "27   3900, 5973, 296, 5880, 387, 225, 7870, 1196, ...       0.579336  "
      ]
     },
     "execution_count": 90,
     "metadata": {},
     "output_type": "execute_result"
    }
   ],
   "source": [
    "update_user_chars.head()"
   ]
  },
  {
   "cell_type": "code",
   "execution_count": 13,
   "metadata": {},
   "outputs": [],
   "source": [
    "def get_characteristics(full_df, update_user_chars):\n",
    "    # Колонки, которые понадобятся в характеристиках пользователя\n",
    "    user_chars_columns = update_user_chars.columns\n",
    "    \n",
    "    # Обновление характеристик\n",
    "    # Вычисляем новые\n",
    "    u_chars_update_new = get_users_bundles_characteristics(full_df, update_user_chars)\n",
    "    # Переименовываем колонки старых характеристик\n",
    "    update_chars_columns = ['user_answers_count', 'user_elapsed_time', \n",
    "                            'user_explanation_count', 'user_delay_total',\n",
    "                            'user_bundle_list']\n",
    "    static_columns = ['user_id', 'user_correct_answers_count', 'user_accuracy']\n",
    "    new_columns = [col + '_prior' for col in update_chars_columns]\n",
    "    update_user_chars = update_user_chars[static_columns + update_chars_columns]\n",
    "    update_user_chars.columns = static_columns + new_columns\n",
    "    # Добавляем старые к новым\n",
    "    update_user_chars = u_chars_update_new.merge(update_user_chars, on='user_id', how='left')\n",
    "    index = update_user_chars['user_correct_answers_count'].isnull()\n",
    "    update_user_chars.loc[index, 'user_correct_answers_count'] = 0\n",
    "    update_user_chars.loc[index, 'user_accuracy'] = 0.5\n",
    "    # Обновляем характеристики\n",
    "    for col in update_chars_columns:\n",
    "        index = ~update_user_chars.loc[:, col + '_prior'].isnull()\n",
    "        update_user_chars.loc[index, col] = update_user_chars.loc[index, col + '_prior'] + update_user_chars.loc[index, col]\n",
    "    update_user_chars.drop(columns=[col + '_prior' for col in update_chars_columns], inplace=True)\n",
    "    \n",
    "    # Добавляем характеристики к исходному массиву\n",
    "    full_df = full_df.merge(update_user_chars.drop(columns=['bundle_id', 'timestamp']), on='user_id', how='left')\n",
    "    \n",
    "    # Количество попыток пользователя\n",
    "#     full_df['attempts'] = full_df.apply(lambda x: len(re.findall(' ' + str(x.bundle_id) + ',', x.user_bundle_list)), axis=1).astype('int8')\n",
    "    attempts = full_df.loc[:, ['user_id', 'bundle_id', 'user_bundle_list']].drop_duplicates()\n",
    "    attempts['attempts'] = attempts.apply(lambda x: len(re.findall(' ' + str(x.bundle_id) + ',', x.user_bundle_list)), axis=1).astype('int8')\n",
    "    full_df = full_df.merge(attempts.drop(columns='user_bundle_list'), on=['user_id', 'bundle_id'], how='left')\n",
    "    \n",
    "    return full_df, update_user_chars[user_chars_columns]"
   ]
  },
  {
   "cell_type": "code",
   "execution_count": 14,
   "metadata": {},
   "outputs": [
    {
     "name": "stderr",
     "output_type": "stream",
     "text": [
      "/Users/n-surkov/opt/anaconda3/lib/python3.7/site-packages/pandas/core/indexing.py:1596: SettingWithCopyWarning: \n",
      "A value is trying to be set on a copy of a slice from a DataFrame.\n",
      "Try using .loc[row_indexer,col_indexer] = value instead\n",
      "\n",
      "See the caveats in the documentation: https://pandas.pydata.org/pandas-docs/stable/user_guide/indexing.html#returning-a-view-versus-a-copy\n",
      "  self.obj[key] = _infer_fill_value(value)\n",
      "/Users/n-surkov/opt/anaconda3/lib/python3.7/site-packages/pandas/core/indexing.py:1765: SettingWithCopyWarning: \n",
      "A value is trying to be set on a copy of a slice from a DataFrame.\n",
      "Try using .loc[row_indexer,col_indexer] = value instead\n",
      "\n",
      "See the caveats in the documentation: https://pandas.pydata.org/pandas-docs/stable/user_guide/indexing.html#returning-a-view-versus-a-copy\n",
      "  isetter(loc, value)\n",
      "/Users/n-surkov/opt/anaconda3/lib/python3.7/site-packages/pandas/core/frame.py:4170: SettingWithCopyWarning: \n",
      "A value is trying to be set on a copy of a slice from a DataFrame\n",
      "\n",
      "See the caveats in the documentation: https://pandas.pydata.org/pandas-docs/stable/user_guide/indexing.html#returning-a-view-versus-a-copy\n",
      "  errors=errors,\n"
     ]
    },
    {
     "name": "stdout",
     "output_type": "stream",
     "text": [
      "CPU times: user 12.5 s, sys: 364 ms, total: 12.8 s\n",
      "Wall time: 12.7 s\n"
     ]
    }
   ],
   "source": [
    "%%time\n",
    "tag = 'last_user_answers'\n",
    "static_user_chars, update_user_chars, static_q_chars, update_q_chars = split_characteristics(valid_data[tag], users_chars_valid[tag], question_characteristics)\n",
    "merged_df = merge_data(valid_data[tag], question_characteristics)\n",
    "full_df, update_user_chars_new = get_characteristics(merged_df, update_user_chars)"
   ]
  },
  {
   "cell_type": "code",
   "execution_count": 54,
   "metadata": {},
   "outputs": [],
   "source": [
    "def update_answers_characteristics(test_df, correct_answers, static_user_chars, \n",
    "                                   update_user_chars, static_q_chars, update_q_chars):\n",
    "    # Характеристики пачек\n",
    "    test_df = test_df.loc[:, ['user_id', 'content_id']]\n",
    "    test_df['answered_correctly'] = correct_answers\n",
    "    \n",
    "    # Характеристики пользователей\n",
    "    users_chars = test_df.groupby('user_id')['answered_correctly'].sum().reset_index()\n",
    "    users_chars.columns = ['user_id', 'user_correct_answers_count_new']\n",
    "    update_user_chars = update_user_chars.merge(users_chars, on='user_id', how='left')\n",
    "    index = update_user_chars['user_correct_answers_count'].isnull()\n",
    "    update_user_chars.loc[index, 'user_correct_answers_count'] = 0\n",
    "    update_user_chars.loc[:, 'user_correct_answers_count'] += update_user_chars.loc[:, 'user_correct_answers_count_new']\n",
    "    user_chars = pd.concat([static_user_chars, update_user_chars[static_user_chars.columns]])\n",
    "    \n",
    "    # Характеристики вопросов\n",
    "    aggregates = {\n",
    "        'answered_correctly': ['sum', 'count'],\n",
    "    }\n",
    "    q_chars = test_df.groupby('content_id').agg(aggregates).reset_index()\n",
    "    q_chars.columns = ['content_id', 'question_correct_answers_count_new', 'question_answers_count_new']\n",
    "    update_q_chars = update_q_chars.merge(q_chars, on='content_id', how='left').fillna(0)\n",
    "    update_q_chars.loc[:, 'question_answers_count'] += update_q_chars.loc[:, 'question_answers_count_new']\n",
    "    update_q_chars.loc[:, 'question_correct_answers_count'] += update_q_chars.loc[:, 'question_correct_answers_count_new']\n",
    "    update_q_chars.loc[:, 'question_correct_answers_mean'] = update_q_chars.loc[:, 'question_correct_answers_count'] / update_q_chars.loc[:, 'question_answers_count']\n",
    "    q_chars = pd.concat([static_q_chars, update_q_chars[static_q_chars.columns]])\n",
    "    \n",
    "    return user_chars, q_chars"
   ]
  },
  {
   "cell_type": "code",
   "execution_count": 38,
   "metadata": {},
   "outputs": [
    {
     "data": {
      "text/plain": [
       "row_id                              int64\n",
       "timestamp                           int64\n",
       "user_id                             int32\n",
       "content_id                          int32\n",
       "prior_question_elapsed_time       float64\n",
       "prior_question_had_explanation       int8\n",
       "bundle_id                           int32\n",
       "part                                 int8\n",
       "question_elapsed_time_mean        float64\n",
       "question_had_explanation_mean     float64\n",
       "question_answers_count              int64\n",
       "question_correct_answers_count      int64\n",
       "question_user_var                 float64\n",
       "question_correct_answers_mean     float64\n",
       "bundle_content_count                int64\n",
       "bundle_elapsed_time_avg           float64\n",
       "user_bundle_list                   object\n",
       "user_answers_count                float64\n",
       "user_elapsed_time                 float64\n",
       "user_explanation_count            float64\n",
       "user_delay_total                  float64\n",
       "user_correct_answers_count        float64\n",
       "user_accuracy                     float64\n",
       "attempts                             int8\n",
       "dtype: object"
      ]
     },
     "execution_count": 38,
     "metadata": {},
     "output_type": "execute_result"
    }
   ],
   "source": [
    "full_df.dtypes"
   ]
  },
  {
   "cell_type": "code",
   "execution_count": 56,
   "metadata": {},
   "outputs": [],
   "source": [
    "def get_features(full_df):\n",
    "    output = full_df.drop(columns=['timestamp', 'user_id', 'content_id', \n",
    "                                   'prior_question_had_explanation',\n",
    "                                   'bundle_id', \n",
    "                                   'question_correct_answers_count', 'bundle_content_count',\n",
    "                                   'bundle_elapsed_time_avg', 'user_bundle_list', 'user_correct_answers_count'])\n",
    "    output.loc[output.attempts > 5, 'attempts'] = 5\n",
    "    output.loc[:, 'attempts'] -= 1\n",
    "    \n",
    "    index_f = output.loc[:, 'user_answers_count'] < 2\n",
    "    output.loc[:, 'user_elapsed_time_mean'] = output.loc[:, 'user_elapsed_time'] / (output.loc[:, 'user_answers_count'] - 1)\n",
    "    output.loc[index_f, 'user_elapsed_time_mean'] = output.loc[index_f, 'question_elapsed_time_mean']\n",
    "    output.loc[:, 'user_explanation_rate'] = output.loc[:, 'user_explanation_count'] / (output.loc[:, 'user_answers_count'] - 1)\n",
    "    output.loc[index_f, 'user_explanation_rate'] = output.loc[index_f, 'question_had_explanation_mean']\n",
    "    output.loc[:, 'user_delay_mean'] = output.loc[:, 'user_delay_total'] / (output.loc[:, 'user_answers_count'] - 1)\n",
    "    output.loc[index_f, 'user_delay_mean'] = 0\n",
    "    output.loc[index_f, 'user_accuracy'] = output.loc[index_f, 'question_correct_answers_mean']\n",
    "    output.loc[:, 'user_accuracy_hmean'] = 2 * output.loc[:, 'user_accuracy'] * output.loc[:, 'question_correct_answers_mean'] / (output.loc[:, 'user_accuracy'] + output.loc[:, 'question_correct_answers_mean'])\n",
    "    \n",
    "    drop_cols = ['user_elapsed_time', 'user_explanation_count', 'user_delay_total', \n",
    "                 'user_accuracy', 'question_elapsed_time_mean']\n",
    "    \n",
    "    return output.drop(columns=drop_cols).set_index('row_id')\n",
    "\n",
    "def get_train_features(full_df):\n",
    "    output = full_df.drop(columns=['timestamp', 'user_id', 'content_id', \n",
    "#                                    'prior_question_elapsed_time', 'prior_question_had_explanation',\n",
    "                                   'bundle_id'])\n",
    "    output.loc[output.attempts > 5, 'attempts'] = 5\n",
    "    output.loc[:, 'attempts'] -= 1\n",
    "    \n",
    "    index_f = output.loc[:, 'user_answers_count'] < 2\n",
    "    output.loc[index_f, 'user_elapsed_time_mean'] = output.loc[index_f, 'question_elapsed_time_mean']\n",
    "    output.loc[index_f, 'user_explanation_rate'] = output.loc[index_f, 'question_had_explanation_mean']\n",
    "    output.loc[index_f, 'user_delay_mean'] = 0\n",
    "    output.loc[index_f, 'user_accuracy'] = output.loc[index_f, 'question_correct_answers_mean']\n",
    "    output.loc[:, 'user_accuracy_hmean'] = 2 * output.loc[:, 'user_accuracy'] * output.loc[:, 'question_correct_answers_mean'] / (output.loc[:, 'user_accuracy'] + output.loc[:, 'question_correct_answers_mean'])\n",
    "    \n",
    "    drop_cols = ['user_bundle_content_count_sum', 'user_accuracy', 'prior_question_had_explanation',\n",
    "                 'question_elapsed_time_mean', 'user_attempts_rate']\n",
    "    \n",
    "    return output.drop(columns=drop_cols).set_index('row_id')"
   ]
  },
  {
   "cell_type": "code",
   "execution_count": 57,
   "metadata": {},
   "outputs": [],
   "source": [
    "def make_features_df(test_df, q_chars, users_chars):\n",
    "    merged_df = merge_data(test_df, q_chars)\n",
    "    test_df_expand, current_chars = get_characteristics(merged_df, users_chars)\n",
    "    features = get_features(test_df_expand)\n",
    "    \n",
    "    dtypes = [\n",
    "        ('prior_question_elapsed_time', 'float64'),\n",
    "        ('part', 'int32'),\n",
    "        ('user_answers_count', 'int64'),\n",
    "        ('attempts', 'int64'),\n",
    "        ('question_had_explanation_mean', 'float64'),\n",
    "        ('question_answers_count', 'int64'),\n",
    "        ('question_user_var', 'float64'),\n",
    "        ('question_correct_answers_mean', 'float64'),\n",
    "        ('user_elapsed_time_mean', 'float64'),\n",
    "        ('user_explanation_rate', 'float64'),\n",
    "        ('user_delay_mean', 'float64'),\n",
    "        ('user_accuracy_hmean', 'float64')]\n",
    "    \n",
    "    for col, dtype in dtypes:\n",
    "        features[col] = features[col].astype(dtype)\n",
    "\n",
    "    memory_usage(features, 'features_df')\n",
    "    memory_usage(current_chars, 'user_chars')\n",
    "    \n",
    "    return features, current_chars"
   ]
  },
  {
   "cell_type": "code",
   "execution_count": 58,
   "metadata": {},
   "outputs": [],
   "source": [
    "# %%time\n",
    "# merged_df = merge_data(valid_data, question_characteristics)\n",
    "# current_chars = get_test_users_characteristics(merged_df)"
   ]
  },
  {
   "cell_type": "code",
   "execution_count": 59,
   "metadata": {},
   "outputs": [],
   "source": [
    "# new_user_chars, current_user_chars = update_users_characteristics(current_chars, users_chars)"
   ]
  },
  {
   "cell_type": "markdown",
   "metadata": {},
   "source": [
    "# Подготовка признаков"
   ]
  },
  {
   "cell_type": "markdown",
   "metadata": {},
   "source": [
    "## Формируем признаки"
   ]
  },
  {
   "cell_type": "code",
   "execution_count": 60,
   "metadata": {},
   "outputs": [
    {
     "name": "stdout",
     "output_type": "stream",
     "text": [
      "CPU times: user 5.35 s, sys: 6.88 s, total: 12.2 s\n",
      "Wall time: 11.6 s\n"
     ]
    }
   ],
   "source": [
    "%%time\n",
    "train_df = get_train_features(train_data)"
   ]
  },
  {
   "cell_type": "code",
   "execution_count": 61,
   "metadata": {},
   "outputs": [],
   "source": [
    "with open(os.path.join(user_data_path, 'train_df.pickle'), 'wb') as fo:\n",
    "    pickle.dump(train_df, fo)"
   ]
  },
  {
   "cell_type": "code",
   "execution_count": 62,
   "metadata": {},
   "outputs": [
    {
     "name": "stderr",
     "output_type": "stream",
     "text": [
      "/Users/n-surkov/opt/anaconda3/lib/python3.7/site-packages/pandas/core/indexing.py:1596: SettingWithCopyWarning: \n",
      "A value is trying to be set on a copy of a slice from a DataFrame.\n",
      "Try using .loc[row_indexer,col_indexer] = value instead\n",
      "\n",
      "See the caveats in the documentation: https://pandas.pydata.org/pandas-docs/stable/user_guide/indexing.html#returning-a-view-versus-a-copy\n",
      "  self.obj[key] = _infer_fill_value(value)\n",
      "/Users/n-surkov/opt/anaconda3/lib/python3.7/site-packages/pandas/core/indexing.py:1765: SettingWithCopyWarning: \n",
      "A value is trying to be set on a copy of a slice from a DataFrame.\n",
      "Try using .loc[row_indexer,col_indexer] = value instead\n",
      "\n",
      "See the caveats in the documentation: https://pandas.pydata.org/pandas-docs/stable/user_guide/indexing.html#returning-a-view-versus-a-copy\n",
      "  isetter(loc, value)\n",
      "/Users/n-surkov/opt/anaconda3/lib/python3.7/site-packages/pandas/core/frame.py:4170: SettingWithCopyWarning: \n",
      "A value is trying to be set on a copy of a slice from a DataFrame\n",
      "\n",
      "See the caveats in the documentation: https://pandas.pydata.org/pandas-docs/stable/user_guide/indexing.html#returning-a-view-versus-a-copy\n",
      "  errors=errors,\n"
     ]
    },
    {
     "name": "stdout",
     "output_type": "stream",
     "text": [
      "features_df use 12.46 mb in memory\n",
      "user_chars use 11.51 mb in memory\n",
      "prior_question_elapsed_time      0\n",
      "part                             0\n",
      "question_had_explanation_mean    0\n",
      "question_answers_count           0\n",
      "question_user_var                0\n",
      "question_correct_answers_mean    0\n",
      "user_answers_count               0\n",
      "attempts                         0\n",
      "user_elapsed_time_mean           0\n",
      "user_explanation_rate            0\n",
      "user_delay_mean                  0\n",
      "user_accuracy_hmean              0\n",
      "answered_correctly               0\n",
      "dtype: int64\n",
      "first_user_answers calculated\n"
     ]
    },
    {
     "name": "stderr",
     "output_type": "stream",
     "text": [
      "/Users/n-surkov/opt/anaconda3/lib/python3.7/site-packages/pandas/core/indexing.py:1596: SettingWithCopyWarning: \n",
      "A value is trying to be set on a copy of a slice from a DataFrame.\n",
      "Try using .loc[row_indexer,col_indexer] = value instead\n",
      "\n",
      "See the caveats in the documentation: https://pandas.pydata.org/pandas-docs/stable/user_guide/indexing.html#returning-a-view-versus-a-copy\n",
      "  self.obj[key] = _infer_fill_value(value)\n",
      "/Users/n-surkov/opt/anaconda3/lib/python3.7/site-packages/pandas/core/indexing.py:1765: SettingWithCopyWarning: \n",
      "A value is trying to be set on a copy of a slice from a DataFrame.\n",
      "Try using .loc[row_indexer,col_indexer] = value instead\n",
      "\n",
      "See the caveats in the documentation: https://pandas.pydata.org/pandas-docs/stable/user_guide/indexing.html#returning-a-view-versus-a-copy\n",
      "  isetter(loc, value)\n",
      "/Users/n-surkov/opt/anaconda3/lib/python3.7/site-packages/pandas/core/frame.py:4170: SettingWithCopyWarning: \n",
      "A value is trying to be set on a copy of a slice from a DataFrame\n",
      "\n",
      "See the caveats in the documentation: https://pandas.pydata.org/pandas-docs/stable/user_guide/indexing.html#returning-a-view-versus-a-copy\n",
      "  errors=errors,\n"
     ]
    },
    {
     "name": "stdout",
     "output_type": "stream",
     "text": [
      "features_df use 15.88 mb in memory\n",
      "user_chars use 9.75 mb in memory\n",
      "prior_question_elapsed_time      0\n",
      "part                             0\n",
      "question_had_explanation_mean    0\n",
      "question_answers_count           0\n",
      "question_user_var                0\n",
      "question_correct_answers_mean    0\n",
      "user_answers_count               0\n",
      "attempts                         0\n",
      "user_elapsed_time_mean           0\n",
      "user_explanation_rate            0\n",
      "user_delay_mean                  0\n",
      "user_accuracy_hmean              0\n",
      "answered_correctly               0\n",
      "dtype: int64\n",
      "last_user_answers calculated\n",
      "CPU times: user 27.2 s, sys: 1.67 s, total: 28.9 s\n",
      "Wall time: 29.5 s\n"
     ]
    }
   ],
   "source": [
    "%%time\n",
    "tags = ['first_user_answers', 'last_user_answers']\n",
    "valid_dfs = {}\n",
    "for tag in tags:\n",
    "    static_user_chars, update_user_chars, static_q_chars, update_q_chars = split_characteristics(valid_data[tag], users_chars_valid[tag], question_characteristics)\n",
    "    valid_dfs[tag], update_user_chars = make_features_df(valid_data[tag], question_characteristics, update_user_chars)\n",
    "    valid_dfs[tag] = valid_dfs[tag].reset_index().merge(valid_data[tag][['row_id', 'answered_correctly']], on='row_id', how='left').set_index('row_id')\n",
    "    UC_update, QC_update = update_answers_characteristics(valid_data[tag], valid_data[tag]['answered_correctly'], static_user_chars, \n",
    "                                                          update_user_chars, static_q_chars, update_q_chars)\n",
    "    print(valid_dfs[tag].isnull().sum())\n",
    "    print(tag + ' calculated')"
   ]
  },
  {
   "cell_type": "code",
   "execution_count": 63,
   "metadata": {},
   "outputs": [],
   "source": [
    "with open(os.path.join(user_data_path, 'valid_dfs.pickle'), 'wb') as fo:\n",
    "    pickle.dump(valid_dfs, fo)"
   ]
  },
  {
   "cell_type": "markdown",
   "metadata": {},
   "source": [
    "# Обучение модели"
   ]
  },
  {
   "cell_type": "markdown",
   "metadata": {},
   "source": [
    "## Загрузка признаков"
   ]
  },
  {
   "cell_type": "code",
   "execution_count": 19,
   "metadata": {},
   "outputs": [
    {
     "name": "stdout",
     "output_type": "stream",
     "text": [
      "train_df use 1945.16 mb in memory\n",
      "question_characteristics use 0.77 mb in memory\n",
      "users_chars use 31.54 mb in memory\n"
     ]
    }
   ],
   "source": [
    "with open(os.path.join(user_data_path, 'train_df.pickle'), 'rb') as fo:\n",
    "    train_df = pickle.load(fo)\n",
    "with open(os.path.join(user_data_path, 'valid_dfs.pickle'), 'rb') as fo:\n",
    "    valid_dfs = pickle.load(fo)\n",
    "with open(os.path.join(user_data_path, 'users_characteristics.pickle'), 'rb') as fo:\n",
    "    users_chars = pickle.load(fo)\n",
    "with open(os.path.join(user_data_path, 'questions_chars.pickle'), 'rb') as fo:\n",
    "    q_chars = pickle.load(fo)\n",
    "    \n",
    "memory_usage(train_df, 'train_df')\n",
    "memory_usage(q_chars, 'question_characteristics')\n",
    "memory_usage(users_chars, 'users_chars')"
   ]
  },
  {
   "cell_type": "code",
   "execution_count": 20,
   "metadata": {},
   "outputs": [],
   "source": [
    "valid_df = valid_dfs['last_user_answers'][train_df.columns]\n",
    "\n",
    "# for col, dtype in zip(train_df.columns, train_df.dtypes):\n",
    "    \n",
    "#     valid_df[col] = valid_df[col].astype(dtype)"
   ]
  },
  {
   "cell_type": "code",
   "execution_count": 21,
   "metadata": {},
   "outputs": [],
   "source": [
    "# [('part', 'int32'),\n",
    "#               ('user_answers_count', 'int64'),\n",
    "#               ('attempts', 'int64'),\n",
    "#               ('prior_question_elapsed_time', 'float64'),\n",
    "#               ('prior_question_had_explanation', 'int32'),\n",
    "#               ('question_elapsed_time_mean', 'float64'),\n",
    "#               ('question_had_explanation_mean', 'float64'),\n",
    "#               ('question_answers_count', 'int64'),\n",
    "#               ('question_user_var', 'float64'),\n",
    "#               ('question_correct_answers_mean', 'float64'),\n",
    "#               ('user_attempts_rate', 'float64'),\n",
    "#               ('user_elapsed_time_mean', 'float64'),\n",
    "#               ('user_explanation_rate', 'float64'),\n",
    "#               ('user_delay_mean', 'float64'),\n",
    "#               ('user_accuracy_hmean', 'float64')]"
   ]
  },
  {
   "cell_type": "code",
   "execution_count": 24,
   "metadata": {},
   "outputs": [],
   "source": [
    "def cut_features(train_df, valid_df):\n",
    "    features_to_remove = ['attempts']\n",
    "    return train_df.drop(columns=features_to_remove), valid_df.drop(columns=features_to_remove)\n",
    "#     features = ['part', 'question_correct_answers_mean', 'user_explanation_rate', \n",
    "#                 'user_delay_mean', 'user_accuracy_hmean', 'answered_correctly', 'attempts']\n",
    "#     train_df['user_attempts_rate'] -= 1\n",
    "#     valid_df['user_attempts_rate'] -= 1\n",
    "#     return train_df[features], valid_df[features]"
   ]
  },
  {
   "cell_type": "code",
   "execution_count": 25,
   "metadata": {},
   "outputs": [],
   "source": [
    "train_df, valid_df = cut_features(train_df, valid_df)"
   ]
  },
  {
   "cell_type": "markdown",
   "metadata": {},
   "source": [
    "## Модель для пользователей, которые много"
   ]
  },
  {
   "cell_type": "code",
   "execution_count": 26,
   "metadata": {},
   "outputs": [],
   "source": [
    "lgbm_train = lgbm.Dataset(data = train_df.drop(columns='answered_correctly'),#.iloc[:1000000, :],\n",
    "                          label = train_df.loc[:, 'answered_correctly'],#.iloc[:1000000],\n",
    "                          categorical_feature=['part'],\n",
    "                          free_raw_data = False)\n",
    "\n",
    "lgbm_valid = lgbm.Dataset(data = valid_df.drop(columns='answered_correctly'),\n",
    "                          label = valid_df.loc[:, 'answered_correctly'],\n",
    "                          categorical_feature=['part'],\n",
    "                          free_raw_data = False)"
   ]
  },
  {
   "cell_type": "code",
   "execution_count": 27,
   "metadata": {
    "scrolled": true
   },
   "outputs": [
    {
     "name": "stderr",
     "output_type": "stream",
     "text": [
      "/Users/n-surkov/opt/anaconda3/lib/python3.7/site-packages/lightgbm/basic.py:1243: UserWarning: Using categorical_feature in Dataset.\n",
      "  warnings.warn('Using categorical_feature in Dataset.')\n"
     ]
    },
    {
     "name": "stdout",
     "output_type": "stream",
     "text": [
      "[1]\tvalid_0's auc: 0.729075\n",
      "Training until validation scores don't improve for 30 rounds\n",
      "[2]\tvalid_0's auc: 0.731173\n",
      "[3]\tvalid_0's auc: 0.731297\n",
      "[4]\tvalid_0's auc: 0.731821\n",
      "[5]\tvalid_0's auc: 0.733228\n",
      "[6]\tvalid_0's auc: 0.733574\n",
      "[7]\tvalid_0's auc: 0.733615\n",
      "[8]\tvalid_0's auc: 0.73348\n",
      "[9]\tvalid_0's auc: 0.733772\n",
      "[10]\tvalid_0's auc: 0.73388\n",
      "[11]\tvalid_0's auc: 0.734219\n",
      "[12]\tvalid_0's auc: 0.73444\n",
      "[13]\tvalid_0's auc: 0.73447\n",
      "[14]\tvalid_0's auc: 0.73492\n",
      "[15]\tvalid_0's auc: 0.734991\n",
      "[16]\tvalid_0's auc: 0.735036\n",
      "[17]\tvalid_0's auc: 0.735113\n",
      "[18]\tvalid_0's auc: 0.735245\n",
      "[19]\tvalid_0's auc: 0.735322\n",
      "[20]\tvalid_0's auc: 0.735479\n",
      "[21]\tvalid_0's auc: 0.735373\n",
      "[22]\tvalid_0's auc: 0.735681\n",
      "[23]\tvalid_0's auc: 0.735768\n",
      "[24]\tvalid_0's auc: 0.735795\n",
      "[25]\tvalid_0's auc: 0.736006\n",
      "[26]\tvalid_0's auc: 0.736181\n",
      "[27]\tvalid_0's auc: 0.736441\n",
      "[28]\tvalid_0's auc: 0.736638\n",
      "[29]\tvalid_0's auc: 0.736285\n",
      "[30]\tvalid_0's auc: 0.736671\n",
      "[31]\tvalid_0's auc: 0.736814\n",
      "[32]\tvalid_0's auc: 0.737187\n",
      "[33]\tvalid_0's auc: 0.73721\n",
      "[34]\tvalid_0's auc: 0.737234\n",
      "[35]\tvalid_0's auc: 0.73722\n",
      "[36]\tvalid_0's auc: 0.73729\n",
      "[37]\tvalid_0's auc: 0.737326\n",
      "[38]\tvalid_0's auc: 0.737323\n",
      "[39]\tvalid_0's auc: 0.737047\n",
      "[40]\tvalid_0's auc: 0.737626\n",
      "[41]\tvalid_0's auc: 0.737756\n",
      "[42]\tvalid_0's auc: 0.737913\n",
      "[43]\tvalid_0's auc: 0.737914\n",
      "[44]\tvalid_0's auc: 0.73731\n",
      "[45]\tvalid_0's auc: 0.73712\n",
      "[46]\tvalid_0's auc: 0.737056\n",
      "[47]\tvalid_0's auc: 0.737343\n",
      "[48]\tvalid_0's auc: 0.737316\n",
      "[49]\tvalid_0's auc: 0.737577\n",
      "[50]\tvalid_0's auc: 0.737724\n",
      "[51]\tvalid_0's auc: 0.737742\n",
      "[52]\tvalid_0's auc: 0.737732\n",
      "[53]\tvalid_0's auc: 0.73742\n",
      "[54]\tvalid_0's auc: 0.737503\n",
      "[55]\tvalid_0's auc: 0.737603\n",
      "[56]\tvalid_0's auc: 0.737781\n",
      "[57]\tvalid_0's auc: 0.737804\n",
      "[58]\tvalid_0's auc: 0.737824\n",
      "[59]\tvalid_0's auc: 0.737929\n",
      "[60]\tvalid_0's auc: 0.73793\n",
      "[61]\tvalid_0's auc: 0.738029\n",
      "[62]\tvalid_0's auc: 0.738171\n",
      "[63]\tvalid_0's auc: 0.737516\n",
      "[64]\tvalid_0's auc: 0.737571\n",
      "[65]\tvalid_0's auc: 0.737633\n",
      "[66]\tvalid_0's auc: 0.737671\n",
      "[67]\tvalid_0's auc: 0.737714\n",
      "[68]\tvalid_0's auc: 0.737733\n",
      "[69]\tvalid_0's auc: 0.737782\n",
      "[70]\tvalid_0's auc: 0.737743\n",
      "[71]\tvalid_0's auc: 0.737779\n",
      "[72]\tvalid_0's auc: 0.737852\n",
      "[73]\tvalid_0's auc: 0.737843\n",
      "[74]\tvalid_0's auc: 0.737772\n",
      "[75]\tvalid_0's auc: 0.737546\n",
      "[76]\tvalid_0's auc: 0.737551\n",
      "[77]\tvalid_0's auc: 0.737501\n",
      "[78]\tvalid_0's auc: 0.737508\n",
      "[79]\tvalid_0's auc: 0.737544\n",
      "[80]\tvalid_0's auc: 0.737577\n",
      "[81]\tvalid_0's auc: 0.737575\n",
      "[82]\tvalid_0's auc: 0.737552\n",
      "[83]\tvalid_0's auc: 0.737558\n",
      "[84]\tvalid_0's auc: 0.737531\n",
      "[85]\tvalid_0's auc: 0.737567\n",
      "[86]\tvalid_0's auc: 0.737567\n",
      "[87]\tvalid_0's auc: 0.737589\n",
      "[88]\tvalid_0's auc: 0.737602\n",
      "[89]\tvalid_0's auc: 0.737607\n",
      "[90]\tvalid_0's auc: 0.73763\n",
      "[91]\tvalid_0's auc: 0.737604\n",
      "[92]\tvalid_0's auc: 0.737744\n",
      "Early stopping, best iteration is:\n",
      "[62]\tvalid_0's auc: 0.738171\n"
     ]
    }
   ],
   "source": [
    "params = {'boosting_type': 'gbdt',\n",
    "          'is_unbalansed': True,\n",
    "#           'max_depth' : 8,\n",
    "          'objective': 'binary',\n",
    "#           'nthread': 3, # Updated from nthread\n",
    "#           'num_leaves': 100,\n",
    "#           'learning_rate': 0.1,\n",
    "#           'subsample': 0.8,\n",
    "#           'colsample_bytree': 0.8,\n",
    "#           'reg_alpha': 0.01,\n",
    "#           'reg_lambda': 100,\n",
    "          'metric' : 'auc',\n",
    "          'random_state': 17,\n",
    "#           'num_boost_round': 300,\n",
    "#           'verbose_eval': 50,\n",
    "#           'early_stopping_rounds': 30\n",
    "         }\n",
    "model = lgbm.train(\n",
    "    params = params,\n",
    "    train_set = lgbm_train,\n",
    "    valid_sets = [lgbm_valid],\n",
    "    num_boost_round=300,\n",
    "    early_stopping_rounds=30,\n",
    ")"
   ]
  },
  {
   "cell_type": "code",
   "execution_count": 28,
   "metadata": {},
   "outputs": [
    {
     "data": {
      "image/png": "[encoded data removed]",
      "text/plain": [
       "<Figure size 1440x576 with 1 Axes>"
      ]
     },
     "metadata": {
      "needs_background": "light"
     },
     "output_type": "display_data"
    },
    {
     "data": {
      "image/png": "[encoded data removed]",
      "text/plain": [
       "<Figure size 1440x576 with 1 Axes>"
      ]
     },
     "metadata": {
      "needs_background": "light"
     },
     "output_type": "display_data"
    }
   ],
   "source": [
    "def show_feature_importances(model, importance_type, max_num_features=10**10):\n",
    "    feature_importances = pd.DataFrame()\n",
    "    feature_importances['feature'] = model.feature_name()\n",
    "    feature_importances['value'] = pd.DataFrame(model.feature_importance(importance_type))\n",
    "    feature_importances = feature_importances.sort_values(by='value', ascending=False) # sort feature importance\n",
    "    feature_importances.to_csv(f'feature_importances_{importance_type}.csv') # write feature importance to csv\n",
    "    feature_importances = feature_importances[:max_num_features] # only show max_num_features\n",
    "    \n",
    "    plt.figure(figsize=(20, 8))\n",
    "    plt.xlim([0, feature_importances.value.max()*1.1])\n",
    "    plt.title(f'Feature {importance_type}', fontsize=18);\n",
    "    sns.barplot(data=feature_importances, x='value', y='feature', palette='rocket');\n",
    "    for idx, v in enumerate(feature_importances.value):\n",
    "        plt.text(v, idx, \"  {:.2e}\".format(v))\n",
    "\n",
    "show_feature_importances(model, 'gain')\n",
    "show_feature_importances(model, 'split')"
   ]
  },
  {
   "cell_type": "code",
   "execution_count": 69,
   "metadata": {},
   "outputs": [
    {
     "data": {
      "text/plain": [
       "<lightgbm.basic.Booster at 0x7fe3b4923d90>"
      ]
     },
     "execution_count": 69,
     "metadata": {},
     "output_type": "execute_result"
    }
   ],
   "source": [
    "model.save_model(os.path.join(user_data_path, 'model_lgbm_cumsum.lgb'))"
   ]
  },
  {
   "cell_type": "code",
   "execution_count": 71,
   "metadata": {},
   "outputs": [],
   "source": [
    "pred = model.predict(valid_df)"
   ]
  },
  {
   "cell_type": "code",
   "execution_count": 74,
   "metadata": {},
   "outputs": [
    {
     "data": {
      "text/plain": [
       "array([0.01693913, 0.01960825, 0.0243635 , ..., 0.0216552 , 0.0269017 ,\n",
       "       0.0227429 ])"
      ]
     },
     "execution_count": 74,
     "metadata": {},
     "output_type": "execute_result"
    }
   ],
   "source": [
    "pred"
   ]
  },
  {
   "cell_type": "markdown",
   "metadata": {},
   "source": [
    "## Модель для пользователей, которые мало отвечали"
   ]
  },
  {
   "cell_type": "code",
   "execution_count": 52,
   "metadata": {},
   "outputs": [
    {
     "data": {
      "text/plain": [
       "(10000000, 16)"
      ]
     },
     "execution_count": 52,
     "metadata": {},
     "output_type": "execute_result"
    }
   ],
   "source": [
    "train_df_newbie = train_df.loc[train_df.user_bundle_count < 15, :]\n",
    "train_df_newbie = pd.concat([train_df_newbie, train_newbie_df])\n",
    "train_df.shape"
   ]
  },
  {
   "cell_type": "code",
   "execution_count": 53,
   "metadata": {},
   "outputs": [],
   "source": [
    "train_df_newbie = make_features_newbie(train_df)\n",
    "valid_df_newbie = make_features_newbie(valid_dfs['first_user_answers'])"
   ]
  },
  {
   "cell_type": "code",
   "execution_count": 54,
   "metadata": {},
   "outputs": [],
   "source": [
    "lgbm_train = lgbm.Dataset(data = train_df_newbie.drop(columns='answered_correctly'),#.iloc[:1000000, :],\n",
    "                          label = train_df_newbie.loc[:, 'answered_correctly'],#.iloc[:1000000],\n",
    "                          categorical_feature=['part'],\n",
    "                          free_raw_data = False)\n",
    "\n",
    "lgbm_valid = lgbm.Dataset(data = valid_df_newbie.drop(columns='answered_correctly'),\n",
    "                          label = valid_df_newbie.loc[:, 'answered_correctly'],\n",
    "                          categorical_feature=['part'],\n",
    "                          free_raw_data = False)"
   ]
  },
  {
   "cell_type": "code",
   "execution_count": 55,
   "metadata": {},
   "outputs": [
    {
     "name": "stderr",
     "output_type": "stream",
     "text": [
      "/Users/n-surkov/opt/anaconda3/lib/python3.7/site-packages/lightgbm/engine.py:148: UserWarning: Found `num_boost_round` in params. Will use it instead of argument\n",
      "  warnings.warn(\"Found `{}` in params. Will use it instead of argument\".format(alias))\n",
      "/Users/n-surkov/opt/anaconda3/lib/python3.7/site-packages/lightgbm/engine.py:153: UserWarning: Found `early_stopping_rounds` in params. Will use it instead of argument\n",
      "  warnings.warn(\"Found `{}` in params. Will use it instead of argument\".format(alias))\n",
      "/Users/n-surkov/opt/anaconda3/lib/python3.7/site-packages/lightgbm/basic.py:1243: UserWarning: Using categorical_feature in Dataset.\n",
      "  warnings.warn('Using categorical_feature in Dataset.')\n"
     ]
    },
    {
     "name": "stdout",
     "output_type": "stream",
     "text": [
      "[1]\tvalid_0's auc: 0.707099\n",
      "Training until validation scores don't improve for 100 rounds\n",
      "[2]\tvalid_0's auc: 0.704969\n",
      "[3]\tvalid_0's auc: 0.693382\n",
      "[4]\tvalid_0's auc: 0.70604\n",
      "[5]\tvalid_0's auc: 0.704336\n",
      "[6]\tvalid_0's auc: 0.70604\n",
      "[7]\tvalid_0's auc: 0.708753\n",
      "[8]\tvalid_0's auc: 0.706421\n",
      "[9]\tvalid_0's auc: 0.707693\n",
      "[10]\tvalid_0's auc: 0.706485\n",
      "[11]\tvalid_0's auc: 0.706179\n",
      "[12]\tvalid_0's auc: 0.706869\n",
      "[13]\tvalid_0's auc: 0.706419\n",
      "[14]\tvalid_0's auc: 0.706962\n",
      "[15]\tvalid_0's auc: 0.707251\n",
      "[16]\tvalid_0's auc: 0.707397\n",
      "[17]\tvalid_0's auc: 0.7073\n",
      "[18]\tvalid_0's auc: 0.707392\n",
      "[19]\tvalid_0's auc: 0.707449\n",
      "[20]\tvalid_0's auc: 0.708331\n",
      "[21]\tvalid_0's auc: 0.708208\n",
      "[22]\tvalid_0's auc: 0.707637\n",
      "[23]\tvalid_0's auc: 0.708434\n",
      "[24]\tvalid_0's auc: 0.707647\n",
      "[25]\tvalid_0's auc: 0.70681\n",
      "[26]\tvalid_0's auc: 0.705335\n",
      "[27]\tvalid_0's auc: 0.705504\n",
      "[28]\tvalid_0's auc: 0.70515\n",
      "[29]\tvalid_0's auc: 0.705896\n",
      "[30]\tvalid_0's auc: 0.706205\n",
      "[31]\tvalid_0's auc: 0.706541\n",
      "[32]\tvalid_0's auc: 0.706994\n",
      "[33]\tvalid_0's auc: 0.707088\n",
      "[34]\tvalid_0's auc: 0.706199\n",
      "[35]\tvalid_0's auc: 0.707394\n",
      "[36]\tvalid_0's auc: 0.707574\n",
      "[37]\tvalid_0's auc: 0.70764\n",
      "[38]\tvalid_0's auc: 0.707516\n",
      "[39]\tvalid_0's auc: 0.708128\n",
      "[40]\tvalid_0's auc: 0.708213\n",
      "[41]\tvalid_0's auc: 0.708473\n",
      "[42]\tvalid_0's auc: 0.708946\n",
      "[43]\tvalid_0's auc: 0.709229\n",
      "[44]\tvalid_0's auc: 0.709491\n",
      "[45]\tvalid_0's auc: 0.709159\n",
      "[46]\tvalid_0's auc: 0.70965\n",
      "[47]\tvalid_0's auc: 0.709626\n",
      "[48]\tvalid_0's auc: 0.709953\n",
      "[49]\tvalid_0's auc: 0.71052\n",
      "[50]\tvalid_0's auc: 0.711157\n",
      "[51]\tvalid_0's auc: 0.711275\n",
      "[52]\tvalid_0's auc: 0.711098\n",
      "[53]\tvalid_0's auc: 0.711286\n",
      "[54]\tvalid_0's auc: 0.711236\n",
      "[55]\tvalid_0's auc: 0.711049\n",
      "[56]\tvalid_0's auc: 0.710947\n",
      "[57]\tvalid_0's auc: 0.710351\n",
      "[58]\tvalid_0's auc: 0.710256\n",
      "[59]\tvalid_0's auc: 0.710377\n",
      "[60]\tvalid_0's auc: 0.703298\n",
      "[61]\tvalid_0's auc: 0.700317\n",
      "[62]\tvalid_0's auc: 0.701339\n",
      "[63]\tvalid_0's auc: 0.699698\n",
      "[64]\tvalid_0's auc: 0.699612\n",
      "[65]\tvalid_0's auc: 0.688323\n",
      "[66]\tvalid_0's auc: 0.688406\n",
      "[67]\tvalid_0's auc: 0.687788\n",
      "[68]\tvalid_0's auc: 0.687764\n",
      "[69]\tvalid_0's auc: 0.687792\n",
      "[70]\tvalid_0's auc: 0.681634\n",
      "[71]\tvalid_0's auc: 0.681601\n",
      "[72]\tvalid_0's auc: 0.68158\n",
      "[73]\tvalid_0's auc: 0.681635\n",
      "[74]\tvalid_0's auc: 0.681662\n",
      "[75]\tvalid_0's auc: 0.681652\n",
      "[76]\tvalid_0's auc: 0.681487\n",
      "[77]\tvalid_0's auc: 0.677112\n",
      "[78]\tvalid_0's auc: 0.677165\n",
      "[79]\tvalid_0's auc: 0.677104\n",
      "[80]\tvalid_0's auc: 0.676717\n",
      "[81]\tvalid_0's auc: 0.676729\n",
      "[82]\tvalid_0's auc: 0.676369\n",
      "[83]\tvalid_0's auc: 0.676365\n",
      "[84]\tvalid_0's auc: 0.676398\n",
      "[85]\tvalid_0's auc: 0.676397\n",
      "[86]\tvalid_0's auc: 0.676395\n",
      "[87]\tvalid_0's auc: 0.674077\n",
      "[88]\tvalid_0's auc: 0.674056\n",
      "[89]\tvalid_0's auc: 0.674058\n",
      "[90]\tvalid_0's auc: 0.674058\n",
      "[91]\tvalid_0's auc: 0.674049\n",
      "[92]\tvalid_0's auc: 0.674044\n",
      "[93]\tvalid_0's auc: 0.674065\n",
      "[94]\tvalid_0's auc: 0.674033\n",
      "[95]\tvalid_0's auc: 0.674021\n",
      "[96]\tvalid_0's auc: 0.674039\n",
      "[97]\tvalid_0's auc: 0.674041\n",
      "[98]\tvalid_0's auc: 0.673762\n",
      "[99]\tvalid_0's auc: 0.673773\n",
      "[100]\tvalid_0's auc: 0.673773\n",
      "[101]\tvalid_0's auc: 0.67398\n",
      "[102]\tvalid_0's auc: 0.67398\n",
      "[103]\tvalid_0's auc: 0.673903\n",
      "[104]\tvalid_0's auc: 0.673903\n",
      "[105]\tvalid_0's auc: 0.673791\n",
      "[106]\tvalid_0's auc: 0.673797\n",
      "[107]\tvalid_0's auc: 0.673829\n",
      "[108]\tvalid_0's auc: 0.67379\n",
      "[109]\tvalid_0's auc: 0.673382\n",
      "[110]\tvalid_0's auc: 0.673384\n",
      "[111]\tvalid_0's auc: 0.674287\n",
      "[112]\tvalid_0's auc: 0.674315\n",
      "[113]\tvalid_0's auc: 0.674316\n",
      "[114]\tvalid_0's auc: 0.674352\n",
      "[115]\tvalid_0's auc: 0.674351\n",
      "[116]\tvalid_0's auc: 0.674351\n",
      "[117]\tvalid_0's auc: 0.674556\n",
      "[118]\tvalid_0's auc: 0.674545\n",
      "[119]\tvalid_0's auc: 0.674563\n",
      "[120]\tvalid_0's auc: 0.674569\n",
      "[121]\tvalid_0's auc: 0.674186\n",
      "[122]\tvalid_0's auc: 0.673942\n",
      "[123]\tvalid_0's auc: 0.673944\n",
      "[124]\tvalid_0's auc: 0.673947\n",
      "[125]\tvalid_0's auc: 0.673836\n",
      "[126]\tvalid_0's auc: 0.673871\n",
      "[127]\tvalid_0's auc: 0.673791\n",
      "[128]\tvalid_0's auc: 0.673793\n",
      "[129]\tvalid_0's auc: 0.673793\n",
      "[130]\tvalid_0's auc: 0.673732\n",
      "[131]\tvalid_0's auc: 0.673726\n",
      "[132]\tvalid_0's auc: 0.673732\n",
      "[133]\tvalid_0's auc: 0.673064\n",
      "[134]\tvalid_0's auc: 0.673075\n",
      "[135]\tvalid_0's auc: 0.672931\n",
      "[136]\tvalid_0's auc: 0.672933\n",
      "[137]\tvalid_0's auc: 0.67202\n",
      "[138]\tvalid_0's auc: 0.672355\n",
      "[139]\tvalid_0's auc: 0.672329\n",
      "[140]\tvalid_0's auc: 0.672269\n",
      "[141]\tvalid_0's auc: 0.672262\n",
      "[142]\tvalid_0's auc: 0.672262\n",
      "[143]\tvalid_0's auc: 0.672244\n",
      "[144]\tvalid_0's auc: 0.672247\n",
      "[145]\tvalid_0's auc: 0.671309\n",
      "[146]\tvalid_0's auc: 0.671336\n",
      "[147]\tvalid_0's auc: 0.671322\n",
      "[148]\tvalid_0's auc: 0.671328\n",
      "[149]\tvalid_0's auc: 0.671322\n",
      "[150]\tvalid_0's auc: 0.671292\n",
      "[151]\tvalid_0's auc: 0.671302\n",
      "[152]\tvalid_0's auc: 0.671268\n",
      "[153]\tvalid_0's auc: 0.671213\n",
      "Early stopping, best iteration is:\n",
      "[53]\tvalid_0's auc: 0.711286\n"
     ]
    }
   ],
   "source": [
    "params = {#'boosting_type': 'gbdt',\n",
    "#           'max_depth' : -1,\n",
    "          'objective': 'binary',\n",
    "#           'nthread': 3, # Updated from nthread\n",
    "#           'num_leaves': 100,\n",
    "#           'learning_rate': 0.1,\n",
    "#           'subsample': 0.8,\n",
    "#           'colsample_bytree': 0.8,\n",
    "#           'reg_alpha': 0.01,\n",
    "#           'reg_lambda': 100,\n",
    "          'metric' : 'auc',\n",
    "          'random_state': 17,\n",
    "          'num_boost_round': 10000,\n",
    "          'verbose_eval': 50,\n",
    "          'early_stopping_rounds': 100\n",
    "         }\n",
    "model_newbie = lgbm.train(\n",
    "    params = params,\n",
    "    train_set = lgbm_train,\n",
    "    valid_sets = [lgbm_valid]\n",
    ")"
   ]
  },
  {
   "cell_type": "code",
   "execution_count": 69,
   "metadata": {},
   "outputs": [
    {
     "data": {
      "image/png": "[encoded data removed]",
      "text/plain": [
       "<Figure size 1440x576 with 1 Axes>"
      ]
     },
     "metadata": {
      "needs_background": "light"
     },
     "output_type": "display_data"
    },
    {
     "data": {
      "image/png": "[encoded data removed]",
      "text/plain": [
       "<Figure size 1440x576 with 1 Axes>"
      ]
     },
     "metadata": {
      "needs_background": "light"
     },
     "output_type": "display_data"
    }
   ],
   "source": [
    "def show_feature_importances(model, importance_type, max_num_features=10**10):\n",
    "    feature_importances = pd.DataFrame()\n",
    "    feature_importances['feature'] = model.feature_name()\n",
    "    feature_importances['value'] = pd.DataFrame(model.feature_importance(importance_type))\n",
    "    feature_importances = feature_importances.sort_values(by='value', ascending=False) # sort feature importance\n",
    "    feature_importances.to_csv(f'feature_importances_{importance_type}.csv') # write feature importance to csv\n",
    "    feature_importances = feature_importances[:max_num_features] # only show max_num_features\n",
    "    \n",
    "    plt.figure(figsize=(20, 8))\n",
    "    plt.xlim([0, feature_importances.value.max()*1.1])\n",
    "    plt.title(f'Feature {importance_type}', fontsize=18);\n",
    "    sns.barplot(data=feature_importances, x='value', y='feature', palette='rocket');\n",
    "    for idx, v in enumerate(feature_importances.value):\n",
    "        plt.text(v, idx, \"  {:.2e}\".format(v))\n",
    "\n",
    "show_feature_importances(model_newbie, 'gain')\n",
    "show_feature_importances(model_newbie, 'split')"
   ]
  },
  {
   "cell_type": "code",
   "execution_count": 32,
   "metadata": {},
   "outputs": [
    {
     "data": {
      "text/plain": [
       "<lightgbm.basic.Booster at 0x7fb4dafdb6d0>"
      ]
     },
     "execution_count": 32,
     "metadata": {},
     "output_type": "execute_result"
    }
   ],
   "source": [
    "model.save_model(os.path.join(user_data_path, 'model_lgbm_ver1.lgb'))"
   ]
  },
  {
   "cell_type": "markdown",
   "metadata": {},
   "source": [
    "## Проверка предсказаний"
   ]
  },
  {
   "cell_type": "code",
   "execution_count": 64,
   "metadata": {},
   "outputs": [],
   "source": [
    "from sklearn.metrics import roc_auc_score"
   ]
  },
  {
   "cell_type": "code",
   "execution_count": 76,
   "metadata": {},
   "outputs": [
    {
     "name": "stderr",
     "output_type": "stream",
     "text": [
      "/Users/n-surkov/opt/anaconda3/lib/python3.7/site-packages/pandas/core/indexing.py:1745: SettingWithCopyWarning: \n",
      "A value is trying to be set on a copy of a slice from a DataFrame.\n",
      "Try using .loc[row_indexer,col_indexer] = value instead\n",
      "\n",
      "See the caveats in the documentation: https://pandas.pydata.org/pandas-docs/stable/user_guide/indexing.html#returning-a-view-versus-a-copy\n",
      "  isetter(ilocs[0], value)\n"
     ]
    },
    {
     "data": {
      "text/plain": [
       "0.740096820470971"
      ]
     },
     "execution_count": 76,
     "metadata": {},
     "output_type": "execute_result"
    }
   ],
   "source": [
    "test_df = pd.concat([valid_dfs['first_user_answers'], valid_dfs['last_user_answers']])\n",
    "ypred = make_prediction(test_df, model_profi, model_newbie, 1)\n",
    "roc_auc_score(test_df['answered_correctly'], ypred)"
   ]
  },
  {
   "cell_type": "markdown",
   "metadata": {},
   "source": [
    "# Поиск по сетке параметров"
   ]
  },
  {
   "cell_type": "code",
   "execution_count": 24,
   "metadata": {},
   "outputs": [
    {
     "name": "stdout",
     "output_type": "stream",
     "text": [
      "train_df use 915.53 mb in memory\n",
      "valid_df use 14.88 mb in memory\n",
      "question_characteristics use 0.67 mb in memory\n",
      "users_chars use 18.02 mb in memory\n"
     ]
    }
   ],
   "source": [
    "with open(os.path.join(user_data_path, 'train_df.pickle'), 'rb') as fo:\n",
    "    train_df = pickle.load(fo)\n",
    "with open(os.path.join(user_data_path, 'valid_df.pickle'), 'rb') as fo:\n",
    "    valid_df = pickle.load(fo)\n",
    "with open(os.path.join(user_data_path, 'users_characteristics.pickle'), 'rb') as fo:\n",
    "    users_chars = pickle.load(fo)\n",
    "with open(os.path.join(user_data_path, 'questions_chars.pickle'), 'rb') as fo:\n",
    "    q_chars = pickle.load(fo)\n",
    "    \n",
    "memory_usage(train_df, 'train_df')\n",
    "memory_usage(valid_df, 'valid_df')\n",
    "memory_usage(q_chars, 'question_characteristics')\n",
    "memory_usage(users_chars, 'users_chars')"
   ]
  },
  {
   "cell_type": "code",
   "execution_count": 25,
   "metadata": {},
   "outputs": [],
   "source": [
    "lgbm_train = lgbm.Dataset(data = train_df.drop(columns='answered_correctly').iloc[:1000000, :],\n",
    "                          label = train_df.loc[:, 'answered_correctly'].iloc[:1000000],\n",
    "                          categorical_feature=[0],\n",
    "                          free_raw_data = False)\n",
    "\n",
    "lgbm_valid = lgbm.Dataset(data = valid_df.drop(columns='answered_correctly'),\n",
    "                          label = valid_df.loc[:, 'answered_correctly'],\n",
    "                          categorical_feature=[0],\n",
    "                          free_raw_data = False)"
   ]
  },
  {
   "cell_type": "code",
   "execution_count": 26,
   "metadata": {},
   "outputs": [],
   "source": [
    "def combine_parameters(static_parameters, dynamic_parameters):\n",
    "    \"\"\"\n",
    "    Фнкция составления списка наборов параметров из заданного словаря\n",
    "    \"\"\"\n",
    "    if not dynamic_parameters:\n",
    "        return static_parameters\n",
    "\n",
    "    keys = list(dynamic_parameters.keys())\n",
    "    settings = []\n",
    "\n",
    "    if len(keys) == 1:\n",
    "        key = keys[0]\n",
    "        current_settings = static_parameters\n",
    "        for param in dynamic_parameters[key]:\n",
    "            current_settings[key] = param\n",
    "            settings.append(current_settings.copy())\n",
    "    else:\n",
    "        key = keys[0]\n",
    "        current_settings = static_parameters\n",
    "        current_dyn_params = dict([(name, val) for name, val in dynamic_parameters.items() if name != key])\n",
    "        for param in dynamic_parameters[key]:\n",
    "            current_settings[key] = param\n",
    "\n",
    "            current_parameters = combine_parameters(current_settings.copy(), current_dyn_params)\n",
    "            settings += current_parameters\n",
    "\n",
    "    return settings"
   ]
  },
  {
   "cell_type": "code",
   "execution_count": 36,
   "metadata": {},
   "outputs": [],
   "source": [
    "params = {'boosting_type': 'gbdt',\n",
    "          'max_depth' : -1,\n",
    "          'objective': 'binary',\n",
    "          'nthread': 3, # Updated from nthread\n",
    "          'num_leaves': 38,\n",
    "          'learning_rate': 0.1,\n",
    "          'subsample': 0.8,\n",
    "          'colsample_bytree': 0.8,\n",
    "          'reg_alpha': 0.01,\n",
    "          'reg_lambda': 100,\n",
    "          'metric' : 'auc',\n",
    "          'random_state': 17,\n",
    "          'num_boost_round': 2500,\n",
    "          'verbose_eval': 10,\n",
    "          'early_stopping_rounds': 10\n",
    "         }\n",
    "\n",
    "gridParams = {\n",
    "#     'learning_rate': [0.01, 0.1, 1.],\n",
    "    'num_leaves': [10, 30, 100, 500, 1000],\n",
    "#     'reg_alpha' : [0.001, 0.01, 0.1],\n",
    "#     'reg_lambda' : [10, 100, 1000],\n",
    "    }\n",
    "# NUM_BOOST_ROUND = 2500\n",
    "# VERBOSE_EVAL = 25\n",
    "\n",
    "# mdl = lgbm.LGBMClassifier(boosting_type= 'gbdt',\n",
    "#                         objective = 'binary',\n",
    "#                         n_jobs = 3, # Updated from 'nthread'\n",
    "#                         silent = True,\n",
    "#                         max_depth = params['max_depth'],\n",
    "#                         max_bin = params['max_bin'],\n",
    "#                         subsample_for_bin = params['subsample_for_bin'],\n",
    "#                         subsample = params['subsample'],\n",
    "#                         subsample_freq = params['subsample_freq'],\n",
    "#                         min_split_gain = params['min_split_gain'],\n",
    "#                         min_child_weight = params['min_child_weight'],\n",
    "#                         min_child_samples = params['min_child_samples'],\n",
    "#                         scale_pos_weight = params['scale_pos_weight'])\n",
    "# grid = GridSearchCV(mdl, gridParams,\n",
    "#                     verbose=0,\n",
    "#                     cv=4,\n",
    "#                     n_jobs=2)"
   ]
  },
  {
   "cell_type": "code",
   "execution_count": 37,
   "metadata": {
    "scrolled": true
   },
   "outputs": [
    {
     "name": "stderr",
     "output_type": "stream",
     "text": [
      "/Users/n-surkov/opt/anaconda3/lib/python3.7/site-packages/lightgbm/engine.py:148: UserWarning: Found `num_boost_round` in params. Will use it instead of argument\n",
      "  warnings.warn(\"Found `{}` in params. Will use it instead of argument\".format(alias))\n",
      "/Users/n-surkov/opt/anaconda3/lib/python3.7/site-packages/lightgbm/engine.py:153: UserWarning: Found `early_stopping_rounds` in params. Will use it instead of argument\n",
      "  warnings.warn(\"Found `{}` in params. Will use it instead of argument\".format(alias))\n",
      "/Users/n-surkov/opt/anaconda3/lib/python3.7/site-packages/lightgbm/basic.py:1243: UserWarning: Using categorical_feature in Dataset.\n",
      "  warnings.warn('Using categorical_feature in Dataset.')\n"
     ]
    },
    {
     "name": "stdout",
     "output_type": "stream",
     "text": [
      "[1]\tvalid_0's auc: 0.692812\n",
      "Training until validation scores don't improve for 10 rounds\n",
      "[2]\tvalid_0's auc: 0.724569\n",
      "[3]\tvalid_0's auc: 0.715703\n",
      "[4]\tvalid_0's auc: 0.71997\n",
      "[5]\tvalid_0's auc: 0.73692\n",
      "[6]\tvalid_0's auc: 0.738892\n",
      "[7]\tvalid_0's auc: 0.740201\n",
      "[8]\tvalid_0's auc: 0.741841\n",
      "[9]\tvalid_0's auc: 0.741844\n",
      "[10]\tvalid_0's auc: 0.744275\n",
      "[11]\tvalid_0's auc: 0.743767\n",
      "[12]\tvalid_0's auc: 0.744377\n",
      "[13]\tvalid_0's auc: 0.744862\n",
      "[14]\tvalid_0's auc: 0.744896\n",
      "[15]\tvalid_0's auc: 0.745394\n",
      "[16]\tvalid_0's auc: 0.745535\n",
      "[17]\tvalid_0's auc: 0.745387\n",
      "[18]\tvalid_0's auc: 0.745695\n",
      "[19]\tvalid_0's auc: 0.74552\n",
      "[20]\tvalid_0's auc: 0.745955\n",
      "[21]\tvalid_0's auc: 0.745994\n",
      "[22]\tvalid_0's auc: 0.746091\n",
      "[23]\tvalid_0's auc: 0.746968\n",
      "[24]\tvalid_0's auc: 0.747145\n",
      "[25]\tvalid_0's auc: 0.747393\n",
      "[26]\tvalid_0's auc: 0.747596\n",
      "[27]\tvalid_0's auc: 0.748156\n",
      "[28]\tvalid_0's auc: 0.749968\n",
      "[29]\tvalid_0's auc: 0.750235\n",
      "[30]\tvalid_0's auc: 0.750177\n",
      "[31]\tvalid_0's auc: 0.750176\n",
      "[32]\tvalid_0's auc: 0.74994\n",
      "[33]\tvalid_0's auc: 0.748984\n",
      "[34]\tvalid_0's auc: 0.749406\n",
      "[35]\tvalid_0's auc: 0.749952\n",
      "[36]\tvalid_0's auc: 0.750288\n",
      "[37]\tvalid_0's auc: 0.750291\n",
      "[38]\tvalid_0's auc: 0.750331\n",
      "[39]\tvalid_0's auc: 0.750652\n",
      "[40]\tvalid_0's auc: 0.751068\n",
      "[41]\tvalid_0's auc: 0.750443\n",
      "[42]\tvalid_0's auc: 0.750473\n",
      "[43]\tvalid_0's auc: 0.751288\n",
      "[44]\tvalid_0's auc: 0.751695\n",
      "[45]\tvalid_0's auc: 0.751695\n",
      "[46]\tvalid_0's auc: 0.751711\n",
      "[47]\tvalid_0's auc: 0.752631\n",
      "[48]\tvalid_0's auc: 0.753217\n",
      "[49]\tvalid_0's auc: 0.753459\n",
      "[50]\tvalid_0's auc: 0.753697\n",
      "[51]\tvalid_0's auc: 0.753756\n",
      "[52]\tvalid_0's auc: 0.753976\n",
      "[53]\tvalid_0's auc: 0.754118\n",
      "[54]\tvalid_0's auc: 0.754147\n",
      "[55]\tvalid_0's auc: 0.753605\n",
      "[56]\tvalid_0's auc: 0.753691\n",
      "[57]\tvalid_0's auc: 0.752967\n",
      "[58]\tvalid_0's auc: 0.75306\n",
      "[59]\tvalid_0's auc: 0.753389\n",
      "[60]\tvalid_0's auc: 0.753661\n",
      "[61]\tvalid_0's auc: 0.753793\n",
      "[62]\tvalid_0's auc: 0.753952\n",
      "[63]\tvalid_0's auc: 0.754145\n",
      "[64]\tvalid_0's auc: 0.75397\n",
      "Early stopping, best iteration is:\n",
      "[54]\tvalid_0's auc: 0.754147\n"
     ]
    },
    {
     "name": "stderr",
     "output_type": "stream",
     "text": [
      "/Users/n-surkov/opt/anaconda3/lib/python3.7/site-packages/lightgbm/engine.py:148: UserWarning: Found `num_boost_round` in params. Will use it instead of argument\n",
      "  warnings.warn(\"Found `{}` in params. Will use it instead of argument\".format(alias))\n",
      "/Users/n-surkov/opt/anaconda3/lib/python3.7/site-packages/lightgbm/engine.py:153: UserWarning: Found `early_stopping_rounds` in params. Will use it instead of argument\n",
      "  warnings.warn(\"Found `{}` in params. Will use it instead of argument\".format(alias))\n",
      "/Users/n-surkov/opt/anaconda3/lib/python3.7/site-packages/lightgbm/basic.py:1243: UserWarning: Using categorical_feature in Dataset.\n",
      "  warnings.warn('Using categorical_feature in Dataset.')\n"
     ]
    },
    {
     "name": "stdout",
     "output_type": "stream",
     "text": [
      "[1]\tvalid_0's auc: 0.681786\n",
      "Training until validation scores don't improve for 10 rounds\n",
      "[2]\tvalid_0's auc: 0.718565\n",
      "[3]\tvalid_0's auc: 0.727981\n",
      "[4]\tvalid_0's auc: 0.730421\n",
      "[5]\tvalid_0's auc: 0.741097\n",
      "[6]\tvalid_0's auc: 0.744635\n",
      "[7]\tvalid_0's auc: 0.743515\n",
      "[8]\tvalid_0's auc: 0.745779\n",
      "[9]\tvalid_0's auc: 0.747209\n",
      "[10]\tvalid_0's auc: 0.748561\n",
      "[11]\tvalid_0's auc: 0.747264\n",
      "[12]\tvalid_0's auc: 0.745723\n",
      "[13]\tvalid_0's auc: 0.7461\n",
      "[14]\tvalid_0's auc: 0.747136\n",
      "[15]\tvalid_0's auc: 0.747412\n",
      "[16]\tvalid_0's auc: 0.747089\n",
      "[17]\tvalid_0's auc: 0.747642\n",
      "[18]\tvalid_0's auc: 0.747623\n",
      "[19]\tvalid_0's auc: 0.747512\n",
      "[20]\tvalid_0's auc: 0.749032\n",
      "[21]\tvalid_0's auc: 0.74825\n",
      "[22]\tvalid_0's auc: 0.748464\n",
      "[23]\tvalid_0's auc: 0.749184\n",
      "[24]\tvalid_0's auc: 0.749659\n",
      "[25]\tvalid_0's auc: 0.748939\n",
      "[26]\tvalid_0's auc: 0.749417\n",
      "[27]\tvalid_0's auc: 0.750028\n",
      "[28]\tvalid_0's auc: 0.750607\n",
      "[29]\tvalid_0's auc: 0.751078\n",
      "[30]\tvalid_0's auc: 0.750575\n",
      "[31]\tvalid_0's auc: 0.750647\n",
      "[32]\tvalid_0's auc: 0.751515\n",
      "[33]\tvalid_0's auc: 0.750984\n",
      "[34]\tvalid_0's auc: 0.751747\n",
      "[35]\tvalid_0's auc: 0.752461\n",
      "[36]\tvalid_0's auc: 0.752791\n",
      "[37]\tvalid_0's auc: 0.752985\n",
      "[38]\tvalid_0's auc: 0.753049\n",
      "[39]\tvalid_0's auc: 0.753218\n",
      "[40]\tvalid_0's auc: 0.753382\n",
      "[41]\tvalid_0's auc: 0.753786\n",
      "[42]\tvalid_0's auc: 0.75394\n",
      "[43]\tvalid_0's auc: 0.753818\n",
      "[44]\tvalid_0's auc: 0.754285\n",
      "[45]\tvalid_0's auc: 0.754399\n",
      "[46]\tvalid_0's auc: 0.754911\n",
      "[47]\tvalid_0's auc: 0.755222\n",
      "[48]\tvalid_0's auc: 0.755533\n",
      "[49]\tvalid_0's auc: 0.755023\n",
      "[50]\tvalid_0's auc: 0.75546\n",
      "[51]\tvalid_0's auc: 0.755816\n",
      "[52]\tvalid_0's auc: 0.756054\n",
      "[53]\tvalid_0's auc: 0.756312\n",
      "[54]\tvalid_0's auc: 0.756014\n",
      "[55]\tvalid_0's auc: 0.755861\n",
      "[56]\tvalid_0's auc: 0.755799\n",
      "[57]\tvalid_0's auc: 0.755949\n",
      "[58]\tvalid_0's auc: 0.755951\n",
      "[59]\tvalid_0's auc: 0.755237\n",
      "[60]\tvalid_0's auc: 0.755803\n",
      "[61]\tvalid_0's auc: 0.755996\n",
      "[62]\tvalid_0's auc: 0.755251\n",
      "[63]\tvalid_0's auc: 0.756004\n",
      "Early stopping, best iteration is:\n",
      "[53]\tvalid_0's auc: 0.756312\n"
     ]
    },
    {
     "name": "stderr",
     "output_type": "stream",
     "text": [
      "/Users/n-surkov/opt/anaconda3/lib/python3.7/site-packages/lightgbm/engine.py:148: UserWarning: Found `num_boost_round` in params. Will use it instead of argument\n",
      "  warnings.warn(\"Found `{}` in params. Will use it instead of argument\".format(alias))\n",
      "/Users/n-surkov/opt/anaconda3/lib/python3.7/site-packages/lightgbm/engine.py:153: UserWarning: Found `early_stopping_rounds` in params. Will use it instead of argument\n",
      "  warnings.warn(\"Found `{}` in params. Will use it instead of argument\".format(alias))\n",
      "/Users/n-surkov/opt/anaconda3/lib/python3.7/site-packages/lightgbm/basic.py:1243: UserWarning: Using categorical_feature in Dataset.\n",
      "  warnings.warn('Using categorical_feature in Dataset.')\n"
     ]
    },
    {
     "name": "stdout",
     "output_type": "stream",
     "text": [
      "[1]\tvalid_0's auc: 0.720445\n",
      "Training until validation scores don't improve for 10 rounds\n",
      "[2]\tvalid_0's auc: 0.727728\n",
      "[3]\tvalid_0's auc: 0.733256\n",
      "[4]\tvalid_0's auc: 0.734823\n",
      "[5]\tvalid_0's auc: 0.739981\n",
      "[6]\tvalid_0's auc: 0.737501\n",
      "[7]\tvalid_0's auc: 0.738442\n",
      "[8]\tvalid_0's auc: 0.742359\n",
      "[9]\tvalid_0's auc: 0.74248\n",
      "[10]\tvalid_0's auc: 0.745596\n",
      "[11]\tvalid_0's auc: 0.743498\n",
      "[12]\tvalid_0's auc: 0.742945\n",
      "[13]\tvalid_0's auc: 0.742573\n",
      "[14]\tvalid_0's auc: 0.744035\n",
      "[15]\tvalid_0's auc: 0.74424\n",
      "[16]\tvalid_0's auc: 0.744447\n",
      "[17]\tvalid_0's auc: 0.744419\n",
      "[18]\tvalid_0's auc: 0.744351\n",
      "[19]\tvalid_0's auc: 0.744836\n",
      "[20]\tvalid_0's auc: 0.745628\n",
      "[21]\tvalid_0's auc: 0.745031\n",
      "[22]\tvalid_0's auc: 0.74491\n",
      "[23]\tvalid_0's auc: 0.744988\n",
      "[24]\tvalid_0's auc: 0.745804\n",
      "[25]\tvalid_0's auc: 0.746238\n",
      "[26]\tvalid_0's auc: 0.74686\n",
      "[27]\tvalid_0's auc: 0.74746\n",
      "[28]\tvalid_0's auc: 0.74894\n",
      "[29]\tvalid_0's auc: 0.749028\n",
      "[30]\tvalid_0's auc: 0.748842\n",
      "[31]\tvalid_0's auc: 0.747517\n",
      "[32]\tvalid_0's auc: 0.747356\n",
      "[33]\tvalid_0's auc: 0.747553\n",
      "[34]\tvalid_0's auc: 0.747807\n",
      "[35]\tvalid_0's auc: 0.74786\n",
      "[36]\tvalid_0's auc: 0.747376\n",
      "[37]\tvalid_0's auc: 0.747845\n",
      "[38]\tvalid_0's auc: 0.748466\n",
      "[39]\tvalid_0's auc: 0.74921\n",
      "[40]\tvalid_0's auc: 0.749131\n",
      "[41]\tvalid_0's auc: 0.749598\n",
      "[42]\tvalid_0's auc: 0.749474\n",
      "[43]\tvalid_0's auc: 0.7498\n",
      "[44]\tvalid_0's auc: 0.750341\n",
      "[45]\tvalid_0's auc: 0.751018\n",
      "[46]\tvalid_0's auc: 0.75135\n",
      "[47]\tvalid_0's auc: 0.751383\n",
      "[48]\tvalid_0's auc: 0.751854\n",
      "[49]\tvalid_0's auc: 0.752298\n",
      "[50]\tvalid_0's auc: 0.752581\n",
      "[51]\tvalid_0's auc: 0.752851\n",
      "[52]\tvalid_0's auc: 0.752765\n",
      "[53]\tvalid_0's auc: 0.752841\n",
      "[54]\tvalid_0's auc: 0.75305\n",
      "[55]\tvalid_0's auc: 0.75271\n",
      "[56]\tvalid_0's auc: 0.753155\n",
      "[57]\tvalid_0's auc: 0.753254\n",
      "[58]\tvalid_0's auc: 0.753508\n",
      "[59]\tvalid_0's auc: 0.753206\n",
      "[60]\tvalid_0's auc: 0.753661\n",
      "[61]\tvalid_0's auc: 0.75399\n",
      "[62]\tvalid_0's auc: 0.754814\n",
      "[63]\tvalid_0's auc: 0.755514\n",
      "[64]\tvalid_0's auc: 0.755794\n",
      "[65]\tvalid_0's auc: 0.755896\n",
      "[66]\tvalid_0's auc: 0.756176\n",
      "[67]\tvalid_0's auc: 0.755908\n",
      "[68]\tvalid_0's auc: 0.755934\n",
      "[69]\tvalid_0's auc: 0.755873\n",
      "[70]\tvalid_0's auc: 0.755967\n",
      "[71]\tvalid_0's auc: 0.756001\n",
      "[72]\tvalid_0's auc: 0.756258\n",
      "[73]\tvalid_0's auc: 0.755866\n",
      "[74]\tvalid_0's auc: 0.755938\n",
      "[75]\tvalid_0's auc: 0.755765\n",
      "[76]\tvalid_0's auc: 0.755784\n",
      "[77]\tvalid_0's auc: 0.75576\n",
      "[78]\tvalid_0's auc: 0.75588\n",
      "[79]\tvalid_0's auc: 0.755919\n",
      "[80]\tvalid_0's auc: 0.755965\n",
      "[81]\tvalid_0's auc: 0.755928\n",
      "[82]\tvalid_0's auc: 0.756287\n",
      "[83]\tvalid_0's auc: 0.756268\n",
      "[84]\tvalid_0's auc: 0.756697\n",
      "[85]\tvalid_0's auc: 0.756768\n",
      "[86]\tvalid_0's auc: 0.757139\n",
      "[87]\tvalid_0's auc: 0.757364\n",
      "[88]\tvalid_0's auc: 0.757405\n",
      "[89]\tvalid_0's auc: 0.75754\n",
      "[90]\tvalid_0's auc: 0.7578\n",
      "[91]\tvalid_0's auc: 0.757688\n",
      "[92]\tvalid_0's auc: 0.757542\n",
      "[93]\tvalid_0's auc: 0.757628\n",
      "[94]\tvalid_0's auc: 0.757652\n",
      "[95]\tvalid_0's auc: 0.757657\n",
      "[96]\tvalid_0's auc: 0.757907\n",
      "[97]\tvalid_0's auc: 0.757921\n",
      "[98]\tvalid_0's auc: 0.757917\n",
      "[99]\tvalid_0's auc: 0.75792\n",
      "[100]\tvalid_0's auc: 0.758466\n",
      "[101]\tvalid_0's auc: 0.758453\n",
      "[102]\tvalid_0's auc: 0.758958\n",
      "[103]\tvalid_0's auc: 0.759029\n",
      "[104]\tvalid_0's auc: 0.759021\n",
      "[105]\tvalid_0's auc: 0.759307\n",
      "[106]\tvalid_0's auc: 0.759308\n",
      "[107]\tvalid_0's auc: 0.759443\n",
      "[108]\tvalid_0's auc: 0.759445\n",
      "[109]\tvalid_0's auc: 0.75879\n",
      "[110]\tvalid_0's auc: 0.758767\n",
      "[111]\tvalid_0's auc: 0.758806\n",
      "[112]\tvalid_0's auc: 0.758831\n",
      "[113]\tvalid_0's auc: 0.758857\n",
      "[114]\tvalid_0's auc: 0.758894\n",
      "[115]\tvalid_0's auc: 0.759173\n",
      "[116]\tvalid_0's auc: 0.759222\n",
      "[117]\tvalid_0's auc: 0.759253\n",
      "[118]\tvalid_0's auc: 0.759199\n",
      "Early stopping, best iteration is:\n",
      "[108]\tvalid_0's auc: 0.759445\n"
     ]
    },
    {
     "name": "stderr",
     "output_type": "stream",
     "text": [
      "/Users/n-surkov/opt/anaconda3/lib/python3.7/site-packages/lightgbm/engine.py:148: UserWarning: Found `num_boost_round` in params. Will use it instead of argument\n",
      "  warnings.warn(\"Found `{}` in params. Will use it instead of argument\".format(alias))\n",
      "/Users/n-surkov/opt/anaconda3/lib/python3.7/site-packages/lightgbm/engine.py:153: UserWarning: Found `early_stopping_rounds` in params. Will use it instead of argument\n",
      "  warnings.warn(\"Found `{}` in params. Will use it instead of argument\".format(alias))\n",
      "/Users/n-surkov/opt/anaconda3/lib/python3.7/site-packages/lightgbm/basic.py:1243: UserWarning: Using categorical_feature in Dataset.\n",
      "  warnings.warn('Using categorical_feature in Dataset.')\n"
     ]
    },
    {
     "name": "stdout",
     "output_type": "stream",
     "text": [
      "[1]\tvalid_0's auc: 0.720434\n",
      "Training until validation scores don't improve for 10 rounds\n",
      "[2]\tvalid_0's auc: 0.727214\n",
      "[3]\tvalid_0's auc: 0.732699\n",
      "[4]\tvalid_0's auc: 0.735086\n",
      "[5]\tvalid_0's auc: 0.742749\n",
      "[6]\tvalid_0's auc: 0.744609\n",
      "[7]\tvalid_0's auc: 0.74561\n",
      "[8]\tvalid_0's auc: 0.748619\n",
      "[9]\tvalid_0's auc: 0.747815\n",
      "[10]\tvalid_0's auc: 0.75022\n",
      "[11]\tvalid_0's auc: 0.748768\n",
      "[12]\tvalid_0's auc: 0.748999\n",
      "[13]\tvalid_0's auc: 0.749721\n",
      "[14]\tvalid_0's auc: 0.750914\n",
      "[15]\tvalid_0's auc: 0.750595\n",
      "[16]\tvalid_0's auc: 0.750312\n",
      "[17]\tvalid_0's auc: 0.750298\n",
      "[18]\tvalid_0's auc: 0.750141\n",
      "[19]\tvalid_0's auc: 0.749613\n",
      "[20]\tvalid_0's auc: 0.750569\n",
      "[21]\tvalid_0's auc: 0.7503\n",
      "[22]\tvalid_0's auc: 0.75088\n",
      "[23]\tvalid_0's auc: 0.751288\n",
      "[24]\tvalid_0's auc: 0.752302\n",
      "[25]\tvalid_0's auc: 0.752791\n",
      "[26]\tvalid_0's auc: 0.752898\n",
      "[27]\tvalid_0's auc: 0.7537\n",
      "[28]\tvalid_0's auc: 0.753799\n",
      "[29]\tvalid_0's auc: 0.754115\n",
      "[30]\tvalid_0's auc: 0.753966\n",
      "[31]\tvalid_0's auc: 0.75394\n",
      "[32]\tvalid_0's auc: 0.753603\n",
      "[33]\tvalid_0's auc: 0.753266\n",
      "[34]\tvalid_0's auc: 0.753447\n",
      "[35]\tvalid_0's auc: 0.753888\n",
      "[36]\tvalid_0's auc: 0.755114\n",
      "[37]\tvalid_0's auc: 0.754882\n",
      "[38]\tvalid_0's auc: 0.755161\n",
      "[39]\tvalid_0's auc: 0.755104\n",
      "[40]\tvalid_0's auc: 0.755246\n",
      "[41]\tvalid_0's auc: 0.754717\n",
      "[42]\tvalid_0's auc: 0.75507\n",
      "[43]\tvalid_0's auc: 0.755051\n",
      "[44]\tvalid_0's auc: 0.755108\n",
      "[45]\tvalid_0's auc: 0.75567\n",
      "[46]\tvalid_0's auc: 0.756046\n",
      "[47]\tvalid_0's auc: 0.75597\n",
      "[48]\tvalid_0's auc: 0.755774\n",
      "[49]\tvalid_0's auc: 0.75594\n",
      "[50]\tvalid_0's auc: 0.755487\n",
      "[51]\tvalid_0's auc: 0.75559\n",
      "[52]\tvalid_0's auc: 0.755059\n",
      "[53]\tvalid_0's auc: 0.754968\n",
      "[54]\tvalid_0's auc: 0.75491\n",
      "[55]\tvalid_0's auc: 0.754382\n",
      "[56]\tvalid_0's auc: 0.75478\n",
      "Early stopping, best iteration is:\n",
      "[46]\tvalid_0's auc: 0.756046\n"
     ]
    },
    {
     "name": "stderr",
     "output_type": "stream",
     "text": [
      "/Users/n-surkov/opt/anaconda3/lib/python3.7/site-packages/lightgbm/engine.py:148: UserWarning: Found `num_boost_round` in params. Will use it instead of argument\n",
      "  warnings.warn(\"Found `{}` in params. Will use it instead of argument\".format(alias))\n",
      "/Users/n-surkov/opt/anaconda3/lib/python3.7/site-packages/lightgbm/engine.py:153: UserWarning: Found `early_stopping_rounds` in params. Will use it instead of argument\n",
      "  warnings.warn(\"Found `{}` in params. Will use it instead of argument\".format(alias))\n",
      "/Users/n-surkov/opt/anaconda3/lib/python3.7/site-packages/lightgbm/basic.py:1243: UserWarning: Using categorical_feature in Dataset.\n",
      "  warnings.warn('Using categorical_feature in Dataset.')\n"
     ]
    },
    {
     "name": "stdout",
     "output_type": "stream",
     "text": [
      "[1]\tvalid_0's auc: 0.71943\n",
      "Training until validation scores don't improve for 10 rounds\n",
      "[2]\tvalid_0's auc: 0.727208\n",
      "[3]\tvalid_0's auc: 0.731399\n",
      "[4]\tvalid_0's auc: 0.736553\n",
      "[5]\tvalid_0's auc: 0.744432\n",
      "[6]\tvalid_0's auc: 0.7458\n",
      "[7]\tvalid_0's auc: 0.746757\n",
      "[8]\tvalid_0's auc: 0.749513\n",
      "[9]\tvalid_0's auc: 0.7489\n",
      "[10]\tvalid_0's auc: 0.750554\n",
      "[11]\tvalid_0's auc: 0.748994\n",
      "[12]\tvalid_0's auc: 0.747649\n",
      "[13]\tvalid_0's auc: 0.747494\n",
      "[14]\tvalid_0's auc: 0.749317\n",
      "[15]\tvalid_0's auc: 0.74836\n",
      "[16]\tvalid_0's auc: 0.747911\n",
      "[17]\tvalid_0's auc: 0.747923\n",
      "[18]\tvalid_0's auc: 0.748282\n",
      "[19]\tvalid_0's auc: 0.748164\n",
      "[20]\tvalid_0's auc: 0.749653\n",
      "Early stopping, best iteration is:\n",
      "[10]\tvalid_0's auc: 0.750554\n"
     ]
    }
   ],
   "source": [
    "score_list = []\n",
    "param_list = combine_parameters(params, gridParams)\n",
    "\n",
    "for current_params in param_list:\n",
    "    model = lgbm.train(params=current_params, train_set = lgbm_train, valid_sets = [lgbm_valid])\n",
    "    y_predict = model.predict(lgbm_valid.data)\n",
    "    score_list.append(metrics.roc_auc_score(lgbm_valid.label, y_predict))"
   ]
  },
  {
   "cell_type": "code",
   "execution_count": 38,
   "metadata": {},
   "outputs": [
    {
     "name": "stdout",
     "output_type": "stream",
     "text": [
      "best score 0.75944 on {'num_leaves': 100}\n"
     ]
    }
   ],
   "source": [
    "i = np.argmax(score_list)\n",
    "best_params = dict((key, val) for key, val in param_list[i].items() if key in gridParams.keys())\n",
    "print('best score {:.5f} on {}'.format(score_list[i], best_params))"
   ]
  },
  {
   "cell_type": "code",
   "execution_count": 30,
   "metadata": {},
   "outputs": [
    {
     "name": "stdout",
     "output_type": "stream",
     "text": [
      "CPU times: user 5.19 s, sys: 1.33 s, total: 6.52 s\n",
      "Wall time: 4min 34s\n"
     ]
    },
    {
     "data": {
      "text/plain": [
       "GridSearchCV(cv=4,\n",
       "             estimator=LGBMClassifier(max_bin=512, min_child_samples=5,\n",
       "                                      min_child_weight=1, min_split_gain=0.5,\n",
       "                                      n_jobs=3, objective='binary',\n",
       "                                      scale_pos_weight=1, subsample=1,\n",
       "                                      subsample_for_bin=200, subsample_freq=1),\n",
       "             n_jobs=2,\n",
       "             param_grid={'boosting_type': ['gbdt'],\n",
       "                         'colsample_bytree': [0.3, 0.6],\n",
       "                         'learning_rate': [0.05, 0.5], 'n_estimators': [40],\n",
       "                         'num_leaves': [3, 6, 8], 'objective': ['binary'],\n",
       "                         'random_state': [501], 'reg_alpha': [0.1, 1],\n",
       "                         'reg_lambda': [0.1, 1], 'subsample': [0.4, 0.7]})"
      ]
     },
     "execution_count": 30,
     "metadata": {},
     "output_type": "execute_result"
    }
   ],
   "source": [
    "%%time\n",
    "grid.fit(train_df.iloc[:1000000, :], train_df.iloc[:1000000, :]['answered_correctly'])"
   ]
  },
  {
   "cell_type": "code",
   "execution_count": 31,
   "metadata": {},
   "outputs": [
    {
     "data": {
      "text/plain": [
       "{'boosting_type': 'gbdt',\n",
       " 'colsample_bytree': 0.3,\n",
       " 'learning_rate': 0.5,\n",
       " 'n_estimators': 40,\n",
       " 'num_leaves': 3,\n",
       " 'objective': 'binary',\n",
       " 'random_state': 501,\n",
       " 'reg_alpha': 0.1,\n",
       " 'reg_lambda': 0.1,\n",
       " 'subsample': 0.4}"
      ]
     },
     "execution_count": 31,
     "metadata": {},
     "output_type": "execute_result"
    }
   ],
   "source": [
    "grid.best_params_"
   ]
  },
  {
   "cell_type": "code",
   "execution_count": 32,
   "metadata": {},
   "outputs": [
    {
     "data": {
      "text/plain": [
       "0.7710950884905755"
      ]
     },
     "execution_count": 32,
     "metadata": {},
     "output_type": "execute_result"
    }
   ],
   "source": [
    "model.best_score['valid_0']['auc']"
   ]
  },
  {
   "cell_type": "code",
   "execution_count": 108,
   "metadata": {},
   "outputs": [
    {
     "data": {
      "text/plain": [
       "<lightgbm.basic.Booster at 0x7fdb6e6430d0>"
      ]
     },
     "execution_count": 108,
     "metadata": {},
     "output_type": "execute_result"
    }
   ],
   "source": [
    "model.save_model(os.path.join(user_data_path, 'model_lgbm_ver1.lgb'))"
   ]
  },
  {
   "cell_type": "code",
   "execution_count": 110,
   "metadata": {},
   "outputs": [],
   "source": [
    "model_2 = lgbm.Booster(model_file=os.path.join(user_data_path, 'model_lgbm_ver1.lgb'))"
   ]
  },
  {
   "cell_type": "code",
   "execution_count": 112,
   "metadata": {},
   "outputs": [
    {
     "data": {
      "text/plain": [
       "array([0.67026076, 0.1258083 , 0.1258083 , ..., 0.97617155, 0.57685161,\n",
       "       0.55882361])"
      ]
     },
     "execution_count": 112,
     "metadata": {},
     "output_type": "execute_result"
    }
   ],
   "source": [
    "model_2.predict(valid_df)"
   ]
  },
  {
   "cell_type": "code",
   "execution_count": 113,
   "metadata": {},
   "outputs": [
    {
     "data": {
      "text/plain": [
       "0.7807047143355663"
      ]
     },
     "execution_count": 113,
     "metadata": {},
     "output_type": "execute_result"
    }
   ],
   "source": [
    "metrics.roc_auc_score(valid_df['answered_correctly'], model_2.predict(valid_df))"
   ]
  },
  {
   "cell_type": "code",
   "execution_count": 13,
   "metadata": {},
   "outputs": [],
   "source": [
    "# param = {\n",
    "#         'num_leaves': 80,\n",
    "#         'max_bin': 250,\n",
    "#         'min_data_in_leaf': 11,\n",
    "#         'learning_rate': 0.01,\n",
    "#         'min_sum_hessian_in_leaf': 0.00245,\n",
    "#         'bagging_fraction': 1.0, \n",
    "#         'bagging_freq': 5, \n",
    "#         'feature_fraction': 0.05,\n",
    "#         'lambda_l1': 4.972,\n",
    "#         'lambda_l2': 2.276,\n",
    "#         'min_gain_to_split': 0.65,\n",
    "#         'max_depth': 14,\n",
    "#         'save_binary': True,\n",
    "#         'seed': 1337,\n",
    "#         'feature_fraction_seed': 1337,\n",
    "#         'bagging_seed': 1337,\n",
    "#         'drop_seed': 1337,\n",
    "#         'data_random_seed': 1337,\n",
    "#         'objective': 'binary',\n",
    "#         'boosting_type': 'gbdt',\n",
    "#         'verbose': 1,\n",
    "#         'metric': 'auc',\n",
    "#         'is_unbalance': True,\n",
    "#         'boost_from_average': False,\n",
    "#         'device': 'cpu',\n",
    "#         'gpu_platform_id': 0,\n",
    "#         'gpu_device_id': 0\n",
    "#     }"
   ]
  },
  {
   "cell_type": "code",
   "execution_count": 92,
   "metadata": {
    "scrolled": false
   },
   "outputs": [
    {
     "name": "stderr",
     "output_type": "stream",
     "text": [
      "posx and posy should be finite values\n",
      "posx and posy should be finite values\n"
     ]
    },
    {
     "data": {
      "image/png": "[encoded data removed]",
      "text/plain": [
       "<Figure size 1440x576 with 1 Axes>"
      ]
     },
     "metadata": {
      "needs_background": "light"
     },
     "output_type": "display_data"
    },
    {
     "name": "stderr",
     "output_type": "stream",
     "text": [
      "posx and posy should be finite values\n",
      "posx and posy should be finite values\n"
     ]
    },
    {
     "data": {
      "image/png": "[encoded data removed]",
      "text/plain": [
       "<Figure size 1440x576 with 1 Axes>"
      ]
     },
     "metadata": {
      "needs_background": "light"
     },
     "output_type": "display_data"
    }
   ],
   "source": [
    "def show_feature_importances(model, importance_type, max_num_features=10**10):\n",
    "    feature_importances = pd.DataFrame()\n",
    "    feature_importances['feature'] = train_df.columns\n",
    "    feature_importances['value'] = pd.DataFrame(model.feature_importance(importance_type))\n",
    "    feature_importances = feature_importances.sort_values(by='value', ascending=False) # sort feature importance\n",
    "    feature_importances.to_csv(f'feature_importances_{importance_type}.csv') # write feature importance to csv\n",
    "    feature_importances = feature_importances[:max_num_features] # only show max_num_features\n",
    "    \n",
    "    plt.figure(figsize=(20, 8))\n",
    "    plt.xlim([0, feature_importances.value.max()*1.1])\n",
    "    plt.title(f'Feature {importance_type}', fontsize=18);\n",
    "    sns.barplot(data=feature_importances, x='value', y='feature', palette='rocket');\n",
    "    for idx, v in enumerate(feature_importances.value):\n",
    "        plt.text(v, idx, \"  {:.2e}\".format(v))\n",
    "\n",
    "show_feature_importances(model, 'gain')\n",
    "show_feature_importances(model, 'split')"
   ]
  },
  {
   "cell_type": "code",
   "execution_count": null,
   "metadata": {},
   "outputs": [],
   "source": []
  },
  {
   "cell_type": "code",
   "execution_count": 85,
   "metadata": {},
   "outputs": [
    {
     "ename": "SHAPError",
     "evalue": "This reshape error is often caused by passing a bad data matrix to SHAP. See https://github.com/slundberg/shap/issues/580",
     "output_type": "error",
     "traceback": [
      "\u001b[0;31m---------------------------------------------------------------------------\u001b[0m",
      "\u001b[0;31mValueError\u001b[0m                                Traceback (most recent call last)",
      "\u001b[0;32m~/opt/anaconda3/lib/python3.7/site-packages/shap/explainers/tree.py\u001b[0m in \u001b[0;36mshap_values\u001b[0;34m(self, X, y, tree_limit, approximate, check_additivity)\u001b[0m\n\u001b[1;32m    252\u001b[0m                     \u001b[0;32mtry\u001b[0m\u001b[0;34m:\u001b[0m\u001b[0;34m\u001b[0m\u001b[0;34m\u001b[0m\u001b[0m\n\u001b[0;32m--> 253\u001b[0;31m                         \u001b[0mphi\u001b[0m \u001b[0;34m=\u001b[0m \u001b[0mphi\u001b[0m\u001b[0;34m.\u001b[0m\u001b[0mreshape\u001b[0m\u001b[0;34m(\u001b[0m\u001b[0mX\u001b[0m\u001b[0;34m.\u001b[0m\u001b[0mshape\u001b[0m\u001b[0;34m[\u001b[0m\u001b[0;36m0\u001b[0m\u001b[0;34m]\u001b[0m\u001b[0;34m,\u001b[0m \u001b[0mphi\u001b[0m\u001b[0;34m.\u001b[0m\u001b[0mshape\u001b[0m\u001b[0;34m[\u001b[0m\u001b[0;36m1\u001b[0m\u001b[0;34m]\u001b[0m\u001b[0;34m//\u001b[0m\u001b[0;34m(\u001b[0m\u001b[0mX\u001b[0m\u001b[0;34m.\u001b[0m\u001b[0mshape\u001b[0m\u001b[0;34m[\u001b[0m\u001b[0;36m1\u001b[0m\u001b[0;34m]\u001b[0m\u001b[0;34m+\u001b[0m\u001b[0;36m1\u001b[0m\u001b[0;34m)\u001b[0m\u001b[0;34m,\u001b[0m \u001b[0mX\u001b[0m\u001b[0;34m.\u001b[0m\u001b[0mshape\u001b[0m\u001b[0;34m[\u001b[0m\u001b[0;36m1\u001b[0m\u001b[0;34m]\u001b[0m\u001b[0;34m+\u001b[0m\u001b[0;36m1\u001b[0m\u001b[0;34m)\u001b[0m\u001b[0;34m\u001b[0m\u001b[0;34m\u001b[0m\u001b[0m\n\u001b[0m\u001b[1;32m    254\u001b[0m                     \u001b[0;32mexcept\u001b[0m \u001b[0mValueError\u001b[0m \u001b[0;32mas\u001b[0m \u001b[0me\u001b[0m\u001b[0;34m:\u001b[0m\u001b[0;34m\u001b[0m\u001b[0;34m\u001b[0m\u001b[0m\n",
      "\u001b[0;31mValueError\u001b[0m: cannot reshape array of size 1165580 into shape (44830,1,14)",
      "\nThe above exception was the direct cause of the following exception:\n",
      "\u001b[0;31mSHAPError\u001b[0m                                 Traceback (most recent call last)",
      "\u001b[0;32m<ipython-input-85-15da9a4ec40a>\u001b[0m in \u001b[0;36m<module>\u001b[0;34m\u001b[0m\n\u001b[1;32m      2\u001b[0m \u001b[0;34m\u001b[0m\u001b[0m\n\u001b[1;32m      3\u001b[0m \u001b[0mexplainer\u001b[0m \u001b[0;34m=\u001b[0m \u001b[0mshap\u001b[0m\u001b[0;34m.\u001b[0m\u001b[0mTreeExplainer\u001b[0m\u001b[0;34m(\u001b[0m\u001b[0mmodel\u001b[0m\u001b[0;34m)\u001b[0m\u001b[0;34m\u001b[0m\u001b[0;34m\u001b[0m\u001b[0m\n\u001b[0;32m----> 4\u001b[0;31m \u001b[0mshap_values\u001b[0m \u001b[0;34m=\u001b[0m \u001b[0mexplainer\u001b[0m\u001b[0;34m.\u001b[0m\u001b[0mshap_values\u001b[0m\u001b[0;34m(\u001b[0m\u001b[0mvalid_df\u001b[0m\u001b[0;34m)\u001b[0m\u001b[0;34m\u001b[0m\u001b[0;34m\u001b[0m\u001b[0m\n\u001b[0m",
      "\u001b[0;32m~/opt/anaconda3/lib/python3.7/site-packages/shap/explainers/tree.py\u001b[0m in \u001b[0;36mshap_values\u001b[0;34m(self, X, y, tree_limit, approximate, check_additivity)\u001b[0m\n\u001b[1;32m    254\u001b[0m                     \u001b[0;32mexcept\u001b[0m \u001b[0mValueError\u001b[0m \u001b[0;32mas\u001b[0m \u001b[0me\u001b[0m\u001b[0;34m:\u001b[0m\u001b[0;34m\u001b[0m\u001b[0;34m\u001b[0m\u001b[0m\n\u001b[1;32m    255\u001b[0m                         raise SHAPError(\"This reshape error is often caused by passing a bad data matrix to SHAP. \" \\\n\u001b[0;32m--> 256\u001b[0;31m                                          \"See https://github.com/slundberg/shap/issues/580\") from e\n\u001b[0m\u001b[1;32m    257\u001b[0m \u001b[0;34m\u001b[0m\u001b[0m\n\u001b[1;32m    258\u001b[0m             \u001b[0;32melif\u001b[0m \u001b[0mself\u001b[0m\u001b[0;34m.\u001b[0m\u001b[0mmodel\u001b[0m\u001b[0;34m.\u001b[0m\u001b[0mmodel_type\u001b[0m \u001b[0;34m==\u001b[0m \u001b[0;34m\"catboost\"\u001b[0m\u001b[0;34m:\u001b[0m \u001b[0;31m# thanks to the CatBoost team for implementing this...\u001b[0m\u001b[0;34m\u001b[0m\u001b[0;34m\u001b[0m\u001b[0m\n",
      "\u001b[0;31mSHAPError\u001b[0m: This reshape error is often caused by passing a bad data matrix to SHAP. See https://github.com/slundberg/shap/issues/580"
     ]
    }
   ],
   "source": [
    "import shap\n",
    "\n",
    "explainer = shap.TreeExplainer(model)\n",
    "shap_values = explainer.shap_values(valid_df)"
   ]
  },
  {
   "cell_type": "code",
   "execution_count": 18,
   "metadata": {},
   "outputs": [
    {
     "data": {
      "image/png": "[encoded data removed]",
      "text/plain": [
       "<Figure size 576x280.8 with 1 Axes>"
      ]
     },
     "metadata": {
      "needs_background": "light"
     },
     "output_type": "display_data"
    }
   ],
   "source": [
    "shap.summary_plot(shap_values, valid_features_df, plot_type=\"bar\",\n",
    "                  title = \"\")"
   ]
  },
  {
   "cell_type": "markdown",
   "metadata": {},
   "source": [
    "# Predictions"
   ]
  },
  {
   "cell_type": "code",
   "execution_count": 23,
   "metadata": {},
   "outputs": [
    {
     "ename": "ModuleNotFoundError",
     "evalue": "No module named 'riiideducation'",
     "output_type": "error",
     "traceback": [
      "\u001b[0;31m---------------------------------------------------------------------------\u001b[0m",
      "\u001b[0;31mModuleNotFoundError\u001b[0m                       Traceback (most recent call last)",
      "\u001b[0;32m<ipython-input-23-db900f7170d5>\u001b[0m in \u001b[0;36m<module>\u001b[0;34m\u001b[0m\n\u001b[0;32m----> 1\u001b[0;31m \u001b[0;32mimport\u001b[0m \u001b[0mriiideducation\u001b[0m\u001b[0;34m\u001b[0m\u001b[0;34m\u001b[0m\u001b[0m\n\u001b[0m\u001b[1;32m      2\u001b[0m \u001b[0menv\u001b[0m \u001b[0;34m=\u001b[0m \u001b[0mriiideducation\u001b[0m\u001b[0;34m.\u001b[0m\u001b[0mmake_env\u001b[0m\u001b[0;34m(\u001b[0m\u001b[0;34m)\u001b[0m\u001b[0;34m\u001b[0m\u001b[0;34m\u001b[0m\u001b[0m\n",
      "\u001b[0;31mModuleNotFoundError\u001b[0m: No module named 'riiideducation'"
     ]
    }
   ],
   "source": [
    "import riiideducation\n",
    "env = riiideducation.make_env()"
   ]
  },
  {
   "cell_type": "code",
   "execution_count": null,
   "metadata": {},
   "outputs": [],
   "source": [
    "# Here you would also add your pretrained model\n",
    "iter_test = env.iter_test()\n",
    "\n",
    "for (test_df, sample_prediction_df) in iter_test:\n",
    "    # --- PREPROCESSING ---\n",
    "    # Here is time to apply the preprocessing to the test_df\n",
    "    test_df = merge_data(test_df, questions_df, data_type='test')\n",
    "    test_df, last_answers = get_answer_time_characteristics(test_df, last_answers)\n",
    "    test_df = get_features_df(test_df, q_chars, questions_df)\n",
    "    \n",
    "    # --- MODEL ---\n",
    "    test_df['answered_correctly'] = lgbm_2.predict(test_df, num_iteration = lgbm_2.best_iteration)\n",
    "    env.predict(test_df.reset_index()[['row_id', 'answered_correctly']])"
   ]
  },
  {
   "cell_type": "code",
   "execution_count": 32,
   "metadata": {},
   "outputs": [
    {
     "data": {
      "text/html": [
       "<div>\n",
       "<style scoped>\n",
       "    .dataframe tbody tr th:only-of-type {\n",
       "        vertical-align: middle;\n",
       "    }\n",
       "\n",
       "    .dataframe tbody tr th {\n",
       "        vertical-align: top;\n",
       "    }\n",
       "\n",
       "    .dataframe thead th {\n",
       "        text-align: right;\n",
       "    }\n",
       "</style>\n",
       "<table border=\"1\" class=\"dataframe\">\n",
       "  <thead>\n",
       "    <tr style=\"text-align: right;\">\n",
       "      <th></th>\n",
       "      <th>a</th>\n",
       "      <th>b</th>\n",
       "    </tr>\n",
       "  </thead>\n",
       "  <tbody>\n",
       "    <tr>\n",
       "      <th>0</th>\n",
       "      <td>1</td>\n",
       "      <td>2.0</td>\n",
       "    </tr>\n",
       "    <tr>\n",
       "      <th>1</th>\n",
       "      <td>1</td>\n",
       "      <td>NaN</td>\n",
       "    </tr>\n",
       "  </tbody>\n",
       "</table>\n",
       "</div>"
      ],
      "text/plain": [
       "   a    b\n",
       "0  1  2.0\n",
       "1  1  NaN"
      ]
     },
     "execution_count": 32,
     "metadata": {},
     "output_type": "execute_result"
    }
   ],
   "source": [
    "df = pd.DataFrame({\n",
    "    'a': ['1', '1', '1'],\n",
    "    'b': [2, np.nan, np.nan]\n",
    "})\n",
    "df.drop_duplicates()"
   ]
  },
  {
   "cell_type": "code",
   "execution_count": null,
   "metadata": {},
   "outputs": [],
   "source": []
  }
 ],
 "metadata": {
  "kernelspec": {
   "display_name": "Python 3",
   "language": "python",
   "name": "python3"
  },
  "language_info": {
   "codemirror_mode": {
    "name": "ipython",
    "version": 3
   },
   "file_extension": ".py",
   "mimetype": "text/x-python",
   "name": "python",
   "nbconvert_exporter": "python",
   "pygments_lexer": "ipython3",
   "version": "3.7.9"
  }
 },
 "nbformat": 4,
 "nbformat_minor": 4
}

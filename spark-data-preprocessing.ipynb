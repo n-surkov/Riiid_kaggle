{
 "cells": [
  {
   "cell_type": "code",
   "execution_count": 1,
   "metadata": {},
   "outputs": [],
   "source": [
    "import pandas as pd\n",
    "import re\n",
    "import getpass\n",
    "import os\n",
    "import sys\n",
    "from pyspark.sql import SparkSession, Row\n",
    "from pyspark.sql import functions as F\n",
    "from pyspark.sql.types import *\n",
    "from pyspark.sql import SQLContext\n",
    "from pyspark.sql.functions import current_date\n",
    "from pyspark.sql import Window\n",
    "os.environ['SPARK_HOME'] = '/opt/conda/lib/python3.7/site-packages/pyspark'\n",
    "os.environ['PYSPARK_PYTHON'] = \"python-3.7-cdt-pyspark-2.3.1.tar.gz/bin/python3\"\n",
    "os.environ['HADOOP_CONF_DIR'] = \"/etc/hadoop/conf/\"\n",
    "#os.environ['PATH']=\"/bin:{os.environ['PATH']}\"\n",
    "def init_spark():\n",
    "    spark = (\n",
    "        SparkSession\n",
    "            .builder\n",
    "            .appName(getpass.getuser())\n",
    "            .master('yarn')\n",
    "            .config('spark.driver.memory', '15G')\n",
    "            .config('spark.driver.maxResultSize', '15G')\n",
    "            .config('spark.executor.cores', '1')\n",
    "            .config('spark.executor.memory', '15G')\n",
    "            .config('spark.yarn.queue', 'bdpc')\n",
    "            .config('spark.rpc.message.maxSize', '2000')\n",
    "            .config('spark.shuffle.service.enabled', 'true')\n",
    "            .config('spark.dynamicAllocation.enabled', 'true')\n",
    "            .config('spark.dynamicAllocation.maxExecutors', '400')\n",
    "            .config('spark.sql.shuffle.partitions', '500')\n",
    "            .config('spark.dynamicAllocation.cachedExecutorIdleTimeout', '1200s')\n",
    "            .config('spark.yarn.dist.archives', 'hdfs:///share/lib/python/env/python-3.7-cdt-pyspark-2.3.1.tar.gz')\n",
    "            .config('spark.sql.execution.pandas.respectSessionTimeZone', 'false')\n",
    "            .config('spark.sql.broadcastTimeout', '36000')\n",
    "            .config('spark.task.maxFailures','10')\n",
    "            .config(\"spark.port.maxRetries\",\"32\")\n",
    "            .config('spark.sql.execution.pandas.respectSessionTimeZone', 'false')\n",
    "            .config('spark.hadoop.yarn.timeline-service.enabled', 'false')\n",
    "            .config('spark.driver.extraJavaOptions', '-Dhdp.version=current')\n",
    "            .config('spark.hadoop.yarn.client.failover-proxy-provider', 'org.apache.hadoop.yarn.client.ConfiguredRMFailoverProxyProvider')\n",
    "            .config('spark.yarn.am.extraJavaOptions', '-Dhdp.version=current')\n",
    "            .config(\"spark.blockManager.port\",\"2849\")\n",
    "            .config(\"spark.driver.port\",\"2850\")\n",
    "            .config(\"spark.driver.bindAddress\",\"0.0.0.0\")\n",
    "            .config(\"spark.driver.host\",\"jupyterhub-tst.do.x5.ru\")\n",
    "            .config(\"spark.ui.port\",\"2851\")\n",
    "            .config(\"hive.exec.dynamic.partition.mode\", \"nonstrict\")\n",
    "            .enableHiveSupport()\n",
    "            .getOrCreate()\n",
    "    )\n",
    "    return spark\n",
    " \n",
    "spark = init_spark()\n",
    "sc = spark.sparkContext\n",
    "sql = spark.sql\n",
    "sqlContext = SQLContext(sc)"
   ]
  },
  {
   "cell_type": "code",
   "execution_count": 3,
   "metadata": {},
   "outputs": [],
   "source": [
    "schema_data = StructType([\n",
    "    StructField('row_id', LongType(), False),\n",
    "    StructField('timestamp', LongType(), False),\n",
    "    StructField('user_id', IntegerType(), False),\n",
    "    StructField('content_id', IntegerType(), False),\n",
    "    StructField('content_type_id', IntegerType(), False),\n",
    "    StructField('task_container_id', IntegerType(), False),\n",
    "    StructField('user_answer', IntegerType(), False),\n",
    "    StructField('answered_correctly', IntegerType(), False),\n",
    "    StructField('prior_question_elapsed_time', DoubleType(), True),\n",
    "    StructField('prior_question_had_explanation', BooleanType(), True),\n",
    "])\n",
    "schema_questions = StructType([\n",
    "    StructField('question_id', IntegerType(), False),\n",
    "    StructField('bundle_id', IntegerType(), False),\n",
    "    StructField('correct_answer', IntegerType(), False),\n",
    "    StructField('part', IntegerType(), False),\n",
    "    StructField('tags', StringType(), False)\n",
    "])"
   ]
  },
  {
   "cell_type": "code",
   "execution_count": 4,
   "metadata": {},
   "outputs": [],
   "source": [
    "data = spark.read.csv('train.csv', schema=schema_data, sep=',', header=True)\n",
    "questions = spark.read.csv('questions.csv', schema=schema_questions, sep=',', header=True)\n",
    "# lectures = spark.read.csv('lectures.csv', sep=',', header=True)"
   ]
  },
  {
   "cell_type": "code",
   "execution_count": 9,
   "metadata": {},
   "outputs": [
    {
     "name": "stdout",
     "output_type": "stream",
     "text": [
      "+------------------+-------------+\n",
      "|answered_correctly|count(row_id)|\n",
      "+------------------+-------------+\n",
      "|                 1|       266940|\n",
      "|                -1|      1959032|\n",
      "|                 0|       125566|\n",
      "+------------------+-------------+\n",
      "\n"
     ]
    }
   ],
   "source": [
    "(\n",
    "    data\n",
    "    .filter(F.col('prior_question_elapsed_time').isNull())\n",
    "    .groupby('answered_correctly')\n",
    "    .agg(F.count('row_id'))\n",
    ").show()"
   ]
  },
  {
   "cell_type": "code",
   "execution_count": 13,
   "metadata": {},
   "outputs": [
    {
     "data": {
      "text/plain": [
       "[('row_id', 'bigint'),\n",
       " ('timestamp', 'bigint'),\n",
       " ('user_id', 'int'),\n",
       " ('content_id', 'int'),\n",
       " ('content_type_id', 'int'),\n",
       " ('task_container_id', 'int'),\n",
       " ('user_answer', 'int'),\n",
       " ('answered_correctly', 'int'),\n",
       " ('prior_question_elapsed_time', 'double'),\n",
       " ('prior_question_had_explanation', 'boolean')]"
      ]
     },
     "execution_count": 13,
     "metadata": {},
     "output_type": "execute_result"
    }
   ],
   "source": [
    "data.dtypes"
   ]
  },
  {
   "cell_type": "code",
   "execution_count": 17,
   "metadata": {},
   "outputs": [
    {
     "data": {
      "text/plain": [
       "[('question_id', 'int'),\n",
       " ('bundle_id', 'int'),\n",
       " ('correct_answer', 'int'),\n",
       " ('part', 'int'),\n",
       " ('tags', 'string')]"
      ]
     },
     "execution_count": 17,
     "metadata": {},
     "output_type": "execute_result"
    }
   ],
   "source": [
    "questions.dtypes"
   ]
  },
  {
   "cell_type": "markdown",
   "metadata": {},
   "source": [
    "# Делаем полный датафрейм"
   ]
  },
  {
   "cell_type": "code",
   "execution_count": 6,
   "metadata": {},
   "outputs": [
    {
     "data": {
      "text/plain": [
       "[('content_id', 'int'),\n",
       " ('row_id', 'bigint'),\n",
       " ('timestamp', 'bigint'),\n",
       " ('user_id', 'int'),\n",
       " ('task_container_id', 'int'),\n",
       " ('user_answer', 'int'),\n",
       " ('answered_correctly', 'int'),\n",
       " ('prior_question_elapsed_time', 'double'),\n",
       " ('prior_question_had_explanation', 'int'),\n",
       " ('bundle_id', 'int'),\n",
       " ('part', 'int'),\n",
       " ('tags', 'string')]"
      ]
     },
     "execution_count": 6,
     "metadata": {},
     "output_type": "execute_result"
    }
   ],
   "source": [
    "full_df = (\n",
    "    # оставляем только вопросы\n",
    "    data.filter(F.col('content_type_id') == 0)\n",
    "    # присоединяем вопросы\n",
    "    .join(questions.withColumnRenamed('question_id', 'content_id'), on='content_id', how='left')\n",
    "    # Приводим типы\n",
    "    .fillna(False, subset=['prior_question_had_explanation'])\n",
    "    .withColumn('prior_question_had_explanation', F.col('prior_question_had_explanation').cast('int'))\n",
    "    .fillna(0., subset=['prior_question_elapsed_time'])\n",
    "    # Проверяем правильность ответов\n",
    "    .withColumn('realy_correct', (F.col('user_answer') == F.col('correct_answer')).cast('int'))\n",
    "    .withColumn(\n",
    "        'answered_correctly',\n",
    "        F.when(F.col('realy_correct').isNotNull() & (F.col('realy_correct') != F.col('answered_correctly')), F.col('realy_correct'))\n",
    "        .otherwise(F.col('answered_correctly'))\n",
    "    )\n",
    "    .drop('realy_correct', 'correct_answer', 'content_type_id')\n",
    ")\n",
    "full_df.dtypes"
   ]
  },
  {
   "cell_type": "code",
   "execution_count": 7,
   "metadata": {},
   "outputs": [
    {
     "name": "stdout",
     "output_type": "stream",
     "text": [
      "CPU times: user 16.9 ms, sys: 10.9 ms, total: 27.8 ms\n",
      "Wall time: 1min 46s\n"
     ]
    }
   ],
   "source": [
    "%%time\n",
    "full_df.repartition(100, 'user_id').write.mode('overwrite').saveAsTable('nsurkov.train_table_new')"
   ]
  },
  {
   "cell_type": "markdown",
   "metadata": {},
   "source": [
    "# Формируем признаки вопросов"
   ]
  },
  {
   "cell_type": "code",
   "execution_count": 2,
   "metadata": {},
   "outputs": [],
   "source": [
    "full_df = spark.table('nsurkov.train_table_new')"
   ]
  },
  {
   "cell_type": "code",
   "execution_count": 13,
   "metadata": {},
   "outputs": [
    {
     "data": {
      "text/plain": [
       "99271300"
      ]
     },
     "execution_count": 13,
     "metadata": {},
     "output_type": "execute_result"
    }
   ],
   "source": [
    "# full_df.count()\n",
    "# 99271300"
   ]
  },
  {
   "cell_type": "code",
   "execution_count": 11,
   "metadata": {},
   "outputs": [
    {
     "data": {
      "text/plain": [
       "[('content_id', 'int'),\n",
       " ('row_id', 'bigint'),\n",
       " ('timestamp', 'bigint'),\n",
       " ('user_id', 'int'),\n",
       " ('task_container_id', 'int'),\n",
       " ('user_answer', 'int'),\n",
       " ('answered_correctly', 'int'),\n",
       " ('prior_question_elapsed_time', 'double'),\n",
       " ('prior_question_had_explanation', 'int'),\n",
       " ('bundle_id', 'int'),\n",
       " ('part', 'int'),\n",
       " ('tags', 'string')]"
      ]
     },
     "execution_count": 11,
     "metadata": {},
     "output_type": "execute_result"
    }
   ],
   "source": [
    "full_df.dtypes"
   ]
  },
  {
   "cell_type": "code",
   "execution_count": 14,
   "metadata": {},
   "outputs": [],
   "source": [
    "# Характеристики ответов в разрезе пачки\n",
    "window_user = Window.partitionBy('user_id').orderBy('timestamp')\n",
    "group_cols = ['user_id', 'bundle_id', 'timestamp']\n",
    "q_time_chars = (\n",
    "    full_df\n",
    "    .drop_duplicates(group_cols)\n",
    "    .withColumn('question_elapsed_time', F.lead('prior_question_elapsed_time').over(window_user))\n",
    "    .withColumn('question_had_explanation', F.lead('prior_question_had_explanation').over(window_user))\n",
    "    .filter(F.col('question_elapsed_time').isNotNull())\n",
    "    .select(*group_cols, 'question_elapsed_time', 'question_had_explanation')\n",
    "    .repartition(100, group_cols)\n",
    ")"
   ]
  },
  {
   "cell_type": "code",
   "execution_count": 15,
   "metadata": {},
   "outputs": [],
   "source": [
    "# Характеристики ответов в разрезе вопроса\n",
    "q_chars = (\n",
    "    full_df\n",
    "    .select('user_id', 'content_id', 'bundle_id', 'timestamp', 'answered_correctly')\n",
    "    .repartition(100, group_cols)\n",
    "    .join(q_time_chars, on=group_cols, how='left')\n",
    "    .groupby('content_id')\n",
    "    .agg(\n",
    "        F.mean('question_elapsed_time').alias('question_elapsed_time_mean'),\n",
    "        F.mean('question_had_explanation').alias('question_had_explanation_mean'),\n",
    "        F.count('user_id').alias('question_answers_count'),\n",
    "        F.countDistinct('user_id').alias('question_unique_users_answers'),\n",
    "        F.sum('answered_correctly').alias('question_correct_answers_count')\n",
    "    )\n",
    "    .withColumn(\n",
    "        'question_user_var',\n",
    "        F.col('question_unique_users_answers') / F.col('question_answers_count')\n",
    "    )\n",
    "    .drop('question_unique_users_answers')\n",
    "    .withColumn(\n",
    "        'question_correct_answers_mean',\n",
    "        F.col('question_correct_answers_count') / F.col('question_answers_count')\n",
    "    )\n",
    ")"
   ]
  },
  {
   "cell_type": "code",
   "execution_count": 17,
   "metadata": {},
   "outputs": [],
   "source": [
    "# Объединяем характеристики и записываем\n",
    "questions_characteristics = (\n",
    "    questions\n",
    "    .select(\n",
    "        F.col('question_id').alias('content_id'), 'bundle_id', 'part'\n",
    "    )\n",
    "    .join(q_chars, on=['content_id'], how='left')\n",
    ")"
   ]
  },
  {
   "cell_type": "code",
   "execution_count": 18,
   "metadata": {},
   "outputs": [
    {
     "data": {
      "text/plain": [
       "[('content_id', 'int'),\n",
       " ('bundle_id', 'int'),\n",
       " ('part', 'int'),\n",
       " ('question_elapsed_time_mean', 'double'),\n",
       " ('question_had_explanation_mean', 'double'),\n",
       " ('question_answers_count', 'bigint'),\n",
       " ('question_correct_answers_count', 'bigint'),\n",
       " ('question_user_var', 'double'),\n",
       " ('question_correct_answers_mean', 'double')]"
      ]
     },
     "execution_count": 18,
     "metadata": {},
     "output_type": "execute_result"
    }
   ],
   "source": [
    "questions_characteristics.dtypes"
   ]
  },
  {
   "cell_type": "code",
   "execution_count": 19,
   "metadata": {},
   "outputs": [
    {
     "name": "stdout",
     "output_type": "stream",
     "text": [
      "CPU times: user 37.8 ms, sys: 26.1 ms, total: 63.8 ms\n",
      "Wall time: 4min 38s\n"
     ]
    }
   ],
   "source": [
    "%%time\n",
    "questions_characteristics.repartition(1).write.mode('overwrite').saveAsTable('nsurkov.questions_chars')"
   ]
  },
  {
   "cell_type": "code",
   "execution_count": 20,
   "metadata": {},
   "outputs": [],
   "source": [
    "questions_characteristics = spark.table('nsurkov.questions_chars')"
   ]
  },
  {
   "cell_type": "code",
   "execution_count": 21,
   "metadata": {},
   "outputs": [
    {
     "data": {
      "text/plain": [
       "13523"
      ]
     },
     "execution_count": 21,
     "metadata": {},
     "output_type": "execute_result"
    }
   ],
   "source": [
    "questions_characteristics.count()"
   ]
  },
  {
   "cell_type": "code",
   "execution_count": 22,
   "metadata": {},
   "outputs": [
    {
     "data": {
      "text/plain": [
       "0"
      ]
     },
     "execution_count": 22,
     "metadata": {},
     "output_type": "execute_result"
    }
   ],
   "source": [
    "questions_characteristics.filter(F.col('question_answers_count').isNull()).count()"
   ]
  },
  {
   "cell_type": "code",
   "execution_count": 23,
   "metadata": {},
   "outputs": [
    {
     "data": {
      "text/plain": [
       "11"
      ]
     },
     "execution_count": 23,
     "metadata": {},
     "output_type": "execute_result"
    }
   ],
   "source": [
    "questions_characteristics.filter(F.col('question_answers_count') < 10).count()"
   ]
  },
  {
   "cell_type": "code",
   "execution_count": 24,
   "metadata": {},
   "outputs": [
    {
     "name": "stdout",
     "output_type": "stream",
     "text": [
      "+----------+---------+----+--------------------------+-----------------------------+----------------------+------------------------------+------------------+-----------------------------+\n",
      "|content_id|bundle_id|part|question_elapsed_time_mean|question_had_explanation_mean|question_answers_count|question_correct_answers_count| question_user_var|question_correct_answers_mean|\n",
      "+----------+---------+----+--------------------------+-----------------------------+----------------------+------------------------------+------------------+-----------------------------+\n",
      "|       241|      241|   2|          19889.1523414345|           0.9889349930843707|                 10179|                          7949|0.8867275763827488|           0.7809215050594361|\n",
      "|       449|      449|   2|         19988.88888888889|           0.9722222222222222|                   180|                           116|0.8944444444444445|           0.6444444444444445|\n",
      "|      2443|     2443|   3|         21074.27561286666|           0.9699589060507298|                  7071|                          6001|0.8826191486352708|           0.8486776976382407|\n",
      "|      2488|     2488|   3|        27337.510214557027|           0.9735140129350169|                  9770|                          8422|0.8571136131013306|           0.8620266120777892|\n",
      "|      2721|     2719|   4|         22766.41599642538|           0.9611260053619303|                  4485|                          3102|0.8706800445930881|            0.691638795986622|\n",
      "|      2748|     2746|   4|          19488.0221402214|            0.974169741697417|                   273|                           154|0.8864468864468864|           0.5641025641025641|\n",
      "|      3098|     3096|   4|        21786.678498093283|           0.9686124963332355|                  3414|                          2907|0.9106619800820153|            0.851493848857645|\n",
      "|      3220|     3219|   4|        19968.584444444445|           0.9733333333333334|                   451|                           364|0.9445676274944568|           0.8070953436807096|\n",
      "|      3490|     3489|   4|        22700.703081232492|            0.961531279178338|                  5365|                          5067|0.9455731593662628|           0.9444547996272135|\n",
      "|      3796|     3796|   5|        27232.505643340857|           0.8984198645598194|                  1331|                          1076|0.9083395942900075|           0.8084147257700977|\n",
      "|      4254|     4254|   5|         32455.66932477705|           0.8017269853253433|                 21264|                          6416|  0.76622460496614|           0.3017306245297216|\n",
      "|      4313|     4313|   5|         23218.69040050858|           0.9640813731722823|                  3163|                          2637|0.9263357571925387|           0.8337021814732849|\n",
      "|      4601|     4601|   5|        16193.982074263764|           0.9167733674775929|                  1570|                          1332|0.9114649681528663|           0.8484076433121019|\n",
      "|      4937|     4937|   5|         23846.99915469146|           0.8820794590025359|                  2378|                          1830|0.8969722455845248|           0.7695542472666106|\n",
      "|      5308|     5308|   5|        22590.467516697026|           0.9426229508196722|                  3302|                          2707|0.9245911568746215|           0.8198061780738947|\n",
      "|      5482|     5482|   5|         18358.72825434913|           0.9469106178764247|                  3348|                          2418|0.9029271206690561|           0.7222222222222222|\n",
      "|      5662|     5662|   5|         21794.09538228615|           0.8940196820590461|                  1323|                           985| 0.907785336356765|           0.7445200302343159|\n",
      "|      6598|     6597|   6|        31272.910092197264|           0.7356599220345276|                 16214|                         13687|0.8754163068952757|           0.8441470334279018|\n",
      "|      6966|     6966|   7|         63674.96092592592|           0.9433333333333334|                  5434|                          3250|0.9602502760397498|           0.5980861244019139|\n",
      "|      7644|     7644|   7|         41612.33993015134|           0.9639115250291036|                   860|                           810| 0.963953488372093|           0.9418604651162791|\n",
      "+----------+---------+----+--------------------------+-----------------------------+----------------------+------------------------------+------------------+-----------------------------+\n",
      "only showing top 20 rows\n",
      "\n"
     ]
    }
   ],
   "source": [
    "questions_characteristics.show()"
   ]
  },
  {
   "cell_type": "markdown",
   "metadata": {},
   "source": [
    "# Формируем признаки пользователей"
   ]
  },
  {
   "cell_type": "markdown",
   "metadata": {},
   "source": [
    "## Формирование признаков в разрезе user_id, bundle_id, timestamp"
   ]
  },
  {
   "cell_type": "code",
   "execution_count": 2,
   "metadata": {},
   "outputs": [],
   "source": [
    "full_df = spark.table('nsurkov.train_table_new')\n",
    "q_chars = spark.table('nsurkov.questions_chars')"
   ]
  },
  {
   "cell_type": "code",
   "execution_count": 3,
   "metadata": {},
   "outputs": [
    {
     "data": {
      "text/plain": [
       "[('content_id', 'int'),\n",
       " ('bundle_id', 'int'),\n",
       " ('part', 'int'),\n",
       " ('question_elapsed_time_mean', 'double'),\n",
       " ('question_had_explanation_mean', 'double'),\n",
       " ('question_answers_count', 'bigint'),\n",
       " ('question_correct_answers_count', 'bigint'),\n",
       " ('question_user_var', 'double'),\n",
       " ('question_correct_answers_mean', 'double')]"
      ]
     },
     "execution_count": 3,
     "metadata": {},
     "output_type": "execute_result"
    }
   ],
   "source": [
    "q_chars.dtypes"
   ]
  },
  {
   "cell_type": "code",
   "execution_count": 4,
   "metadata": {},
   "outputs": [
    {
     "data": {
      "text/plain": [
       "[('content_id', 'int'),\n",
       " ('row_id', 'bigint'),\n",
       " ('timestamp', 'bigint'),\n",
       " ('user_id', 'int'),\n",
       " ('task_container_id', 'int'),\n",
       " ('user_answer', 'int'),\n",
       " ('answered_correctly', 'int'),\n",
       " ('prior_question_elapsed_time', 'double'),\n",
       " ('prior_question_had_explanation', 'int'),\n",
       " ('bundle_id', 'int'),\n",
       " ('part', 'int'),\n",
       " ('tags', 'string')]"
      ]
     },
     "execution_count": 4,
     "metadata": {},
     "output_type": "execute_result"
    }
   ],
   "source": [
    "full_df.dtypes"
   ]
  },
  {
   "cell_type": "code",
   "execution_count": 12,
   "metadata": {},
   "outputs": [],
   "source": [
    "# def form_bundles(full_df, q_chars):\n",
    "#     # Ищем насколько пользователь медленнее остальных отвечал на вопросы\n",
    "#     q_time_chars = (\n",
    "#         q_chars\n",
    "#         .select(\n",
    "#             F.col('bundle_id').alias('prior_bundle_id'),\n",
    "#             F.col('question_elapsed_time_mean').alias('prior_bundle_elapsed_time_mean')\n",
    "#         )\n",
    "#         .drop_duplicates(['prior_bundle_id'])\n",
    "#     )\n",
    "#     # Переходим к характеристикам пачек, так как временные характеристики для вопросов пачки одинаковые\n",
    "#     bundles = (\n",
    "#         full_df\n",
    "#         .fillna(False, ['prior_question_had_explanation'])\n",
    "#         .fillna(0., ['prior_question_elapsed_time'])\n",
    "#         .withColumn('prior_question_had_explanation', F.col('prior_question_had_explanation').cast('int'))\n",
    "#         .groupby('user_id', 'timestamp', 'bundle_id', 'prior_question_elapsed_time', 'prior_question_had_explanation')\n",
    "#         .agg(\n",
    "#             F.count('row_id').alias('answers_count'),\n",
    "#             F.sum('answered_correctly').alias('correct_answers_count')\n",
    "#         )\n",
    "#         .repartition(800, ['user_id', 'bundle_id'])\n",
    "#     )\n",
    "#     # Ищем комулятивные характеристики пользователей\n",
    "#     bundles = (\n",
    "#         bundles\n",
    "#         # Характеристики в разрезе контента\n",
    "#         # Количество ответов пользователя\n",
    "#         .withColumn('user_answers_count', F.sum('answers_count').over(window_user))\n",
    "#         .drop('answers_count')\n",
    "#         # Количество правильных ответов пользователя\n",
    "#         .withColumn('user_correct_answers_count', F.sum('correct_answers_count').over(window_user))\n",
    "#         .drop('correct_answers_count')\n",
    "#         # Характеристики в разрезе пачки\n",
    "#         # Количество пачек на которые ответил пользоваетль до текущей\n",
    "#         .withColumn('user_bundle_count', (F.row_number().over(window_user) - 1))\n",
    "#         # Количество объяснений, которые просмотрел пользователь до текущего ответа\n",
    "#         .withColumn('user_explanation_count', F.sum('prior_question_had_explanation').over(window_user))\n",
    "#         .drop('prior_question_had_explanation')\n",
    "#         # Суммарное время ответов пользователя до текущего ответа\n",
    "#         .withColumn('user_elapsed_time', F.sum('prior_question_elapsed_time').over(window_user))\n",
    "#         # Суммарная задержка при ответе на пачки вопросов до текущего ответа\n",
    "#         .withColumn('prior_bundle_id', F.lag('bundle_id').over(window_user))\n",
    "#         .join(q_time_chars, on=['prior_bundle_id'], how='left')\n",
    "#         .withColumn('prior_bundle_elapsed_time_mean', \n",
    "#                     F.when(F.col('prior_bundle_elapsed_time_mean').isNull(), F.col('prior_question_elapsed_time')).otherwise(F.col('prior_bundle_elapsed_time_mean')))\n",
    "#         .withColumn('prior_bundle_delay', (F.col('prior_question_elapsed_time') - F.col('prior_bundle_elapsed_time_mean')) / F.col('prior_bundle_elapsed_time_mean'))\n",
    "#         .withColumn('user_total_bundle_delay', F.sum('prior_bundle_delay').over(window_user))\n",
    "#         .drop('prior_bundle_elapsed_time_mean', 'prior_bundle_id', 'prior_bundle_delay', 'prior_question_elapsed_time')\n",
    "#         # Колонка ответов на которые пользователь уже отвечал\n",
    "#         .withColumn('bundle_id_str', F.concat(F.lit(' '), F.col('bundle_id').cast('string'), F.lit(',')))\n",
    "#         .withColumn('user_bundles_list', F.collect_list('bundle_id_str').over(window_user))\n",
    "#         .withColumn('user_bundles_list', F.array_join('user_bundles_list', ''))\n",
    "#         .drop('bundle_id_str')\n",
    "#         # Колонка попыток пользователя ответить на вопрос, включая текущий\n",
    "#         .withColumn('attempts', attemts_udf(F.struct('bundle_id', 'user_bundles_list')))\n",
    "#     )\n",
    "#     return bundles"
   ]
  },
  {
   "cell_type": "code",
   "execution_count": 8,
   "metadata": {},
   "outputs": [],
   "source": [
    "def form_bundles(full_df, q_chars):\n",
    "    window_user = Window.partitionBy('user_id').orderBy('timestamp')\n",
    "    # Переходим к характеристикам пачек, так как временные характеристики для вопросов пачки одинаковые\n",
    "    bundles = (\n",
    "        full_df\n",
    "        .join(q_chars.select('content_id', 'question_elapsed_time_mean'), on='content_id', how='left')\n",
    "        .groupby(['user_id', 'bundle_id', 'timestamp', 'prior_question_elapsed_time', 'prior_question_had_explanation'])\n",
    "        .agg(\n",
    "            F.count('content_id').alias('bundle_content_count'), # количество вопросов в пачке\n",
    "            F.sum('question_elapsed_time_mean').alias('bundle_elapsed_time_avg') # суммарное среднее время ответов на вопросы из пачки\n",
    "        )\n",
    "        # Суммарное время ответа пользователя на пачку\n",
    "        .withColumn(\n",
    "            'user_bundle_elapsed_time', \n",
    "            F.lead('prior_question_elapsed_time', default=0).over(window_user) * F.col('bundle_content_count')\n",
    "        )\n",
    "        # Количество объяснений полученных на пачку\n",
    "        .withColumn(\n",
    "            'user_bundle_explanation_count', \n",
    "            F.lead('prior_question_had_explanation', default=0).over(window_user) * F.col('bundle_content_count')\n",
    "        )\n",
    "        # Общая задержка ответа пользователя на пачку\n",
    "        .withColumn(\n",
    "            'user_bundle_delay',\n",
    "            F.when(F.col('user_bundle_elapsed_time') == 0, 0)\n",
    "            .otherwise(F.col('user_bundle_elapsed_time') - F.col('bundle_elapsed_time_avg'))\n",
    "        )\n",
    "        # Суммарное количество времени, потраченное пользователем на ответы до текущего момента\n",
    "        .withColumn(\n",
    "            'user_elapsed_time',\n",
    "            F.sum('user_bundle_elapsed_time').over(window_user) - F.col('user_bundle_elapsed_time')\n",
    "        )\n",
    "        # Суммарное количество объяснений на вопросы, просмотренных пользователем до текущего момента\n",
    "        .withColumn(\n",
    "            'user_explanation_count',\n",
    "            F.sum('user_bundle_explanation_count').over(window_user) - F.col('user_bundle_explanation_count')\n",
    "        )\n",
    "        # Суммарная задержка пользователя при ответе на вопросы до текущего момента\n",
    "        .withColumn(\n",
    "            'user_delay_total',\n",
    "            F.sum('user_bundle_delay').over(window_user) - F.col('user_bundle_delay')\n",
    "        )\n",
    "        .drop('prior_question_elapsed_time', 'prior_question_had_explanation', \n",
    "              'user_bundle_elapsed_time', 'user_bundle_explanation_count', 'user_bundle_delay')\n",
    "    )\n",
    "    \n",
    "    # Также будем считать попытки ответить на пачку вопросов, так как в разрезе контента решение не влезает во время\n",
    "    attemts_udf = F.udf(lambda x: len(re.findall(x[0], x[1])), IntegerType())\n",
    "    bundles = (\n",
    "        bundles\n",
    "        # Колонка пачек вопросов на которые пользователь уже отвечал\n",
    "        .withColumn('bundle_id_str', F.concat(F.lit(' '), F.col('bundle_id').cast('string'), F.lit(',')))\n",
    "        .withColumn('user_bundle_list', F.collect_list('bundle_id_str').over(window_user))\n",
    "        .withColumn('user_bundle_list', F.array_join('user_bundle_list', ''))\n",
    "        # Колонка попыток пользователя ответить на пачку вопросов, включая текущий\n",
    "        .withColumn('attempts', attemts_udf(F.struct('bundle_id_str', 'user_bundle_list')))\n",
    "        .drop('bundle_id_str')\n",
    "        # Колонка попыток пользователя (Умноженное на количество вопросов в каждой пачке!)\n",
    "        .withColumn('attempts_count', F.sum(F.col('attempts') * F.col('bundle_content_count')).over(window_user))\n",
    "    )\n",
    "    \n",
    "    return bundles"
   ]
  },
  {
   "cell_type": "code",
   "execution_count": 9,
   "metadata": {},
   "outputs": [],
   "source": [
    "def form_user_chars(full_df, q_chars):\n",
    "    window_user = Window.partitionBy('user_id').orderBy('timestamp')\n",
    "    attemts_udf = F.udf(lambda x: len(re.findall(' ' + str(x[0]) + ',', x[1])))\n",
    "    # Формирование признаков в разрезе вопроса, которые можно задать ипользуя только данные от ответов\n",
    "    user_contetn_chars = (\n",
    "        full_df\n",
    "        .withColumn('user_correct_answers_count', F.sum('answered_correctly').over(window_user))\n",
    "        .withColumn('user_answers_count', F.count('row_id').over(window_user))\n",
    "    )\n",
    "    \n",
    "    # Добавляем характеристики пачек и вопросов\n",
    "    bundles = form_bundles(full_df, q_chars)\n",
    "    user_full_chars = (\n",
    "        user_contetn_chars\n",
    "        .join(bundles, on=['user_id', 'bundle_id', 'timestamp'], how='left')\n",
    "        .join(q_chars.drop('bundle_id', 'part'), on='content_id', how='left')\n",
    "    )\n",
    "    return user_full_chars"
   ]
  },
  {
   "cell_type": "code",
   "execution_count": 10,
   "metadata": {},
   "outputs": [
    {
     "data": {
      "text/plain": [
       "[('content_id', 'int'),\n",
       " ('user_id', 'int'),\n",
       " ('bundle_id', 'int'),\n",
       " ('timestamp', 'bigint'),\n",
       " ('row_id', 'bigint'),\n",
       " ('task_container_id', 'int'),\n",
       " ('user_answer', 'int'),\n",
       " ('answered_correctly', 'int'),\n",
       " ('prior_question_elapsed_time', 'double'),\n",
       " ('prior_question_had_explanation', 'int'),\n",
       " ('part', 'int'),\n",
       " ('tags', 'string'),\n",
       " ('user_correct_answers_count', 'bigint'),\n",
       " ('user_answers_count', 'bigint'),\n",
       " ('bundle_content_count', 'bigint'),\n",
       " ('bundle_elapsed_time_avg', 'double'),\n",
       " ('user_elapsed_time', 'double'),\n",
       " ('user_explanation_count', 'bigint'),\n",
       " ('user_delay_total', 'double'),\n",
       " ('user_bundle_list', 'string'),\n",
       " ('attempts', 'int'),\n",
       " ('attempts_count', 'bigint'),\n",
       " ('question_elapsed_time_mean', 'double'),\n",
       " ('question_had_explanation_mean', 'double'),\n",
       " ('question_answers_count', 'bigint'),\n",
       " ('question_correct_answers_count', 'bigint'),\n",
       " ('question_user_var', 'double'),\n",
       " ('question_correct_answers_mean', 'double')]"
      ]
     },
     "execution_count": 10,
     "metadata": {},
     "output_type": "execute_result"
    }
   ],
   "source": [
    "expanded_test_dataframe = form_user_chars(full_df, q_chars)\n",
    "expanded_test_dataframe.dtypes"
   ]
  },
  {
   "cell_type": "code",
   "execution_count": 11,
   "metadata": {},
   "outputs": [
    {
     "name": "stdout",
     "output_type": "stream",
     "text": [
      "CPU times: user 359 ms, sys: 223 ms, total: 582 ms\n",
      "Wall time: 16min 59s\n"
     ]
    }
   ],
   "source": [
    "%%time\n",
    "expanded_test_dataframe.repartition(1000).write.mode('overwrite').saveAsTable('nsurkov.train_data_with_features')"
   ]
  },
  {
   "cell_type": "code",
   "execution_count": 12,
   "metadata": {},
   "outputs": [
    {
     "data": {
      "text/plain": [
       "99271302"
      ]
     },
     "execution_count": 12,
     "metadata": {},
     "output_type": "execute_result"
    }
   ],
   "source": [
    "spark.table('nsurkov.train_data_with_features').count()\n",
    "#99271302"
   ]
  },
  {
   "cell_type": "code",
   "execution_count": 24,
   "metadata": {},
   "outputs": [
    {
     "data": {
      "text/plain": [
       "76483589"
      ]
     },
     "execution_count": 24,
     "metadata": {},
     "output_type": "execute_result"
    }
   ],
   "source": [
    "spark.table('nsurkov.train_data_with_features').drop_duplicates(['user_id', 'timestamp']).count()"
   ]
  },
  {
   "cell_type": "markdown",
   "metadata": {},
   "source": [
    "## Формирование признаков для выборок"
   ]
  },
  {
   "cell_type": "code",
   "execution_count": 2,
   "metadata": {},
   "outputs": [],
   "source": [
    "schema_data = StructType([\n",
    "    StructField('row_id', LongType(), False),\n",
    "    StructField('timestamp', LongType(), False),\n",
    "    StructField('user_id', IntegerType(), False),\n",
    "    StructField('content_id', IntegerType(), False),\n",
    "    StructField('content_type_id', IntegerType(), False),\n",
    "    StructField('task_container_id', IntegerType(), False),\n",
    "    StructField('user_answer', IntegerType(), False),\n",
    "    StructField('answered_correctly', IntegerType(), False),\n",
    "    StructField('prior_question_elapsed_time', DoubleType(), True),\n",
    "    StructField('prior_question_had_explanation', BooleanType(), True),\n",
    "])\n",
    "data = spark.read.csv('train.csv', schema=schema_data, sep=',', header=True).repartition(100, 'user_id')\n",
    "\n",
    "full_train_df = spark.table('nsurkov.train_data_with_features').repartition('user_id')\n",
    "train_features = spark.table('nsurkov.train_data_for_model').repartition('user_id')"
   ]
  },
  {
   "cell_type": "code",
   "execution_count": 5,
   "metadata": {},
   "outputs": [],
   "source": [
    "# Формирование тренировочного датафрейма\n",
    "window_user = Window.partitionBy('user_id').orderBy('timestamp')\n",
    "train_features = (\n",
    "    full_train_df\n",
    "    .drop('task_container_id', 'user_answer', 'tags', 'user_bundle_list', 'bundle_elapsed_time_avg',\n",
    "          'question_correct_answers_count')\n",
    "    .withColumn(\n",
    "        'user_accuracy', F.col('user_correct_answers_count') / F.col('user_answers_count')\n",
    "    )\n",
    "    .drop('user_correct_answers_count')\n",
    "    .withColumn(\n",
    "        'user_attempts_rate', F.col('attempts_count') / F.col('user_answers_count')\n",
    "    )\n",
    "    .drop('attempts_count')\n",
    "    .withColumn(\n",
    "        'user_bundle_content_count_sum',\n",
    "        F.sum('bundle_content_count').over(window_user) - F.col('bundle_content_count')\n",
    "    )\n",
    "    .drop('bundle_content_count')\n",
    "    .withColumn(\n",
    "        'user_elapsed_time_mean', F.col('user_elapsed_time') / F.col('user_bundle_content_count_sum')\n",
    "    )\n",
    "    .drop('user_elapsed_time')\n",
    "    .withColumn(\n",
    "        'user_explanation_rate', F.col('user_explanation_count') / F.col('user_bundle_content_count_sum')\n",
    "    )\n",
    "    .drop('user_explanation_count')\n",
    "    .withColumn(\n",
    "        'user_delay_mean', F.col('user_delay_total') / F.col('user_bundle_content_count_sum')\n",
    "    )\n",
    "    .drop('user_delay_total')\n",
    ")"
   ]
  },
  {
   "cell_type": "code",
   "execution_count": 6,
   "metadata": {},
   "outputs": [
    {
     "data": {
      "text/plain": [
       "[('content_id', 'int'),\n",
       " ('user_id', 'int'),\n",
       " ('bundle_id', 'int'),\n",
       " ('timestamp', 'bigint'),\n",
       " ('row_id', 'bigint'),\n",
       " ('answered_correctly', 'int'),\n",
       " ('prior_question_elapsed_time', 'double'),\n",
       " ('prior_question_had_explanation', 'int'),\n",
       " ('part', 'int'),\n",
       " ('user_answers_count', 'bigint'),\n",
       " ('attempts', 'int'),\n",
       " ('question_elapsed_time_mean', 'double'),\n",
       " ('question_had_explanation_mean', 'double'),\n",
       " ('question_answers_count', 'bigint'),\n",
       " ('question_user_var', 'double'),\n",
       " ('question_correct_answers_mean', 'double'),\n",
       " ('user_accuracy', 'double'),\n",
       " ('user_attempts_rate', 'double'),\n",
       " ('user_bundle_content_count_sum', 'bigint'),\n",
       " ('user_elapsed_time_mean', 'double'),\n",
       " ('user_explanation_rate', 'double'),\n",
       " ('user_delay_mean', 'double')]"
      ]
     },
     "execution_count": 6,
     "metadata": {},
     "output_type": "execute_result"
    }
   ],
   "source": [
    "train_features.dtypes"
   ]
  },
  {
   "cell_type": "code",
   "execution_count": 7,
   "metadata": {},
   "outputs": [
    {
     "name": "stdout",
     "output_type": "stream",
     "text": [
      "CPU times: user 22.3 ms, sys: 9.3 ms, total: 31.6 ms\n",
      "Wall time: 1min 53s\n"
     ]
    }
   ],
   "source": [
    "%%time\n",
    "train_features.repartition(100).write.mode('overwrite').saveAsTable('nsurkov.train_data_for_model')"
   ]
  },
  {
   "cell_type": "code",
   "execution_count": 10,
   "metadata": {},
   "outputs": [
    {
     "name": "stdout",
     "output_type": "stream",
     "text": [
      "valid_data_saved\n",
      "valid_data_saved\n",
      "CPU times: user 47.7 ms, sys: 31.2 ms, total: 78.9 ms\n",
      "Wall time: 5min 6s\n"
     ]
    }
   ],
   "source": [
    "%%time\n",
    "# Формирование валидационных выборок\n",
    "\n",
    "# Формирование выборки из последних ответов пользователя\n",
    "user_last_answers_times = data.groupby('user_id').agg(F.max('timestamp').alias('timestamp')).drop_duplicates()\n",
    "valid_users = user_last_answers_times.limit(100000)\n",
    "valid_data = data.join(valid_users, on=['user_id', 'timestamp'], how='inner')\n",
    "valid_data.repartition(1).write.mode('overwrite').saveAsTable('nsurkov.valid_data_last_user_answers')\n",
    "print('valid_data_saved')\n",
    "\n",
    "# Формирование выборки из ползователей, которые дали мало ответов\n",
    "valid_users = (\n",
    "    train_features.filter(F.col('user_answers_count') < 5)\n",
    "    .select('user_id', 'timestamp')\n",
    "    .limit(100000)\n",
    "    .drop_duplicates()\n",
    ")\n",
    "valid_data = data.join(valid_users, on=['user_id', 'timestamp'], how='inner')\n",
    "valid_data.repartition(1).write.mode('overwrite').saveAsTable('nsurkov.valid_data_first_user_answers')\n",
    "print('valid_data_saved')"
   ]
  },
  {
   "cell_type": "code",
   "execution_count": 8,
   "metadata": {},
   "outputs": [
    {
     "name": "stdout",
     "output_type": "stream",
     "text": [
      "CPU times: user 124 ms, sys: 26 ms, total: 150 ms\n",
      "Wall time: 7min 2s\n"
     ]
    }
   ],
   "source": [
    "%%time\n",
    "users_chars_full = (\n",
    "    full_train_df\n",
    "    .drop('content_id', 'row_id', 'task_container_id', 'user_answer', 'answered_correctly', \n",
    "          'prior_question_elapsed_time', 'prior_question_had_explanation', 'part', 'tags', \n",
    "          'question_elapsed_time_mean', 'question_had_explanation_mean', 'question_answers_count', \n",
    "          'question_correct_answers_count', 'question_user_var', 'question_correct_answers_mean')\n",
    ")\n",
    "# Формирование характеристик пользователя для валидационных выборок\n",
    "for table in ['valid_data_last_user_answers', 'valid_data_first_user_answers']:\n",
    "    tag = table[10:]\n",
    "    valid_users = spark.table('nsurkov.' + table).select('user_id', 'timestamp').drop_duplicates()\n",
    "    users_chars_full_valid = users_chars_full.join(valid_users, on=['user_id', 'timestamp'], how='left_anti')\n",
    "    user_last_answers= users_chars_full_valid.groupby('user_id').agg(F.max('user_answers_count').alias('user_answers_count')).drop_duplicates()\n",
    "    user_characteristics = (\n",
    "        users_chars_full_valid\n",
    "        .join(user_last_answers, on=['user_id', 'user_answers_count'], how='inner')\n",
    "        .drop_duplicates(['user_id', 'user_answers_count'])\n",
    "        .withColumn('timestamp', F.lit(-1))\n",
    "    )\n",
    "    user_characteristics.repartition(2).write.mode('overwrite').saveAsTable('nsurkov.users_characteristics' + tag)"
   ]
  },
  {
   "cell_type": "code",
   "execution_count": 9,
   "metadata": {},
   "outputs": [
    {
     "name": "stdout",
     "output_type": "stream",
     "text": [
      "CPU times: user 42.3 ms, sys: 18.8 ms, total: 61.2 ms\n",
      "Wall time: 3min\n"
     ]
    }
   ],
   "source": [
    "%%time\n",
    "users_chars_full = (\n",
    "    full_train_df\n",
    "    .drop('content_id', 'row_id', 'task_container_id', 'user_answer', 'answered_correctly', \n",
    "          'prior_question_elapsed_time', 'prior_question_had_explanation', 'part', 'tags', \n",
    "          'question_elapsed_time_mean', 'question_had_explanation_mean', 'question_answers_count', \n",
    "          'question_correct_answers_count', 'question_user_var', 'question_correct_answers_mean')\n",
    ")\n",
    "# Формирование характеристик пользователя полных\n",
    "user_last_answers= users_chars_full.groupby('user_id').agg(F.max('user_answers_count').alias('user_answers_count')).drop_duplicates()\n",
    "user_characteristics = (\n",
    "    users_chars_full\n",
    "    .join(user_last_answers, on=['user_id', 'user_answers_count'], how='inner')\n",
    "    .drop_duplicates(['user_id', 'user_answers_count'])\n",
    "    .withColumn('timestamp', F.lit(-1))\n",
    ")\n",
    "user_characteristics.repartition(2).write.mode('overwrite').saveAsTable('nsurkov.users_characteristics')"
   ]
  },
  {
   "cell_type": "markdown",
   "metadata": {},
   "source": [
    "# Собираем пандосовские датафреймы"
   ]
  },
  {
   "cell_type": "code",
   "execution_count": 2,
   "metadata": {},
   "outputs": [],
   "source": [
    "import pickle\n",
    "import gc"
   ]
  },
  {
   "cell_type": "code",
   "execution_count": 11,
   "metadata": {},
   "outputs": [
    {
     "name": "stdout",
     "output_type": "stream",
     "text": [
      "CPU times: user 11.9 s, sys: 4.3 s, total: 16.2 s\n",
      "Wall time: 47.8 s\n"
     ]
    }
   ],
   "source": [
    "%%time\n",
    "# Загрузка характеристик пользователей\n",
    "tables = ['users_characteristics', \n",
    "          'users_characteristics_last_user_answers',\n",
    "          'users_characteristics_first_user_answers']\n",
    "for table in tables:\n",
    "    df = spark.table('nsurkov.' + table).toPandas()\n",
    "    df['attempts_count'] = df['attempts_count'].astype(int)\n",
    "    df.drop(columns='attempts', inplace=True)\n",
    "    with open(table + '.pickle', 'wb') as fo:\n",
    "        pickle.dump(df, fo)\n",
    "    del df"
   ]
  },
  {
   "cell_type": "code",
   "execution_count": 12,
   "metadata": {},
   "outputs": [
    {
     "data": {
      "text/plain": [
       "38"
      ]
     },
     "execution_count": 12,
     "metadata": {},
     "output_type": "execute_result"
    }
   ],
   "source": [
    "gc.collect()"
   ]
  },
  {
   "cell_type": "code",
   "execution_count": 18,
   "metadata": {},
   "outputs": [
    {
     "name": "stdout",
     "output_type": "stream",
     "text": [
      "CPU times: user 1.78 s, sys: 64.1 ms, total: 1.85 s\n",
      "Wall time: 4.66 s\n"
     ]
    }
   ],
   "source": [
    "%%time\n",
    "# Загрузка валидационных выборок\n",
    "tables = ['valid_data_last_user_answers', 'valid_data_first_user_answers']\n",
    "for table in tables:\n",
    "    df = spark.table('nsurkov.' + table).toPandas()\n",
    "    with open(table + '.pickle', 'wb') as fo:\n",
    "        pickle.dump(df, fo)\n",
    "    del df"
   ]
  },
  {
   "cell_type": "code",
   "execution_count": 19,
   "metadata": {},
   "outputs": [
    {
     "data": {
      "text/plain": [
       "58"
      ]
     },
     "execution_count": 19,
     "metadata": {},
     "output_type": "execute_result"
    }
   ],
   "source": [
    "gc.collect()"
   ]
  },
  {
   "cell_type": "code",
   "execution_count": 13,
   "metadata": {},
   "outputs": [
    {
     "name": "stdout",
     "output_type": "stream",
     "text": [
      "CPU times: user 66.4 ms, sys: 7.14 ms, total: 73.6 ms\n",
      "Wall time: 3.5 s\n"
     ]
    },
    {
     "data": {
      "text/html": [
       "<div>\n",
       "<style scoped>\n",
       "    .dataframe tbody tr th:only-of-type {\n",
       "        vertical-align: middle;\n",
       "    }\n",
       "\n",
       "    .dataframe tbody tr th {\n",
       "        vertical-align: top;\n",
       "    }\n",
       "\n",
       "    .dataframe thead th {\n",
       "        text-align: right;\n",
       "    }\n",
       "</style>\n",
       "<table border=\"1\" class=\"dataframe\">\n",
       "  <thead>\n",
       "    <tr style=\"text-align: right;\">\n",
       "      <th></th>\n",
       "      <th>content_id</th>\n",
       "      <th>bundle_id</th>\n",
       "      <th>part</th>\n",
       "      <th>question_elapsed_time_mean</th>\n",
       "      <th>question_had_explanation_mean</th>\n",
       "      <th>question_answers_count</th>\n",
       "      <th>question_correct_answers_count</th>\n",
       "      <th>question_user_var</th>\n",
       "      <th>question_correct_answers_mean</th>\n",
       "    </tr>\n",
       "  </thead>\n",
       "  <tbody>\n",
       "    <tr>\n",
       "      <th>0</th>\n",
       "      <td>241</td>\n",
       "      <td>241</td>\n",
       "      <td>2</td>\n",
       "      <td>19889.152341</td>\n",
       "      <td>0.988935</td>\n",
       "      <td>10179</td>\n",
       "      <td>7949</td>\n",
       "      <td>0.886728</td>\n",
       "      <td>0.780922</td>\n",
       "    </tr>\n",
       "    <tr>\n",
       "      <th>1</th>\n",
       "      <td>449</td>\n",
       "      <td>449</td>\n",
       "      <td>2</td>\n",
       "      <td>19988.888889</td>\n",
       "      <td>0.972222</td>\n",
       "      <td>180</td>\n",
       "      <td>116</td>\n",
       "      <td>0.894444</td>\n",
       "      <td>0.644444</td>\n",
       "    </tr>\n",
       "    <tr>\n",
       "      <th>2</th>\n",
       "      <td>2443</td>\n",
       "      <td>2443</td>\n",
       "      <td>3</td>\n",
       "      <td>21074.275613</td>\n",
       "      <td>0.969959</td>\n",
       "      <td>7071</td>\n",
       "      <td>6001</td>\n",
       "      <td>0.882619</td>\n",
       "      <td>0.848678</td>\n",
       "    </tr>\n",
       "    <tr>\n",
       "      <th>3</th>\n",
       "      <td>2488</td>\n",
       "      <td>2488</td>\n",
       "      <td>3</td>\n",
       "      <td>27337.510215</td>\n",
       "      <td>0.973514</td>\n",
       "      <td>9770</td>\n",
       "      <td>8422</td>\n",
       "      <td>0.857114</td>\n",
       "      <td>0.862027</td>\n",
       "    </tr>\n",
       "    <tr>\n",
       "      <th>4</th>\n",
       "      <td>2721</td>\n",
       "      <td>2719</td>\n",
       "      <td>4</td>\n",
       "      <td>22766.415996</td>\n",
       "      <td>0.961126</td>\n",
       "      <td>4485</td>\n",
       "      <td>3102</td>\n",
       "      <td>0.870680</td>\n",
       "      <td>0.691639</td>\n",
       "    </tr>\n",
       "  </tbody>\n",
       "</table>\n",
       "</div>"
      ],
      "text/plain": [
       "   content_id  bundle_id  part  question_elapsed_time_mean  \\\n",
       "0         241        241     2                19889.152341   \n",
       "1         449        449     2                19988.888889   \n",
       "2        2443       2443     3                21074.275613   \n",
       "3        2488       2488     3                27337.510215   \n",
       "4        2721       2719     4                22766.415996   \n",
       "\n",
       "   question_had_explanation_mean  question_answers_count  \\\n",
       "0                       0.988935                   10179   \n",
       "1                       0.972222                     180   \n",
       "2                       0.969959                    7071   \n",
       "3                       0.973514                    9770   \n",
       "4                       0.961126                    4485   \n",
       "\n",
       "   question_correct_answers_count  question_user_var  \\\n",
       "0                            7949           0.886728   \n",
       "1                             116           0.894444   \n",
       "2                            6001           0.882619   \n",
       "3                            8422           0.857114   \n",
       "4                            3102           0.870680   \n",
       "\n",
       "   question_correct_answers_mean  \n",
       "0                       0.780922  \n",
       "1                       0.644444  \n",
       "2                       0.848678  \n",
       "3                       0.862027  \n",
       "4                       0.691639  "
      ]
     },
     "execution_count": 13,
     "metadata": {},
     "output_type": "execute_result"
    }
   ],
   "source": [
    "%%time\n",
    "questions_chars = spark.table('nsurkov.questions_chars').toPandas()\n",
    "with open('questions_chars.pickle', 'wb') as fo:\n",
    "    pickle.dump(questions_chars, fo)\n",
    "questions_chars.head()"
   ]
  },
  {
   "cell_type": "code",
   "execution_count": 21,
   "metadata": {},
   "outputs": [
    {
     "name": "stdout",
     "output_type": "stream",
     "text": [
      "+-----------+\n",
      "|max(row_id)|\n",
      "+-----------+\n",
      "|  101230331|\n",
      "+-----------+\n",
      "\n"
     ]
    }
   ],
   "source": [
    "# spark.table('nsurkov.train_data_for_model').select(F.max('row_id')).show()\n",
    "# 101230331"
   ]
  },
  {
   "cell_type": "code",
   "execution_count": 3,
   "metadata": {},
   "outputs": [
    {
     "name": "stdout",
     "output_type": "stream",
     "text": [
      "CPU times: user 2min 11s, sys: 41.5 s, total: 2min 52s\n",
      "Wall time: 3min 57s\n"
     ]
    },
    {
     "data": {
      "text/html": [
       "<div>\n",
       "<style scoped>\n",
       "    .dataframe tbody tr th:only-of-type {\n",
       "        vertical-align: middle;\n",
       "    }\n",
       "\n",
       "    .dataframe tbody tr th {\n",
       "        vertical-align: top;\n",
       "    }\n",
       "\n",
       "    .dataframe thead th {\n",
       "        text-align: right;\n",
       "    }\n",
       "</style>\n",
       "<table border=\"1\" class=\"dataframe\">\n",
       "  <thead>\n",
       "    <tr style=\"text-align: right;\">\n",
       "      <th></th>\n",
       "      <th>content_id</th>\n",
       "      <th>user_id</th>\n",
       "      <th>bundle_id</th>\n",
       "      <th>timestamp</th>\n",
       "      <th>row_id</th>\n",
       "      <th>answered_correctly</th>\n",
       "      <th>prior_question_elapsed_time</th>\n",
       "      <th>prior_question_had_explanation</th>\n",
       "      <th>part</th>\n",
       "      <th>user_answers_count</th>\n",
       "      <th>...</th>\n",
       "      <th>question_had_explanation_mean</th>\n",
       "      <th>question_answers_count</th>\n",
       "      <th>question_user_var</th>\n",
       "      <th>question_correct_answers_mean</th>\n",
       "      <th>user_accuracy</th>\n",
       "      <th>user_attempts_rate</th>\n",
       "      <th>user_bundle_content_count_sum</th>\n",
       "      <th>user_elapsed_time_mean</th>\n",
       "      <th>user_explanation_rate</th>\n",
       "      <th>user_delay_mean</th>\n",
       "    </tr>\n",
       "  </thead>\n",
       "  <tbody>\n",
       "    <tr>\n",
       "      <th>0</th>\n",
       "      <td>10054</td>\n",
       "      <td>1993563954</td>\n",
       "      <td>10054</td>\n",
       "      <td>159322343</td>\n",
       "      <td>93934511</td>\n",
       "      <td>1</td>\n",
       "      <td>23250.0</td>\n",
       "      <td>1</td>\n",
       "      <td>6</td>\n",
       "      <td>352</td>\n",
       "      <td>...</td>\n",
       "      <td>0.958010</td>\n",
       "      <td>5567</td>\n",
       "      <td>0.887911</td>\n",
       "      <td>0.835279</td>\n",
       "      <td>0.696023</td>\n",
       "      <td>1.028409</td>\n",
       "      <td>1002</td>\n",
       "      <td>13260.699601</td>\n",
       "      <td>0.339321</td>\n",
       "      <td>2238.258118</td>\n",
       "    </tr>\n",
       "    <tr>\n",
       "      <th>1</th>\n",
       "      <td>5318</td>\n",
       "      <td>2039378502</td>\n",
       "      <td>5318</td>\n",
       "      <td>203261</td>\n",
       "      <td>96138592</td>\n",
       "      <td>1</td>\n",
       "      <td>57000.0</td>\n",
       "      <td>0</td>\n",
       "      <td>5</td>\n",
       "      <td>7</td>\n",
       "      <td>...</td>\n",
       "      <td>0.289229</td>\n",
       "      <td>16417</td>\n",
       "      <td>0.870256</td>\n",
       "      <td>0.586465</td>\n",
       "      <td>0.285714</td>\n",
       "      <td>1.000000</td>\n",
       "      <td>6</td>\n",
       "      <td>33833.333333</td>\n",
       "      <td>0.000000</td>\n",
       "      <td>9082.906733</td>\n",
       "    </tr>\n",
       "    <tr>\n",
       "      <th>2</th>\n",
       "      <td>6249</td>\n",
       "      <td>1944375310</td>\n",
       "      <td>6249</td>\n",
       "      <td>11557190375</td>\n",
       "      <td>91596890</td>\n",
       "      <td>1</td>\n",
       "      <td>25000.0</td>\n",
       "      <td>1</td>\n",
       "      <td>5</td>\n",
       "      <td>241</td>\n",
       "      <td>...</td>\n",
       "      <td>0.989171</td>\n",
       "      <td>16782</td>\n",
       "      <td>0.851686</td>\n",
       "      <td>0.663747</td>\n",
       "      <td>0.780083</td>\n",
       "      <td>1.008299</td>\n",
       "      <td>324</td>\n",
       "      <td>15694.438272</td>\n",
       "      <td>0.648148</td>\n",
       "      <td>-1755.011544</td>\n",
       "    </tr>\n",
       "    <tr>\n",
       "      <th>3</th>\n",
       "      <td>8759</td>\n",
       "      <td>1944375310</td>\n",
       "      <td>8759</td>\n",
       "      <td>1976726592</td>\n",
       "      <td>91596802</td>\n",
       "      <td>1</td>\n",
       "      <td>41000.0</td>\n",
       "      <td>1</td>\n",
       "      <td>5</td>\n",
       "      <td>154</td>\n",
       "      <td>...</td>\n",
       "      <td>0.988738</td>\n",
       "      <td>4809</td>\n",
       "      <td>0.912872</td>\n",
       "      <td>0.583073</td>\n",
       "      <td>0.733766</td>\n",
       "      <td>1.000000</td>\n",
       "      <td>201</td>\n",
       "      <td>16597.004975</td>\n",
       "      <td>0.611940</td>\n",
       "      <td>-879.472801</td>\n",
       "    </tr>\n",
       "    <tr>\n",
       "      <th>4</th>\n",
       "      <td>3852</td>\n",
       "      <td>2091928018</td>\n",
       "      <td>3852</td>\n",
       "      <td>23426800745</td>\n",
       "      <td>98587928</td>\n",
       "      <td>1</td>\n",
       "      <td>22000.0</td>\n",
       "      <td>1</td>\n",
       "      <td>5</td>\n",
       "      <td>1414</td>\n",
       "      <td>...</td>\n",
       "      <td>0.991797</td>\n",
       "      <td>51908</td>\n",
       "      <td>0.854743</td>\n",
       "      <td>0.654157</td>\n",
       "      <td>0.495050</td>\n",
       "      <td>1.212871</td>\n",
       "      <td>1563</td>\n",
       "      <td>31308.374280</td>\n",
       "      <td>0.882278</td>\n",
       "      <td>11233.050716</td>\n",
       "    </tr>\n",
       "  </tbody>\n",
       "</table>\n",
       "<p>5 rows × 22 columns</p>\n",
       "</div>"
      ],
      "text/plain": [
       "   content_id     user_id  bundle_id    timestamp    row_id  \\\n",
       "0       10054  1993563954      10054    159322343  93934511   \n",
       "1        5318  2039378502       5318       203261  96138592   \n",
       "2        6249  1944375310       6249  11557190375  91596890   \n",
       "3        8759  1944375310       8759   1976726592  91596802   \n",
       "4        3852  2091928018       3852  23426800745  98587928   \n",
       "\n",
       "   answered_correctly  prior_question_elapsed_time  \\\n",
       "0                   1                      23250.0   \n",
       "1                   1                      57000.0   \n",
       "2                   1                      25000.0   \n",
       "3                   1                      41000.0   \n",
       "4                   1                      22000.0   \n",
       "\n",
       "   prior_question_had_explanation  part  user_answers_count  ...  \\\n",
       "0                               1     6                 352  ...   \n",
       "1                               0     5                   7  ...   \n",
       "2                               1     5                 241  ...   \n",
       "3                               1     5                 154  ...   \n",
       "4                               1     5                1414  ...   \n",
       "\n",
       "   question_had_explanation_mean  question_answers_count  question_user_var  \\\n",
       "0                       0.958010                    5567           0.887911   \n",
       "1                       0.289229                   16417           0.870256   \n",
       "2                       0.989171                   16782           0.851686   \n",
       "3                       0.988738                    4809           0.912872   \n",
       "4                       0.991797                   51908           0.854743   \n",
       "\n",
       "   question_correct_answers_mean  user_accuracy  user_attempts_rate  \\\n",
       "0                       0.835279       0.696023            1.028409   \n",
       "1                       0.586465       0.285714            1.000000   \n",
       "2                       0.663747       0.780083            1.008299   \n",
       "3                       0.583073       0.733766            1.000000   \n",
       "4                       0.654157       0.495050            1.212871   \n",
       "\n",
       "   user_bundle_content_count_sum  user_elapsed_time_mean  \\\n",
       "0                           1002            13260.699601   \n",
       "1                              6            33833.333333   \n",
       "2                            324            15694.438272   \n",
       "3                            201            16597.004975   \n",
       "4                           1563            31308.374280   \n",
       "\n",
       "   user_explanation_rate  user_delay_mean  \n",
       "0               0.339321      2238.258118  \n",
       "1               0.000000      9082.906733  \n",
       "2               0.648148     -1755.011544  \n",
       "3               0.611940      -879.472801  \n",
       "4               0.882278     11233.050716  \n",
       "\n",
       "[5 rows x 22 columns]"
      ]
     },
     "execution_count": 3,
     "metadata": {},
     "output_type": "execute_result"
    }
   ],
   "source": [
    "%%time\n",
    "train_data = (\n",
    "    spark.table('nsurkov.train_data_for_model')\n",
    "    .filter(F.col('row_id') > (101230331 - 10000000))\n",
    ").toPandas()\n",
    "with open('train_data_part1.pickle', 'wb') as fo:\n",
    "    pickle.dump(train_data, fo)\n",
    "train_data.head()"
   ]
  },
  {
   "cell_type": "code",
   "execution_count": 3,
   "metadata": {},
   "outputs": [
    {
     "name": "stdout",
     "output_type": "stream",
     "text": [
      "CPU times: user 2min 10s, sys: 42.6 s, total: 2min 52s\n",
      "Wall time: 4min 24s\n"
     ]
    },
    {
     "data": {
      "text/html": [
       "<div>\n",
       "<style scoped>\n",
       "    .dataframe tbody tr th:only-of-type {\n",
       "        vertical-align: middle;\n",
       "    }\n",
       "\n",
       "    .dataframe tbody tr th {\n",
       "        vertical-align: top;\n",
       "    }\n",
       "\n",
       "    .dataframe thead th {\n",
       "        text-align: right;\n",
       "    }\n",
       "</style>\n",
       "<table border=\"1\" class=\"dataframe\">\n",
       "  <thead>\n",
       "    <tr style=\"text-align: right;\">\n",
       "      <th></th>\n",
       "      <th>content_id</th>\n",
       "      <th>user_id</th>\n",
       "      <th>bundle_id</th>\n",
       "      <th>timestamp</th>\n",
       "      <th>row_id</th>\n",
       "      <th>answered_correctly</th>\n",
       "      <th>prior_question_elapsed_time</th>\n",
       "      <th>prior_question_had_explanation</th>\n",
       "      <th>part</th>\n",
       "      <th>user_answers_count</th>\n",
       "      <th>...</th>\n",
       "      <th>question_had_explanation_mean</th>\n",
       "      <th>question_answers_count</th>\n",
       "      <th>question_user_var</th>\n",
       "      <th>question_correct_answers_mean</th>\n",
       "      <th>user_accuracy</th>\n",
       "      <th>user_attempts_rate</th>\n",
       "      <th>user_bundle_content_count_sum</th>\n",
       "      <th>user_elapsed_time_mean</th>\n",
       "      <th>user_explanation_rate</th>\n",
       "      <th>user_delay_mean</th>\n",
       "    </tr>\n",
       "  </thead>\n",
       "  <tbody>\n",
       "    <tr>\n",
       "      <th>0</th>\n",
       "      <td>3728</td>\n",
       "      <td>1912870039</td>\n",
       "      <td>3728</td>\n",
       "      <td>213893</td>\n",
       "      <td>90053157</td>\n",
       "      <td>0</td>\n",
       "      <td>43000.0</td>\n",
       "      <td>0</td>\n",
       "      <td>5</td>\n",
       "      <td>6</td>\n",
       "      <td>...</td>\n",
       "      <td>0.846117</td>\n",
       "      <td>14525</td>\n",
       "      <td>0.828296</td>\n",
       "      <td>0.479312</td>\n",
       "      <td>0.500000</td>\n",
       "      <td>1.000000</td>\n",
       "      <td>5</td>\n",
       "      <td>37600.000000</td>\n",
       "      <td>0.000000</td>\n",
       "      <td>10446.629258</td>\n",
       "    </tr>\n",
       "    <tr>\n",
       "      <th>1</th>\n",
       "      <td>6266</td>\n",
       "      <td>1772757000</td>\n",
       "      <td>6266</td>\n",
       "      <td>8033921177</td>\n",
       "      <td>83198063</td>\n",
       "      <td>0</td>\n",
       "      <td>27333.0</td>\n",
       "      <td>1</td>\n",
       "      <td>5</td>\n",
       "      <td>2349</td>\n",
       "      <td>...</td>\n",
       "      <td>0.960705</td>\n",
       "      <td>26727</td>\n",
       "      <td>0.825906</td>\n",
       "      <td>0.514274</td>\n",
       "      <td>0.646658</td>\n",
       "      <td>1.094508</td>\n",
       "      <td>6358</td>\n",
       "      <td>12227.880623</td>\n",
       "      <td>0.358131</td>\n",
       "      <td>2092.111272</td>\n",
       "    </tr>\n",
       "    <tr>\n",
       "      <th>2</th>\n",
       "      <td>2791</td>\n",
       "      <td>1738178997</td>\n",
       "      <td>2791</td>\n",
       "      <td>2400806127</td>\n",
       "      <td>81686476</td>\n",
       "      <td>0</td>\n",
       "      <td>12000.0</td>\n",
       "      <td>1</td>\n",
       "      <td>4</td>\n",
       "      <td>989</td>\n",
       "      <td>...</td>\n",
       "      <td>0.961220</td>\n",
       "      <td>4597</td>\n",
       "      <td>0.908636</td>\n",
       "      <td>0.778334</td>\n",
       "      <td>0.535895</td>\n",
       "      <td>1.352882</td>\n",
       "      <td>1860</td>\n",
       "      <td>10831.694086</td>\n",
       "      <td>0.518280</td>\n",
       "      <td>-3116.645613</td>\n",
       "    </tr>\n",
       "    <tr>\n",
       "      <th>3</th>\n",
       "      <td>6788</td>\n",
       "      <td>1762007735</td>\n",
       "      <td>6785</td>\n",
       "      <td>173677404</td>\n",
       "      <td>82739142</td>\n",
       "      <td>0</td>\n",
       "      <td>35750.0</td>\n",
       "      <td>1</td>\n",
       "      <td>6</td>\n",
       "      <td>62</td>\n",
       "      <td>...</td>\n",
       "      <td>0.961276</td>\n",
       "      <td>18231</td>\n",
       "      <td>0.851571</td>\n",
       "      <td>0.731227</td>\n",
       "      <td>0.532258</td>\n",
       "      <td>1.000000</td>\n",
       "      <td>142</td>\n",
       "      <td>11168.985915</td>\n",
       "      <td>0.197183</td>\n",
       "      <td>374.863934</td>\n",
       "    </tr>\n",
       "    <tr>\n",
       "      <th>4</th>\n",
       "      <td>1062</td>\n",
       "      <td>1857437153</td>\n",
       "      <td>1062</td>\n",
       "      <td>1802691269</td>\n",
       "      <td>87302040</td>\n",
       "      <td>1</td>\n",
       "      <td>51400.0</td>\n",
       "      <td>1</td>\n",
       "      <td>2</td>\n",
       "      <td>94</td>\n",
       "      <td>...</td>\n",
       "      <td>0.989659</td>\n",
       "      <td>14002</td>\n",
       "      <td>0.832524</td>\n",
       "      <td>0.748679</td>\n",
       "      <td>0.648936</td>\n",
       "      <td>1.000000</td>\n",
       "      <td>161</td>\n",
       "      <td>13484.428571</td>\n",
       "      <td>0.391304</td>\n",
       "      <td>-1303.229357</td>\n",
       "    </tr>\n",
       "  </tbody>\n",
       "</table>\n",
       "<p>5 rows × 22 columns</p>\n",
       "</div>"
      ],
      "text/plain": [
       "   content_id     user_id  bundle_id   timestamp    row_id  \\\n",
       "0        3728  1912870039       3728      213893  90053157   \n",
       "1        6266  1772757000       6266  8033921177  83198063   \n",
       "2        2791  1738178997       2791  2400806127  81686476   \n",
       "3        6788  1762007735       6785   173677404  82739142   \n",
       "4        1062  1857437153       1062  1802691269  87302040   \n",
       "\n",
       "   answered_correctly  prior_question_elapsed_time  \\\n",
       "0                   0                      43000.0   \n",
       "1                   0                      27333.0   \n",
       "2                   0                      12000.0   \n",
       "3                   0                      35750.0   \n",
       "4                   1                      51400.0   \n",
       "\n",
       "   prior_question_had_explanation  part  user_answers_count  ...  \\\n",
       "0                               0     5                   6  ...   \n",
       "1                               1     5                2349  ...   \n",
       "2                               1     4                 989  ...   \n",
       "3                               1     6                  62  ...   \n",
       "4                               1     2                  94  ...   \n",
       "\n",
       "   question_had_explanation_mean  question_answers_count  question_user_var  \\\n",
       "0                       0.846117                   14525           0.828296   \n",
       "1                       0.960705                   26727           0.825906   \n",
       "2                       0.961220                    4597           0.908636   \n",
       "3                       0.961276                   18231           0.851571   \n",
       "4                       0.989659                   14002           0.832524   \n",
       "\n",
       "   question_correct_answers_mean  user_accuracy  user_attempts_rate  \\\n",
       "0                       0.479312       0.500000            1.000000   \n",
       "1                       0.514274       0.646658            1.094508   \n",
       "2                       0.778334       0.535895            1.352882   \n",
       "3                       0.731227       0.532258            1.000000   \n",
       "4                       0.748679       0.648936            1.000000   \n",
       "\n",
       "   user_bundle_content_count_sum  user_elapsed_time_mean  \\\n",
       "0                              5            37600.000000   \n",
       "1                           6358            12227.880623   \n",
       "2                           1860            10831.694086   \n",
       "3                            142            11168.985915   \n",
       "4                            161            13484.428571   \n",
       "\n",
       "   user_explanation_rate  user_delay_mean  \n",
       "0               0.000000     10446.629258  \n",
       "1               0.358131      2092.111272  \n",
       "2               0.518280     -3116.645613  \n",
       "3               0.197183       374.863934  \n",
       "4               0.391304     -1303.229357  \n",
       "\n",
       "[5 rows x 22 columns]"
      ]
     },
     "execution_count": 3,
     "metadata": {},
     "output_type": "execute_result"
    }
   ],
   "source": [
    "%%time\n",
    "train_data = (\n",
    "    spark.table('nsurkov.train_data_for_model')\n",
    "    .filter(\n",
    "        (F.col('row_id') > (101230331 - 20000000))\n",
    "        & (F.col('row_id') <= (101230331 - 10000000))\n",
    "    )\n",
    ").toPandas()\n",
    "with open('train_data_part2.pickle', 'wb') as fo:\n",
    "    pickle.dump(train_data, fo)\n",
    "train_data.head()"
   ]
  },
  {
   "cell_type": "markdown",
   "metadata": {},
   "source": [
    "# Черновик"
   ]
  },
  {
   "cell_type": "code",
   "execution_count": 2,
   "metadata": {},
   "outputs": [],
   "source": [
    "import pandas as pd\n",
    "import pickle"
   ]
  },
  {
   "cell_type": "code",
   "execution_count": 22,
   "metadata": {},
   "outputs": [],
   "source": [
    "with open('valid_data_table.pickle', 'rb') as fo:\n",
    "    valid_data_table = pickle.load(fo)\n",
    "with open('user_last_answers_valid.pickle', 'rb') as fo:\n",
    "    user_last_answers_valid = pickle.load(fo)"
   ]
  },
  {
   "cell_type": "code",
   "execution_count": 23,
   "metadata": {},
   "outputs": [
    {
     "data": {
      "text/html": [
       "<div>\n",
       "<style scoped>\n",
       "    .dataframe tbody tr th:only-of-type {\n",
       "        vertical-align: middle;\n",
       "    }\n",
       "\n",
       "    .dataframe tbody tr th {\n",
       "        vertical-align: top;\n",
       "    }\n",
       "\n",
       "    .dataframe thead th {\n",
       "        text-align: right;\n",
       "    }\n",
       "</style>\n",
       "<table border=\"1\" class=\"dataframe\">\n",
       "  <thead>\n",
       "    <tr style=\"text-align: right;\">\n",
       "      <th></th>\n",
       "      <th>user_id</th>\n",
       "      <th>timestamp</th>\n",
       "    </tr>\n",
       "  </thead>\n",
       "  <tbody>\n",
       "  </tbody>\n",
       "</table>\n",
       "</div>"
      ],
      "text/plain": [
       "Empty DataFrame\n",
       "Columns: [user_id, timestamp]\n",
       "Index: []"
      ]
     },
     "execution_count": 23,
     "metadata": {},
     "output_type": "execute_result"
    }
   ],
   "source": [
    "valid_data_table[['user_id', 'timestamp']].drop_duplicates().merge(user_last_answers_valid[['user_id', 'timestamp']].drop_duplicates(), on=['user_id', 'timestamp'], how='inner')"
   ]
  },
  {
   "cell_type": "code",
   "execution_count": null,
   "metadata": {},
   "outputs": [],
   "source": [
    "last_answers_df.limit(10).show()"
   ]
  },
  {
   "cell_type": "code",
   "execution_count": 20,
   "metadata": {},
   "outputs": [
    {
     "data": {
      "text/plain": [
       "[('user_id', 'int'), ('bundle_id', 'string'), ('timestamp', 'bigint')]"
      ]
     },
     "execution_count": 20,
     "metadata": {},
     "output_type": "execute_result"
    }
   ],
   "source": [
    "user_last_answers_times.dtypes"
   ]
  },
  {
   "cell_type": "code",
   "execution_count": 34,
   "metadata": {},
   "outputs": [],
   "source": [
    "import numpy as np"
   ]
  },
  {
   "cell_type": "code",
   "execution_count": 11,
   "metadata": {},
   "outputs": [
    {
     "name": "stdout",
     "output_type": "stream",
     "text": [
      "+-------+---------+-------+-----------+\n",
      "|user_id|timestamp|content|content_int|\n",
      "+-------+---------+-------+-----------+\n",
      "|      1|        1|     1,|          0|\n",
      "|      1|        2|     2,|          1|\n",
      "|      1|        3|     3,|          2|\n",
      "|      1|        4|     4,|          3|\n",
      "|      1|        5|     2,|          4|\n",
      "+-------+---------+-------+-----------+\n",
      "\n"
     ]
    }
   ],
   "source": [
    "table = spark.createDataFrame(pd.DataFrame({\n",
    "    'user_id': ['1'] * 5,\n",
    "    'timestamp': [1, 2, 3, 4, 5],\n",
    "    'content': [' 1,', ' 2,', ' 3,', ' 4,', ' 2,'],\n",
    "    'content_int': [i for i in range(5)]\n",
    "}))\n",
    "table.show()"
   ]
  },
  {
   "cell_type": "code",
   "execution_count": 16,
   "metadata": {},
   "outputs": [
    {
     "name": "stdout",
     "output_type": "stream",
     "text": [
      "+-------+---------+-------+-----------+-----------+\n",
      "|user_id|timestamp|content|content_int|content_str|\n",
      "+-------+---------+-------+-----------+-----------+\n",
      "|      1|        1|     1,|          0|         0,|\n",
      "|      1|        2|     2,|          1|         1,|\n",
      "|      1|        3|     3,|          2|         2,|\n",
      "|      1|        4|     4,|          3|         3,|\n",
      "|      1|        5|     2,|          4|         4,|\n",
      "+-------+---------+-------+-----------+-----------+\n",
      "\n"
     ]
    }
   ],
   "source": [
    "table.withColumn('content_str', F.concat(F.col('content_int').cast('string'), F.lit(','))).show()"
   ]
  },
  {
   "cell_type": "code",
   "execution_count": 7,
   "metadata": {},
   "outputs": [
    {
     "name": "stdout",
     "output_type": "stream",
     "text": [
      "+-------+---------+-------+---------------+\n",
      "|user_id|timestamp|content|         cumsum|\n",
      "+-------+---------+-------+---------------+\n",
      "|      1|        1|     1,|             1,|\n",
      "|      1|        2|     2,|          1, 2,|\n",
      "|      1|        3|     3,|       1, 2, 3,|\n",
      "|      1|        4|     4,|    1, 2, 3, 4,|\n",
      "|      1|        5|     2,| 1, 2, 3, 4, 2,|\n",
      "+-------+---------+-------+---------------+\n",
      "\n"
     ]
    }
   ],
   "source": [
    "win_spec = Window.partitionBy('user_id').orderBy('timestamp')\n",
    "table_cumsum = (\n",
    "    table.withColumn('cumsum', F.collect_list('content').over(win_spec))\n",
    "    .withColumn('cumsum', F.array_join(\"cumsum\", ''))\n",
    ")\n",
    "table_cumsum.show()"
   ]
  },
  {
   "cell_type": "code",
   "execution_count": 10,
   "metadata": {},
   "outputs": [
    {
     "name": "stdout",
     "output_type": "stream",
     "text": [
      "+-------+---------+-------+---------------+--------+\n",
      "|user_id|timestamp|content|         cumsum|attempts|\n",
      "+-------+---------+-------+---------------+--------+\n",
      "|      1|        1|     1,|             1,|       1|\n",
      "|      1|        2|     2,|          1, 2,|       1|\n",
      "|      1|        3|     3,|       1, 2, 3,|       1|\n",
      "|      1|        4|     4,|    1, 2, 3, 4,|       1|\n",
      "|      1|        5|     2,| 1, 2, 3, 4, 2,|       2|\n",
      "+-------+---------+-------+---------------+--------+\n",
      "\n"
     ]
    }
   ],
   "source": [
    "import re\n",
    "attemts_udf = F.udf(lambda x: len(re.findall(x[0], x[1])))\n",
    "table_cumsum.withColumn('attempts', attemts_udf(F.struct('content', 'cumsum'))).show()"
   ]
  },
  {
   "cell_type": "code",
   "execution_count": 2,
   "metadata": {},
   "outputs": [],
   "source": [
    "df = spark.sql('SHOW TABLES IN nsurkov').toPandas()"
   ]
  },
  {
   "cell_type": "code",
   "execution_count": 3,
   "metadata": {},
   "outputs": [],
   "source": [
    "for table in df.tableName:\n",
    "    print(table)"
   ]
  },
  {
   "cell_type": "code",
   "execution_count": 13,
   "metadata": {},
   "outputs": [],
   "source": [
    "for table in df.tableName:\n",
    "    sql_q = 'DROP TABLE nsurkov.{}'.format(table)\n",
    "    spark.sql(sql_q)"
   ]
  },
  {
   "cell_type": "code",
   "execution_count": null,
   "metadata": {},
   "outputs": [],
   "source": []
  }
 ],
 "metadata": {
  "kernelspec": {
   "display_name": "Python 3",
   "language": "python",
   "name": "python3"
  },
  "language_info": {
   "codemirror_mode": {
    "name": "ipython",
    "version": 3
   },
   "file_extension": ".py",
   "mimetype": "text/x-python",
   "name": "python",
   "nbconvert_exporter": "python",
   "pygments_lexer": "ipython3",
   "version": "3.7.9"
  }
 },
 "nbformat": 4,
 "nbformat_minor": 4
}
